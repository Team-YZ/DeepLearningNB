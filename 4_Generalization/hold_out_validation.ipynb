{
 "cells": [
  {
   "cell_type": "code",
   "execution_count": 1,
   "metadata": {},
   "outputs": [],
   "source": [
    "import numpy as np"
   ]
  },
  {
   "cell_type": "code",
   "execution_count": null,
   "metadata": {},
   "outputs": [],
   "source": [
    "# # All Pseudo code becuase that's how it is in the book\n",
    "# num_validation_samples = 1000\n",
    "# np.random.shuffle(data)\n",
    "# validation_data = data[:num_validation_samples]\n",
    "# training_data = data[num_validation_samples:]\n",
    "# model = get_model()\n",
    "# mode.fit(training_data, ...)\n",
    "# validation_score = model.evalbuate(validation_data, ...)\n",
    "# ... # At this point you can tune your model, retrain it, evaluate it, tune it again.\n",
    "# model = get_model()\n",
    "# model.fit(np.concatenate([training_data, validation_data]), ...)\n",
    "# test_score = model.evaluate(test_data, ...)"
   ]
  },
  {
   "cell_type": "markdown",
   "metadata": {},
   "source": [
    "TODO: Turn this into actual code"
   ]
  }
 ],
 "metadata": {
  "kernelspec": {
   "display_name": "Python 3",
   "language": "python",
   "name": "python3"
  },
  "language_info": {
   "codemirror_mode": {
    "name": "ipython",
    "version": 3
   },
   "file_extension": ".py",
   "mimetype": "text/x-python",
   "name": "python",
   "nbconvert_exporter": "python",
   "pygments_lexer": "ipython3",
   "version": "3.11.9"
  }
 },
 "nbformat": 4,
 "nbformat_minor": 2
}
