{
 "cells": [
  {
   "cell_type": "code",
   "execution_count": 1,
   "metadata": {},
   "outputs": [],
   "source": [
    "import numpy as np"
   ]
  },
  {
   "cell_type": "code",
   "execution_count": null,
   "metadata": {},
   "outputs": [],
   "source": [
    "# # All Pseudo code becuase that's how it is in the book\n",
    "# num_validation_samples = 1000\n",
    "# np.random.shuffle(data)\n",
    "# validation_data = data[:num_validation_samples]\n",
    "# training_data = data[num_validation_samples:]\n",
    "# model = get_model()\n",
    "# mode.fit(training_data, ...)\n",
    "# validation_score = model.evalbuate(validation_data, ...)\n",
    "# ... # At this point you can tune your model, retrain it, evaluate it, tune it again.\n",
    "# model = get_model()\n",
    "# model.fit(np.concatenate([training_data, validation_data]), ...)\n",
    "# test_score = model.evaluate(test_data, ...)"
   ]
  },
  {
   "cell_type": "code",
   "execution_count": null,
   "metadata": {},
   "outputs": [],
   "source": [
    "# # K-fold cross-validation\n",
    "# k = 3\n",
    "# num_validation_samples = len(data) // k\n",
    "# np.random.shuffle(data)\n",
    "# validation_scores = []\n",
    "# for fold in range(k):\n",
    "#     validation_data = data[num_validation_samples * fold:\n",
    "#                           num_validation_samples * (fold + 1)]\n",
    "#     training_data = data[:num_validation_samples * fold] +\n",
    "#                     data[num_validation_samples * (fold + 1):]\n",
    "#     model = get_model()\n",
    "#     model.fit(training_data, ...)\n",
    "#     validation_score = model.evaluate(validation_data, ...)\n",
    "#     validation_scores.append(validation_score)\n",
    "# validation_score = np.average(validation_scores)\n",
    "# model = get_model()\n",
    "# model.fit(data, ...)\n",
    "# test_score = model.evaluate(test_data, ...)"
   ]
  },
  {
   "cell_type": "markdown",
   "metadata": {},
   "source": [
    "TODO: Turn this into actual code"
   ]
  }
 ],
 "metadata": {
  "kernelspec": {
   "display_name": "Python 3",
   "language": "python",
   "name": "python3"
  },
  "language_info": {
   "codemirror_mode": {
    "name": "ipython",
    "version": 3
   },
   "file_extension": ".py",
   "mimetype": "text/x-python",
   "name": "python",
   "nbconvert_exporter": "python",
   "pygments_lexer": "ipython3",
   "version": "3.11.9"
  }
 },
 "nbformat": 4,
 "nbformat_minor": 2
}
