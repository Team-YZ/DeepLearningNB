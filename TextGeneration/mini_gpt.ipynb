{
  "cells": [
    {
      "cell_type": "markdown",
      "metadata": {
        "id": "view-in-github",
        "colab_type": "text"
      },
      "source": [
        "<a href=\"https://colab.research.google.com/github/theSalted/DeepLearningNB/blob/main/TextGeneration/mini_gpt.ipynb\" target=\"_parent\"><img src=\"https://colab.research.google.com/assets/colab-badge.svg\" alt=\"Open In Colab\"/></a>"
      ]
    },
    {
      "cell_type": "markdown",
      "id": "bc3cc09d",
      "metadata": {
        "id": "bc3cc09d"
      },
      "source": [
        "# MiniGPT"
      ]
    },
    {
      "cell_type": "code",
      "execution_count": 1,
      "id": "64a5e7cd",
      "metadata": {
        "id": "64a5e7cd"
      },
      "outputs": [],
      "source": [
        "import os\n",
        "\n",
        "os.environ[\"XLA_PYTHON_CLIENT_MEM_FRACTION\"] = \"1.00\""
      ]
    },
    {
      "cell_type": "code",
      "execution_count": 2,
      "id": "11e39831",
      "metadata": {
        "id": "11e39831",
        "outputId": "8ce05367-6c7e-44b3-8a9c-aa18d0870bbb",
        "colab": {
          "base_uri": "https://localhost:8080/"
        }
      },
      "outputs": [
        {
          "output_type": "stream",
          "name": "stdout",
          "text": [
            "Downloading data from https://hf.co/datasets/mattdangerw/mini-c4/resolve/main/mini-c4.zip\n",
            "\u001b[1m1505728294/1505728294\u001b[0m \u001b[32m━━━━━━━━━━━━━━━━━━━━\u001b[0m\u001b[37m\u001b[0m \u001b[1m10s\u001b[0m 0us/step\n"
          ]
        }
      ],
      "source": [
        "import keras\n",
        "import pathlib\n",
        "\n",
        "extract_dir = keras.utils.get_file(\n",
        "    fname=\"mini-c4\",\n",
        "    origin=(\n",
        "        \"https://hf.co/datasets/mattdangerw/mini-c4/resolve/main/mini-c4.zip\"\n",
        "    ),\n",
        "    extract=True,\n",
        ")\n",
        "extract_dir = pathlib.Path(extract_dir) / \"mini-c4\""
      ]
    },
    {
      "cell_type": "code",
      "execution_count": 3,
      "id": "4be18ac0",
      "metadata": {
        "id": "4be18ac0",
        "outputId": "d22d02b4-d66b-4988-aa96-f6917b597859",
        "colab": {
          "base_uri": "https://localhost:8080/"
        }
      },
      "outputs": [
        {
          "output_type": "stream",
          "name": "stdout",
          "text": [
            "Beginners BBQ Class Taking Place in Missoula!\n",
            "Do you want to get better at making delicious BBQ? You\n"
          ]
        }
      ],
      "source": [
        "with open(extract_dir / \"shard0.txt\", \"r\") as f:\n",
        "    print(f.readline().replace(\"\\\\n\", \"\\n\")[:100])"
      ]
    },
    {
      "cell_type": "code",
      "execution_count": 4,
      "id": "3f7bab9d",
      "metadata": {
        "id": "3f7bab9d",
        "outputId": "fe9f499c-0f48-4a37-c2ac-bd63d54c2d62",
        "colab": {
          "base_uri": "https://localhost:8080/"
        }
      },
      "outputs": [
        {
          "output_type": "stream",
          "name": "stdout",
          "text": [
            "Downloading data from https://hf.co/mattdangerw/spiece/resolve/main/vocabulary.proto\n",
            "\u001b[1m499723/499723\u001b[0m \u001b[32m━━━━━━━━━━━━━━━━━━━━\u001b[0m\u001b[37m\u001b[0m \u001b[1m0s\u001b[0m 0us/step\n"
          ]
        }
      ],
      "source": [
        "import keras_hub\n",
        "import numpy as np\n",
        "\n",
        "vocabulary_file = keras.utils.get_file(\n",
        "    origin=\"https://hf.co/mattdangerw/spiece/resolve/main/vocabulary.proto\",\n",
        ")"
      ]
    },
    {
      "cell_type": "code",
      "source": [
        "tokenizer = keras_hub.tokenizers.SentencePieceTokenizer(vocabulary_file)"
      ],
      "metadata": {
        "id": "W2eo-KAbm1sZ"
      },
      "id": "W2eo-KAbm1sZ",
      "execution_count": 5,
      "outputs": []
    },
    {
      "cell_type": "code",
      "source": [
        "tokenizer.tokenize(\"The quick bron fox.\")"
      ],
      "metadata": {
        "id": "nAplF-GOm8Lw",
        "outputId": "989f7432-beb2-4365-f515-633889377e1e",
        "colab": {
          "base_uri": "https://localhost:8080/"
        }
      },
      "id": "nAplF-GOm8Lw",
      "execution_count": 6,
      "outputs": [
        {
          "output_type": "execute_result",
          "data": {
            "text/plain": [
              "<tf.Tensor: shape=(6,), dtype=int32, numpy=array([  450,  4996, 12246,  1701, 29916, 29889], dtype=int32)>"
            ]
          },
          "metadata": {},
          "execution_count": 6
        }
      ]
    },
    {
      "cell_type": "code",
      "source": [
        "tokenizer.detokenize([450, 4996, 12246, 1701, 29916, 29889])"
      ],
      "metadata": {
        "id": "_-Adh49znAG-",
        "outputId": "647c0df6-6faf-4afc-8e86-69b6ff01d878",
        "colab": {
          "base_uri": "https://localhost:8080/",
          "height": 35
        }
      },
      "id": "_-Adh49znAG-",
      "execution_count": 7,
      "outputs": [
        {
          "output_type": "execute_result",
          "data": {
            "text/plain": [
              "'The quick bron fox.'"
            ],
            "application/vnd.google.colaboratory.intrinsic+json": {
              "type": "string"
            }
          },
          "metadata": {},
          "execution_count": 7
        }
      ]
    },
    {
      "cell_type": "code",
      "source": [
        "import tensorflow as tf\n",
        "\n",
        "batch_size = 128\n",
        "sequence_length = 256\n",
        "suffix = np.array([tokenizer.token_to_id(\"<|endoftext|>\")])\n",
        "\n",
        "def read_file(filename):\n",
        "    ds = tf.data.TextLineDataset(filename)\n",
        "    ds = ds.map(lambda x: tf.strings.regex_replace(x, r\"\\\\n\", \"\\n\"))\n",
        "    ds = ds.map(tokenizer, num_parallel_calls=8)\n",
        "    return ds.map(lambda x: tf.concat([x, suffix], -1))\n",
        "\n",
        "files = [str(file) for file in extract_dir.glob(\"*.txt\")]\n",
        "ds = tf.data.Dataset.from_tensor_slices(files)\n",
        "ds = ds.interleave(read_file, cycle_length=32, num_parallel_calls=32)\n",
        "ds = ds.rebatch(sequence_length + 1, drop_remainder=True)\n",
        "ds = ds.map(lambda x: (x[:-1], x[1:]))\n",
        "ds = ds.batch(batch_size).prefetch(8)"
      ],
      "metadata": {
        "id": "eG9BTFrEnIPn"
      },
      "id": "eG9BTFrEnIPn",
      "execution_count": 8,
      "outputs": []
    },
    {
      "cell_type": "code",
      "source": [
        "num_batches = 29373\n",
        "num_val_batches = 500\n",
        "num_train_batches = num_batches - num_val_batches\n",
        "val_ds = ds.take(num_val_batches).repeat()\n",
        "train_ds = ds.skip(num_val_batches).repeat()"
      ],
      "metadata": {
        "id": "CK6VvjIwnmEd"
      },
      "id": "CK6VvjIwnmEd",
      "execution_count": 9,
      "outputs": []
    },
    {
      "cell_type": "code",
      "source": [
        "from keras import layers\n",
        "\n"
      ],
      "metadata": {
        "id": "l4jHPawhnodw"
      },
      "id": "l4jHPawhnodw",
      "execution_count": null,
      "outputs": []
    }
  ],
  "metadata": {
    "kernelspec": {
      "display_name": "Python 3",
      "name": "python3"
    },
    "language_info": {
      "codemirror_mode": {
        "name": "ipython",
        "version": 3
      },
      "file_extension": ".py",
      "mimetype": "text/x-python",
      "name": "python",
      "nbconvert_exporter": "python",
      "pygments_lexer": "ipython3",
      "version": "3.13.5"
    },
    "colab": {
      "provenance": [],
      "machine_shape": "hm",
      "gpuType": "A100",
      "include_colab_link": true
    },
    "accelerator": "GPU"
  },
  "nbformat": 4,
  "nbformat_minor": 5
}