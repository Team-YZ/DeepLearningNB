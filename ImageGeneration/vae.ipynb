{
 "cells": [
  {
   "cell_type": "markdown",
   "id": "f0d2ed67",
   "metadata": {},
   "source": [
    "# VAE Image Generation"
   ]
  },
  {
   "cell_type": "markdown",
   "id": "d6cb9217",
   "metadata": {},
   "source": []
  }
 ],
 "metadata": {
  "language_info": {
   "name": "python"
  }
 },
 "nbformat": 4,
 "nbformat_minor": 5
}
