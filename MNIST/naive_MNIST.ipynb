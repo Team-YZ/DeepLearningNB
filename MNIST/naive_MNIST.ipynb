{
 "cells": [
  {
   "cell_type": "code",
   "execution_count": 31,
   "metadata": {},
   "outputs": [],
   "source": [
    "import tensorflow as tf"
   ]
  },
  {
   "cell_type": "code",
   "execution_count": 32,
   "metadata": {},
   "outputs": [],
   "source": [
    "class NaiveDense:\n",
    "    def __init__(self, input_size, output_size, activation):\n",
    "        self.activation = activation\n",
    "        w_shape = (input_size, output_size)\n",
    "        w_initial_value = tf.random.uniform(w_shape, minval=0, maxval=1e-1)\n",
    "        self.W = tf.Variable(w_initial_value)\n",
    "\n",
    "        b_shape = (output_size,)\n",
    "\n",
    "        b_initial_value = tf.zeros(b_shape)\n",
    "        self.b = tf.Variable(b_initial_value)\n",
    "\n",
    "    def __call__(self, inputs):\n",
    "        return self.activation(tf.matmul(inputs, self.W) + self.b)\n",
    "    \n",
    "\n",
    "    @property\n",
    "    def weights(self):\n",
    "        return [self.W, self.b]\n",
    "    \n",
    "class NaiveSequential:\n",
    "    def __init__(self, layers):\n",
    "        self.layers = layers\n",
    "    \n",
    "    def __call__(self, inputs):\n",
    "        x = inputs \n",
    "        for layer in self.layers:\n",
    "            x = layer(x)\n",
    "        return x\n",
    "        \n",
    "    @property\n",
    "    def weights(self):\n",
    "        weights = []\n",
    "        for layer in self.layers:\n",
    "            weights += layer.weights\n",
    "        return weights"
   ]
  },
  {
   "cell_type": "code",
   "execution_count": 33,
   "metadata": {},
   "outputs": [],
   "source": [
    "model = NaiveSequential([\n",
    "    NaiveDense(input_size=28 * 28, output_size=512, activation=tf.nn.relu),\n",
    "    NaiveDense(input_size=512, output_size=10, activation=tf.nn.softmax)\n",
    "])\n",
    "\n",
    "assert len(model.weights) == 4"
   ]
  },
  {
   "cell_type": "code",
   "execution_count": 34,
   "metadata": {},
   "outputs": [],
   "source": [
    "import math\n",
    "\n",
    "class BatchGenerator:\n",
    "    def __init__(self, images, labels, batch_size=128):\n",
    "        assert len(images) == len(labels)\n",
    "\n",
    "        self.index = 0\n",
    "        self.images = images\n",
    "        self.labels = labels\n",
    "        self.batch_size = batch_size\n",
    "        self.num_batches = math.ceil(len(images) / batch_size)\n",
    "\n",
    "    def next(self):\n",
    "        images = self.images[self.index : self.index + self.batch_size]\n",
    "        labels = self.labels[self.index : self.index + self.batch_size]\n",
    "\n",
    "        self.index += self.batch_size\n",
    "        return images, labels"
   ]
  },
  {
   "cell_type": "code",
   "execution_count": 35,
   "metadata": {},
   "outputs": [],
   "source": [
    "def one_training_step(model, images_batch, labels_batch):\n",
    "    with tf.GradientTape() as tape:\n",
    "        predictions = model(images_batch)\n",
    "\n",
    "        per_sample_losses = tf.keras.losses.sparse_categorical_crossentropy(labels_batch, predictions)\n",
    "        average_loss = tf.reduce_mean(per_sample_losses)\n",
    "\n",
    "        gradients = tape.gradient(average_loss, model.weights)\n",
    "        update_weights(gradients, model.weights)\n",
    "        \n",
    "\n",
    "        return average_loss\n",
    "    \n",
    "learning_rate = 1e-3\n",
    "\n",
    "# def update_weights(gradients, weights):\n",
    "#     for g, w in zip(gradients, weights):\n",
    "#         w.assign_sub(g * learning_rate)"
   ]
  },
  {
   "cell_type": "code",
   "execution_count": 36,
   "metadata": {},
   "outputs": [],
   "source": [
    "from tensorflow.keras import optimizers\n",
    "\n",
    "optimizer = optimizers.SGD(learning_rate=1e-3)\n",
    "\n",
    "def update_weights(gradients, weights):\n",
    "    optimizer.apply_gradients(zip(gradients, weights))\n",
    " "
   ]
  },
  {
   "cell_type": "code",
   "execution_count": 37,
   "metadata": {},
   "outputs": [],
   "source": [
    "def fit(model, images, labels, epochs, batch_size=128):\n",
    "    for epoch_counter in range(epochs):\n",
    "        print(\"Epoch \", epoch_counter)\n",
    "        batch_generator = BatchGenerator(images, labels)\n",
    "        for batch_counter in range(batch_generator.num_batches):\n",
    "            images_batch, labels_batch = batch_generator.next()\n",
    "            loss = one_training_step(model, images_batch, labels_batch)\n",
    "            if batch_counter % 100 == 0:\n",
    "                print(f\"loss at batch {batch_counter}: {loss:.2f}\")\n"
   ]
  },
  {
   "cell_type": "code",
   "execution_count": 38,
   "metadata": {},
   "outputs": [],
   "source": [
    "import matplotlib.pyplot as plt\n",
    "from keras import datasets\n",
    "\n",
    "(train_images, train_labels), (test_images, test_labels) = datasets.mnist.load_data()"
   ]
  },
  {
   "cell_type": "code",
   "execution_count": 39,
   "metadata": {},
   "outputs": [],
   "source": [
    "(train_images, train_labels), (test_images, test_labels) = datasets.mnist.load_data()\n",
    "\n",
    "train_images = train_images.reshape((60000, 28 * 28))\n",
    "train_images = train_images.astype(\"float32\") / 255\n",
    "\n",
    "test_images = test_images.reshape((10000, 28 * 28))\n",
    "test_images = test_images.astype(\"float32\") / 255"
   ]
  },
  {
   "cell_type": "code",
   "execution_count": 40,
   "metadata": {},
   "outputs": [
    {
     "name": "stdout",
     "output_type": "stream",
     "text": [
      "Epoch  0\n",
      "loss at batch 0: 6.34\n",
      "loss at batch 100: 2.23\n",
      "loss at batch 200: 2.20\n",
      "loss at batch 300: 2.08\n",
      "loss at batch 400: 2.19\n",
      "Epoch  1\n",
      "loss at batch 0: 1.89\n",
      "loss at batch 100: 1.88\n",
      "loss at batch 200: 1.83\n",
      "loss at batch 300: 1.72\n",
      "loss at batch 400: 1.81\n",
      "Epoch  2\n",
      "loss at batch 0: 1.57\n",
      "loss at batch 100: 1.58\n",
      "loss at batch 200: 1.51\n",
      "loss at batch 300: 1.43\n",
      "loss at batch 400: 1.51\n",
      "Epoch  3\n",
      "loss at batch 0: 1.32\n",
      "loss at batch 100: 1.35\n",
      "loss at batch 200: 1.24\n",
      "loss at batch 300: 1.21\n",
      "loss at batch 400: 1.28\n",
      "Epoch  4\n",
      "loss at batch 0: 1.12\n",
      "loss at batch 100: 1.17\n",
      "loss at batch 200: 1.04\n",
      "loss at batch 300: 1.05\n",
      "loss at batch 400: 1.11\n",
      "Epoch  5\n",
      "loss at batch 0: 0.98\n",
      "loss at batch 100: 1.03\n",
      "loss at batch 200: 0.90\n",
      "loss at batch 300: 0.93\n",
      "loss at batch 400: 0.99\n",
      "Epoch  6\n",
      "loss at batch 0: 0.87\n",
      "loss at batch 100: 0.92\n",
      "loss at batch 200: 0.80\n",
      "loss at batch 300: 0.84\n",
      "loss at batch 400: 0.90\n",
      "Epoch  7\n",
      "loss at batch 0: 0.79\n",
      "loss at batch 100: 0.84\n",
      "loss at batch 200: 0.72\n",
      "loss at batch 300: 0.77\n",
      "loss at batch 400: 0.83\n",
      "Epoch  8\n",
      "loss at batch 0: 0.73\n",
      "loss at batch 100: 0.77\n",
      "loss at batch 200: 0.66\n",
      "loss at batch 300: 0.72\n",
      "loss at batch 400: 0.78\n",
      "Epoch  9\n",
      "loss at batch 0: 0.68\n",
      "loss at batch 100: 0.72\n",
      "loss at batch 200: 0.61\n",
      "loss at batch 300: 0.67\n",
      "loss at batch 400: 0.74\n"
     ]
    }
   ],
   "source": [
    "fit(model, train_images, train_labels, epochs=10, batch_size=128)"
   ]
  },
  {
   "cell_type": "code",
   "execution_count": 41,
   "metadata": {},
   "outputs": [
    {
     "name": "stdout",
     "output_type": "stream",
     "text": [
      "accuracy: 0.82\n"
     ]
    }
   ],
   "source": [
    "import numpy as np\n",
    "\n",
    "predictions = model(test_images)\n",
    "predictions = predictions.numpy()\n",
    "predicted_labels = np.argmax(predictions, axis=1)\n",
    "matches = predicted_labels == test_labels\n",
    "\n",
    "print(f\"accuracy: {matches.mean():.2f}\")\n"
   ]
  }
 ],
 "metadata": {
  "kernelspec": {
   "display_name": "default",
   "language": "python",
   "name": "python3"
  },
  "language_info": {
   "codemirror_mode": {
    "name": "ipython",
    "version": 3
   },
   "file_extension": ".py",
   "mimetype": "text/x-python",
   "name": "python",
   "nbconvert_exporter": "python",
   "pygments_lexer": "ipython3",
   "version": "3.12.10"
  }
 },
 "nbformat": 4,
 "nbformat_minor": 2
}
