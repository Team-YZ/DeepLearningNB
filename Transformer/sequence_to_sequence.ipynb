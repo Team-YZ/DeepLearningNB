{
  "cells": [
    {
      "cell_type": "markdown",
      "metadata": {
        "id": "view-in-github",
        "colab_type": "text"
      },
      "source": [
        "<a href=\"https://colab.research.google.com/github/theSalted/DeepLearningNB/blob/main/Transformer/sequence_to_sequence.ipynb\" target=\"_parent\"><img src=\"https://colab.research.google.com/assets/colab-badge.svg\" alt=\"Open In Colab\"/></a>"
      ]
    },
    {
      "cell_type": "markdown",
      "id": "e04f03b8",
      "metadata": {
        "id": "e04f03b8"
      },
      "source": [
        "# English to Spanish Translation"
      ]
    },
    {
      "cell_type": "markdown",
      "id": "8686a412",
      "metadata": {
        "id": "8686a412"
      },
      "source": [
        "## GRU"
      ]
    },
    {
      "cell_type": "code",
      "execution_count": 5,
      "id": "b797922f",
      "metadata": {
        "id": "b797922f"
      },
      "outputs": [],
      "source": [
        "import pathlib\n",
        "import keras\n",
        "\n",
        "zip_path = keras.utils.get_file(\n",
        "    origin=(\n",
        "        \"http://storage.googleapis.com/download.tensorflow.org/data/spa-eng.zip\"\n",
        "    ),\n",
        "    fname=\"spa-eng\",\n",
        "    extract=True,\n",
        ")\n",
        "text_path = pathlib.Path(zip_path) / \"spa-eng\" / \"spa.txt\"\n",
        "# text_path = pathlib.Path(zip_path).parent / \"spa-eng\" / \"spa.txt\""
      ]
    },
    {
      "cell_type": "code",
      "execution_count": 6,
      "id": "c3804353",
      "metadata": {
        "id": "c3804353"
      },
      "outputs": [],
      "source": [
        "with open(text_path) as f:\n",
        "    lines = f.read().split(\"\\n\")[:-1]\n",
        "text_pairs = []\n",
        "for line in lines:\n",
        "    english, spanish = line.split(\"\\t\")\n",
        "    spanish = \"[start] \" + spanish + \" [end]\"\n",
        "    text_pairs.append((english, spanish))"
      ]
    },
    {
      "cell_type": "code",
      "execution_count": 7,
      "id": "a9670130",
      "metadata": {
        "id": "a9670130",
        "outputId": "15265b33-daf0-46b1-9004-715d5432b5ac",
        "colab": {
          "base_uri": "https://localhost:8080/"
        }
      },
      "outputs": [
        {
          "output_type": "execute_result",
          "data": {
            "text/plain": [
              "('Take care of yourself.', '[start] Cuídate. [end]')"
            ]
          },
          "metadata": {},
          "execution_count": 7
        }
      ],
      "source": [
        "import random\n",
        "random.choice(text_pairs)"
      ]
    },
    {
      "cell_type": "code",
      "execution_count": 8,
      "id": "2350863a",
      "metadata": {
        "id": "2350863a"
      },
      "outputs": [],
      "source": [
        "import random\n",
        "\n",
        "random.shuffle(text_pairs)\n",
        "val_samples = int(0.15 * len(text_pairs))\n",
        "train_samples = len(text_pairs) - 2 * val_samples\n",
        "train_pairs = text_pairs[:train_samples]\n",
        "val_pairs = text_pairs[train_samples:train_samples + val_samples]\n",
        "test_pairs = text_pairs[train_samples + val_samples:]"
      ]
    },
    {
      "cell_type": "code",
      "execution_count": 9,
      "id": "53efb0f5",
      "metadata": {
        "id": "53efb0f5"
      },
      "outputs": [],
      "source": [
        "import string\n",
        "import re\n",
        "import tensorflow as tf\n",
        "\n",
        "strip_chars = string.punctuation + \"¿\"\n",
        "strip_chars = strip_chars.replace(\"[\", \"\")\n",
        "strip_chars = strip_chars.replace(\"]\", \"\")\n",
        "\n",
        "def custom_standarization(input_string):\n",
        "    lowercase = tf.strings.lower(input_string)\n",
        "    return tf.strings.regex_replace(\n",
        "        lowercase, f\"[{re.escape(strip_chars)}]\", \"\"\n",
        "    )\n",
        "\n",
        "vocab_size = 15000\n",
        "sequence_length = 20\n",
        "\n",
        "english_tokenizer = tf.keras.layers.TextVectorization(\n",
        "    max_tokens=vocab_size,\n",
        "    output_mode=\"int\",\n",
        "    output_sequence_length=sequence_length,\n",
        ")\n",
        "spanish_tokenizer = tf.keras.layers.TextVectorization(\n",
        "    max_tokens=vocab_size,\n",
        "    output_mode=\"int\",\n",
        "    output_sequence_length=sequence_length + 1,\n",
        "    standardize=custom_standarization,\n",
        ")\n",
        "\n",
        "train_english_texts = [pair[0] for pair in train_pairs]\n",
        "train_spanish_texts = [pair[1] for pair in train_pairs]\n",
        "english_tokenizer.adapt(train_english_texts)\n",
        "spanish_tokenizer.adapt(train_spanish_texts)\n"
      ]
    },
    {
      "cell_type": "code",
      "execution_count": 10,
      "id": "1af6c39e",
      "metadata": {
        "id": "1af6c39e"
      },
      "outputs": [],
      "source": [
        "batch_size = 64\n",
        "\n",
        "def format_dataset(eng, spa):\n",
        "    eng = english_tokenizer(eng)\n",
        "    spa = spanish_tokenizer(spa)\n",
        "    features = {\"english\": eng, \"spanish\": spa[:, :-1]}\n",
        "    labels = spa[:, 1:]\n",
        "    sample_weights = labels != 0\n",
        "    return features, labels, sample_weights\n",
        "\n",
        "def make_dataset(pairs):\n",
        "    eng_texts , spa_texts = zip(*pairs)\n",
        "    eng_texts = list(eng_texts)\n",
        "    spa_texts = list(spa_texts)\n",
        "    dataset = tf.data.Dataset.from_tensor_slices((eng_texts, spa_texts))\n",
        "    dataset = dataset.batch(batch_size)\n",
        "    dataset = dataset.map(format_dataset, num_parallel_calls=tf.data.AUTOTUNE)\n",
        "    return dataset.shuffle(2048).cache()\n",
        "\n",
        "train_ds = make_dataset(train_pairs)\n",
        "val_ds = make_dataset(val_pairs)"
      ]
    },
    {
      "cell_type": "code",
      "execution_count": 11,
      "id": "3ef437de",
      "metadata": {
        "id": "3ef437de",
        "outputId": "839a9707-09c0-43cb-ec98-95aecb6dae06",
        "colab": {
          "base_uri": "https://localhost:8080/"
        }
      },
      "outputs": [
        {
          "output_type": "stream",
          "name": "stdout",
          "text": [
            "(64, 20)\n",
            "(64, 20)\n",
            "(64, 20)\n",
            "(64, 20)\n"
          ]
        }
      ],
      "source": [
        "inputs, targets, sample_weights = next(iter(train_ds))\n",
        "print(inputs[\"english\"].shape)\n",
        "print(inputs[\"spanish\"].shape)\n",
        "print(targets.shape)\n",
        "print(sample_weights.shape)"
      ]
    },
    {
      "cell_type": "code",
      "execution_count": 12,
      "id": "32155c7e",
      "metadata": {
        "id": "32155c7e"
      },
      "outputs": [],
      "source": [
        "from keras import layers\n",
        "\n",
        "inputs = keras.Input(shape=(sequence_length,), dtype=\"int32\")\n",
        "x = layers.Embedding(input_dim=vocab_size, output_dim=128)(inputs)\n",
        "x = layers.LSTM(32, return_sequences=True)(x)\n",
        "outputs = layers.Dense(vocab_size, activation=\"softmax\")(x)\n",
        "model = keras.Model(inputs, outputs)"
      ]
    },
    {
      "cell_type": "code",
      "execution_count": 13,
      "id": "73694c9b",
      "metadata": {
        "id": "73694c9b"
      },
      "outputs": [],
      "source": [
        "embed_dim = 256\n",
        "hidden_dim = 1024\n",
        "\n",
        "source = keras.Input(shape=(None,), dtype=\"int32\", name=\"english\")\n",
        "x = layers.Embedding(vocab_size, embed_dim, mask_zero=True)(source)\n",
        "rnn_layer = layers.GRU(hidden_dim)\n",
        "rnn_layer = layers.Bidirectional(rnn_layer, merge_mode=\"sum\")\n",
        "encoder_output = rnn_layer(x)"
      ]
    },
    {
      "cell_type": "code",
      "execution_count": 14,
      "id": "6d19e7c0",
      "metadata": {
        "id": "6d19e7c0"
      },
      "outputs": [],
      "source": [
        "target = keras.Input(shape=(None,), dtype=\"int32\", name=\"spanish\")\n",
        "x = layers.Embedding(vocab_size, embed_dim, mask_zero=True)(target)\n",
        "rnn_layer = layers.GRU(hidden_dim, return_sequences=True)\n",
        "x = rnn_layer(x, initial_state=encoder_output)\n",
        "x = layers.Dropout(0.5)(x)\n",
        "target_predictions = layers.Dense(vocab_size, activation=\"softmax\")(x)\n",
        "seq2seq_rnn = keras.Model([source, target], target_predictions)"
      ]
    },
    {
      "cell_type": "code",
      "execution_count": 15,
      "id": "99a2aba6",
      "metadata": {
        "id": "99a2aba6",
        "outputId": "4c680898-3156-4065-e4c8-b436b8b2f9e2",
        "colab": {
          "base_uri": "https://localhost:8080/",
          "height": 513
        }
      },
      "outputs": [
        {
          "output_type": "display_data",
          "data": {
            "text/plain": [
              "\u001b[1mModel: \"functional_1\"\u001b[0m\n"
            ],
            "text/html": [
              "<pre style=\"white-space:pre;overflow-x:auto;line-height:normal;font-family:Menlo,'DejaVu Sans Mono',consolas,'Courier New',monospace\"><span style=\"font-weight: bold\">Model: \"functional_1\"</span>\n",
              "</pre>\n"
            ]
          },
          "metadata": {}
        },
        {
          "output_type": "display_data",
          "data": {
            "text/plain": [
              "┏━━━━━━━━━━━━━━━━━━━━━━━┳━━━━━━━━━━━━━━━━━━━┳━━━━━━━━━━━━━┳━━━━━━━━━━━━━━━━━━━━┓\n",
              "┃\u001b[1m \u001b[0m\u001b[1mLayer (type)         \u001b[0m\u001b[1m \u001b[0m┃\u001b[1m \u001b[0m\u001b[1mOutput Shape     \u001b[0m\u001b[1m \u001b[0m┃\u001b[1m \u001b[0m\u001b[1m    Param #\u001b[0m\u001b[1m \u001b[0m┃\u001b[1m \u001b[0m\u001b[1mConnected to      \u001b[0m\u001b[1m \u001b[0m┃\n",
              "┡━━━━━━━━━━━━━━━━━━━━━━━╇━━━━━━━━━━━━━━━━━━━╇━━━━━━━━━━━━━╇━━━━━━━━━━━━━━━━━━━━┩\n",
              "│ english (\u001b[38;5;33mInputLayer\u001b[0m)  │ (\u001b[38;5;45mNone\u001b[0m, \u001b[38;5;45mNone\u001b[0m)      │           \u001b[38;5;34m0\u001b[0m │ -                  │\n",
              "├───────────────────────┼───────────────────┼─────────────┼────────────────────┤\n",
              "│ spanish (\u001b[38;5;33mInputLayer\u001b[0m)  │ (\u001b[38;5;45mNone\u001b[0m, \u001b[38;5;45mNone\u001b[0m)      │           \u001b[38;5;34m0\u001b[0m │ -                  │\n",
              "├───────────────────────┼───────────────────┼─────────────┼────────────────────┤\n",
              "│ embedding_1           │ (\u001b[38;5;45mNone\u001b[0m, \u001b[38;5;45mNone\u001b[0m, \u001b[38;5;34m256\u001b[0m) │   \u001b[38;5;34m3,840,000\u001b[0m │ english[\u001b[38;5;34m0\u001b[0m][\u001b[38;5;34m0\u001b[0m]      │\n",
              "│ (\u001b[38;5;33mEmbedding\u001b[0m)           │                   │             │                    │\n",
              "├───────────────────────┼───────────────────┼─────────────┼────────────────────┤\n",
              "│ not_equal (\u001b[38;5;33mNotEqual\u001b[0m)  │ (\u001b[38;5;45mNone\u001b[0m, \u001b[38;5;45mNone\u001b[0m)      │           \u001b[38;5;34m0\u001b[0m │ english[\u001b[38;5;34m0\u001b[0m][\u001b[38;5;34m0\u001b[0m]      │\n",
              "├───────────────────────┼───────────────────┼─────────────┼────────────────────┤\n",
              "│ embedding_2           │ (\u001b[38;5;45mNone\u001b[0m, \u001b[38;5;45mNone\u001b[0m, \u001b[38;5;34m256\u001b[0m) │   \u001b[38;5;34m3,840,000\u001b[0m │ spanish[\u001b[38;5;34m0\u001b[0m][\u001b[38;5;34m0\u001b[0m]      │\n",
              "│ (\u001b[38;5;33mEmbedding\u001b[0m)           │                   │             │                    │\n",
              "├───────────────────────┼───────────────────┼─────────────┼────────────────────┤\n",
              "│ bidirectional         │ (\u001b[38;5;45mNone\u001b[0m, \u001b[38;5;34m1024\u001b[0m)      │   \u001b[38;5;34m7,876,608\u001b[0m │ embedding_1[\u001b[38;5;34m0\u001b[0m][\u001b[38;5;34m0\u001b[0m], │\n",
              "│ (\u001b[38;5;33mBidirectional\u001b[0m)       │                   │             │ not_equal[\u001b[38;5;34m0\u001b[0m][\u001b[38;5;34m0\u001b[0m]    │\n",
              "├───────────────────────┼───────────────────┼─────────────┼────────────────────┤\n",
              "│ gru_1 (\u001b[38;5;33mGRU\u001b[0m)           │ (\u001b[38;5;45mNone\u001b[0m, \u001b[38;5;45mNone\u001b[0m,      │   \u001b[38;5;34m3,938,304\u001b[0m │ embedding_2[\u001b[38;5;34m0\u001b[0m][\u001b[38;5;34m0\u001b[0m], │\n",
              "│                       │ \u001b[38;5;34m1024\u001b[0m)             │             │ bidirectional[\u001b[38;5;34m0\u001b[0m][\u001b[38;5;34m…\u001b[0m │\n",
              "├───────────────────────┼───────────────────┼─────────────┼────────────────────┤\n",
              "│ dropout (\u001b[38;5;33mDropout\u001b[0m)     │ (\u001b[38;5;45mNone\u001b[0m, \u001b[38;5;45mNone\u001b[0m,      │           \u001b[38;5;34m0\u001b[0m │ gru_1[\u001b[38;5;34m0\u001b[0m][\u001b[38;5;34m0\u001b[0m]        │\n",
              "│                       │ \u001b[38;5;34m1024\u001b[0m)             │             │                    │\n",
              "├───────────────────────┼───────────────────┼─────────────┼────────────────────┤\n",
              "│ dense_1 (\u001b[38;5;33mDense\u001b[0m)       │ (\u001b[38;5;45mNone\u001b[0m, \u001b[38;5;45mNone\u001b[0m,      │  \u001b[38;5;34m15,375,000\u001b[0m │ dropout[\u001b[38;5;34m0\u001b[0m][\u001b[38;5;34m0\u001b[0m]      │\n",
              "│                       │ \u001b[38;5;34m15000\u001b[0m)            │             │                    │\n",
              "└───────────────────────┴───────────────────┴─────────────┴────────────────────┘\n"
            ],
            "text/html": [
              "<pre style=\"white-space:pre;overflow-x:auto;line-height:normal;font-family:Menlo,'DejaVu Sans Mono',consolas,'Courier New',monospace\">┏━━━━━━━━━━━━━━━━━━━━━━━┳━━━━━━━━━━━━━━━━━━━┳━━━━━━━━━━━━━┳━━━━━━━━━━━━━━━━━━━━┓\n",
              "┃<span style=\"font-weight: bold\"> Layer (type)          </span>┃<span style=\"font-weight: bold\"> Output Shape      </span>┃<span style=\"font-weight: bold\">     Param # </span>┃<span style=\"font-weight: bold\"> Connected to       </span>┃\n",
              "┡━━━━━━━━━━━━━━━━━━━━━━━╇━━━━━━━━━━━━━━━━━━━╇━━━━━━━━━━━━━╇━━━━━━━━━━━━━━━━━━━━┩\n",
              "│ english (<span style=\"color: #0087ff; text-decoration-color: #0087ff\">InputLayer</span>)  │ (<span style=\"color: #00d7ff; text-decoration-color: #00d7ff\">None</span>, <span style=\"color: #00d7ff; text-decoration-color: #00d7ff\">None</span>)      │           <span style=\"color: #00af00; text-decoration-color: #00af00\">0</span> │ -                  │\n",
              "├───────────────────────┼───────────────────┼─────────────┼────────────────────┤\n",
              "│ spanish (<span style=\"color: #0087ff; text-decoration-color: #0087ff\">InputLayer</span>)  │ (<span style=\"color: #00d7ff; text-decoration-color: #00d7ff\">None</span>, <span style=\"color: #00d7ff; text-decoration-color: #00d7ff\">None</span>)      │           <span style=\"color: #00af00; text-decoration-color: #00af00\">0</span> │ -                  │\n",
              "├───────────────────────┼───────────────────┼─────────────┼────────────────────┤\n",
              "│ embedding_1           │ (<span style=\"color: #00d7ff; text-decoration-color: #00d7ff\">None</span>, <span style=\"color: #00d7ff; text-decoration-color: #00d7ff\">None</span>, <span style=\"color: #00af00; text-decoration-color: #00af00\">256</span>) │   <span style=\"color: #00af00; text-decoration-color: #00af00\">3,840,000</span> │ english[<span style=\"color: #00af00; text-decoration-color: #00af00\">0</span>][<span style=\"color: #00af00; text-decoration-color: #00af00\">0</span>]      │\n",
              "│ (<span style=\"color: #0087ff; text-decoration-color: #0087ff\">Embedding</span>)           │                   │             │                    │\n",
              "├───────────────────────┼───────────────────┼─────────────┼────────────────────┤\n",
              "│ not_equal (<span style=\"color: #0087ff; text-decoration-color: #0087ff\">NotEqual</span>)  │ (<span style=\"color: #00d7ff; text-decoration-color: #00d7ff\">None</span>, <span style=\"color: #00d7ff; text-decoration-color: #00d7ff\">None</span>)      │           <span style=\"color: #00af00; text-decoration-color: #00af00\">0</span> │ english[<span style=\"color: #00af00; text-decoration-color: #00af00\">0</span>][<span style=\"color: #00af00; text-decoration-color: #00af00\">0</span>]      │\n",
              "├───────────────────────┼───────────────────┼─────────────┼────────────────────┤\n",
              "│ embedding_2           │ (<span style=\"color: #00d7ff; text-decoration-color: #00d7ff\">None</span>, <span style=\"color: #00d7ff; text-decoration-color: #00d7ff\">None</span>, <span style=\"color: #00af00; text-decoration-color: #00af00\">256</span>) │   <span style=\"color: #00af00; text-decoration-color: #00af00\">3,840,000</span> │ spanish[<span style=\"color: #00af00; text-decoration-color: #00af00\">0</span>][<span style=\"color: #00af00; text-decoration-color: #00af00\">0</span>]      │\n",
              "│ (<span style=\"color: #0087ff; text-decoration-color: #0087ff\">Embedding</span>)           │                   │             │                    │\n",
              "├───────────────────────┼───────────────────┼─────────────┼────────────────────┤\n",
              "│ bidirectional         │ (<span style=\"color: #00d7ff; text-decoration-color: #00d7ff\">None</span>, <span style=\"color: #00af00; text-decoration-color: #00af00\">1024</span>)      │   <span style=\"color: #00af00; text-decoration-color: #00af00\">7,876,608</span> │ embedding_1[<span style=\"color: #00af00; text-decoration-color: #00af00\">0</span>][<span style=\"color: #00af00; text-decoration-color: #00af00\">0</span>], │\n",
              "│ (<span style=\"color: #0087ff; text-decoration-color: #0087ff\">Bidirectional</span>)       │                   │             │ not_equal[<span style=\"color: #00af00; text-decoration-color: #00af00\">0</span>][<span style=\"color: #00af00; text-decoration-color: #00af00\">0</span>]    │\n",
              "├───────────────────────┼───────────────────┼─────────────┼────────────────────┤\n",
              "│ gru_1 (<span style=\"color: #0087ff; text-decoration-color: #0087ff\">GRU</span>)           │ (<span style=\"color: #00d7ff; text-decoration-color: #00d7ff\">None</span>, <span style=\"color: #00d7ff; text-decoration-color: #00d7ff\">None</span>,      │   <span style=\"color: #00af00; text-decoration-color: #00af00\">3,938,304</span> │ embedding_2[<span style=\"color: #00af00; text-decoration-color: #00af00\">0</span>][<span style=\"color: #00af00; text-decoration-color: #00af00\">0</span>], │\n",
              "│                       │ <span style=\"color: #00af00; text-decoration-color: #00af00\">1024</span>)             │             │ bidirectional[<span style=\"color: #00af00; text-decoration-color: #00af00\">0</span>][<span style=\"color: #00af00; text-decoration-color: #00af00\">…</span> │\n",
              "├───────────────────────┼───────────────────┼─────────────┼────────────────────┤\n",
              "│ dropout (<span style=\"color: #0087ff; text-decoration-color: #0087ff\">Dropout</span>)     │ (<span style=\"color: #00d7ff; text-decoration-color: #00d7ff\">None</span>, <span style=\"color: #00d7ff; text-decoration-color: #00d7ff\">None</span>,      │           <span style=\"color: #00af00; text-decoration-color: #00af00\">0</span> │ gru_1[<span style=\"color: #00af00; text-decoration-color: #00af00\">0</span>][<span style=\"color: #00af00; text-decoration-color: #00af00\">0</span>]        │\n",
              "│                       │ <span style=\"color: #00af00; text-decoration-color: #00af00\">1024</span>)             │             │                    │\n",
              "├───────────────────────┼───────────────────┼─────────────┼────────────────────┤\n",
              "│ dense_1 (<span style=\"color: #0087ff; text-decoration-color: #0087ff\">Dense</span>)       │ (<span style=\"color: #00d7ff; text-decoration-color: #00d7ff\">None</span>, <span style=\"color: #00d7ff; text-decoration-color: #00d7ff\">None</span>,      │  <span style=\"color: #00af00; text-decoration-color: #00af00\">15,375,000</span> │ dropout[<span style=\"color: #00af00; text-decoration-color: #00af00\">0</span>][<span style=\"color: #00af00; text-decoration-color: #00af00\">0</span>]      │\n",
              "│                       │ <span style=\"color: #00af00; text-decoration-color: #00af00\">15000</span>)            │             │                    │\n",
              "└───────────────────────┴───────────────────┴─────────────┴────────────────────┘\n",
              "</pre>\n"
            ]
          },
          "metadata": {}
        },
        {
          "output_type": "display_data",
          "data": {
            "text/plain": [
              "\u001b[1m Total params: \u001b[0m\u001b[38;5;34m34,869,912\u001b[0m (133.02 MB)\n"
            ],
            "text/html": [
              "<pre style=\"white-space:pre;overflow-x:auto;line-height:normal;font-family:Menlo,'DejaVu Sans Mono',consolas,'Courier New',monospace\"><span style=\"font-weight: bold\"> Total params: </span><span style=\"color: #00af00; text-decoration-color: #00af00\">34,869,912</span> (133.02 MB)\n",
              "</pre>\n"
            ]
          },
          "metadata": {}
        },
        {
          "output_type": "display_data",
          "data": {
            "text/plain": [
              "\u001b[1m Trainable params: \u001b[0m\u001b[38;5;34m34,869,912\u001b[0m (133.02 MB)\n"
            ],
            "text/html": [
              "<pre style=\"white-space:pre;overflow-x:auto;line-height:normal;font-family:Menlo,'DejaVu Sans Mono',consolas,'Courier New',monospace\"><span style=\"font-weight: bold\"> Trainable params: </span><span style=\"color: #00af00; text-decoration-color: #00af00\">34,869,912</span> (133.02 MB)\n",
              "</pre>\n"
            ]
          },
          "metadata": {}
        },
        {
          "output_type": "display_data",
          "data": {
            "text/plain": [
              "\u001b[1m Non-trainable params: \u001b[0m\u001b[38;5;34m0\u001b[0m (0.00 B)\n"
            ],
            "text/html": [
              "<pre style=\"white-space:pre;overflow-x:auto;line-height:normal;font-family:Menlo,'DejaVu Sans Mono',consolas,'Courier New',monospace\"><span style=\"font-weight: bold\"> Non-trainable params: </span><span style=\"color: #00af00; text-decoration-color: #00af00\">0</span> (0.00 B)\n",
              "</pre>\n"
            ]
          },
          "metadata": {}
        }
      ],
      "source": [
        "seq2seq_rnn.summary(line_length=80)"
      ]
    },
    {
      "cell_type": "code",
      "execution_count": 16,
      "id": "22e42c9f",
      "metadata": {
        "id": "22e42c9f",
        "outputId": "edb4a30c-1930-4ece-da86-a14d7b61601d",
        "colab": {
          "base_uri": "https://localhost:8080/"
        }
      },
      "outputs": [
        {
          "output_type": "stream",
          "name": "stdout",
          "text": [
            "Epoch 1/15\n",
            "\u001b[1m1302/1302\u001b[0m \u001b[32m━━━━━━━━━━━━━━━━━━━━\u001b[0m\u001b[37m\u001b[0m \u001b[1m47s\u001b[0m 32ms/step - accuracy: 0.2742 - loss: 4.4551 - val_accuracy: 0.4962 - val_loss: 2.4934\n",
            "Epoch 2/15\n",
            "\u001b[1m1302/1302\u001b[0m \u001b[32m━━━━━━━━━━━━━━━━━━━━\u001b[0m\u001b[37m\u001b[0m \u001b[1m41s\u001b[0m 31ms/step - accuracy: 0.5079 - loss: 2.4485 - val_accuracy: 0.5875 - val_loss: 1.9218\n",
            "Epoch 3/15\n",
            "\u001b[1m1302/1302\u001b[0m \u001b[32m━━━━━━━━━━━━━━━━━━━━\u001b[0m\u001b[37m\u001b[0m \u001b[1m41s\u001b[0m 31ms/step - accuracy: 0.6036 - loss: 1.7409 - val_accuracy: 0.6217 - val_loss: 1.7253\n",
            "Epoch 4/15\n",
            "\u001b[1m1302/1302\u001b[0m \u001b[32m━━━━━━━━━━━━━━━━━━━━\u001b[0m\u001b[37m\u001b[0m \u001b[1m41s\u001b[0m 31ms/step - accuracy: 0.6686 - loss: 1.3097 - val_accuracy: 0.6380 - val_loss: 1.6676\n",
            "Epoch 5/15\n",
            "\u001b[1m1302/1302\u001b[0m \u001b[32m━━━━━━━━━━━━━━━━━━━━\u001b[0m\u001b[37m\u001b[0m \u001b[1m41s\u001b[0m 32ms/step - accuracy: 0.7168 - loss: 1.0305 - val_accuracy: 0.6457 - val_loss: 1.6582\n",
            "Epoch 6/15\n",
            "\u001b[1m1302/1302\u001b[0m \u001b[32m━━━━━━━━━━━━━━━━━━━━\u001b[0m\u001b[37m\u001b[0m \u001b[1m41s\u001b[0m 31ms/step - accuracy: 0.7559 - loss: 0.8461 - val_accuracy: 0.6485 - val_loss: 1.6808\n",
            "Epoch 7/15\n",
            "\u001b[1m1302/1302\u001b[0m \u001b[32m━━━━━━━━━━━━━━━━━━━━\u001b[0m\u001b[37m\u001b[0m \u001b[1m41s\u001b[0m 31ms/step - accuracy: 0.7800 - loss: 0.7342 - val_accuracy: 0.6518 - val_loss: 1.7084\n",
            "Epoch 8/15\n",
            "\u001b[1m1302/1302\u001b[0m \u001b[32m━━━━━━━━━━━━━━━━━━━━\u001b[0m\u001b[37m\u001b[0m \u001b[1m41s\u001b[0m 31ms/step - accuracy: 0.7995 - loss: 0.6554 - val_accuracy: 0.6529 - val_loss: 1.7529\n",
            "Epoch 9/15\n",
            "\u001b[1m1302/1302\u001b[0m \u001b[32m━━━━━━━━━━━━━━━━━━━━\u001b[0m\u001b[37m\u001b[0m \u001b[1m41s\u001b[0m 31ms/step - accuracy: 0.8141 - loss: 0.6005 - val_accuracy: 0.6547 - val_loss: 1.7833\n",
            "Epoch 10/15\n",
            "\u001b[1m1302/1302\u001b[0m \u001b[32m━━━━━━━━━━━━━━━━━━━━\u001b[0m\u001b[37m\u001b[0m \u001b[1m41s\u001b[0m 31ms/step - accuracy: 0.8240 - loss: 0.5592 - val_accuracy: 0.6547 - val_loss: 1.8101\n",
            "Epoch 11/15\n",
            "\u001b[1m1302/1302\u001b[0m \u001b[32m━━━━━━━━━━━━━━━━━━━━\u001b[0m\u001b[37m\u001b[0m \u001b[1m41s\u001b[0m 31ms/step - accuracy: 0.8331 - loss: 0.5280 - val_accuracy: 0.6565 - val_loss: 1.8445\n",
            "Epoch 12/15\n",
            "\u001b[1m1302/1302\u001b[0m \u001b[32m━━━━━━━━━━━━━━━━━━━━\u001b[0m\u001b[37m\u001b[0m \u001b[1m41s\u001b[0m 32ms/step - accuracy: 0.8389 - loss: 0.5049 - val_accuracy: 0.6546 - val_loss: 1.8970\n",
            "Epoch 13/15\n",
            "\u001b[1m1302/1302\u001b[0m \u001b[32m━━━━━━━━━━━━━━━━━━━━\u001b[0m\u001b[37m\u001b[0m \u001b[1m41s\u001b[0m 31ms/step - accuracy: 0.8451 - loss: 0.4842 - val_accuracy: 0.6548 - val_loss: 1.9158\n",
            "Epoch 14/15\n",
            "\u001b[1m1302/1302\u001b[0m \u001b[32m━━━━━━━━━━━━━━━━━━━━\u001b[0m\u001b[37m\u001b[0m \u001b[1m41s\u001b[0m 31ms/step - accuracy: 0.8508 - loss: 0.4669 - val_accuracy: 0.6546 - val_loss: 1.9341\n",
            "Epoch 15/15\n",
            "\u001b[1m1302/1302\u001b[0m \u001b[32m━━━━━━━━━━━━━━━━━━━━\u001b[0m\u001b[37m\u001b[0m \u001b[1m41s\u001b[0m 32ms/step - accuracy: 0.8550 - loss: 0.4527 - val_accuracy: 0.6549 - val_loss: 1.9719\n"
          ]
        },
        {
          "output_type": "execute_result",
          "data": {
            "text/plain": [
              "<keras.src.callbacks.history.History at 0x7af8f4337cd0>"
            ]
          },
          "metadata": {},
          "execution_count": 16
        }
      ],
      "source": [
        "seq2seq_rnn.compile(\n",
        "    optimizer=\"adam\",\n",
        "    loss=\"sparse_categorical_crossentropy\",\n",
        "    weighted_metrics=[\"accuracy\"],\n",
        ")\n",
        "seq2seq_rnn.fit(train_ds, epochs=15, validation_data=val_ds)"
      ]
    },
    {
      "cell_type": "code",
      "execution_count": 18,
      "id": "4d533e57",
      "metadata": {
        "id": "4d533e57",
        "outputId": "203492f0-aae5-4d37-f348-476bc5a4e949",
        "colab": {
          "base_uri": "https://localhost:8080/"
        }
      },
      "outputs": [
        {
          "output_type": "stream",
          "name": "stdout",
          "text": [
            "-\n",
            "Danger is my middle name.\n",
            "[start] el peligro es mi idioma como un amigo [end]\n",
            "-\n",
            "The girls amused themselves playing games.\n",
            "[start] las chicas se [UNK] jugando a las videojuegos [end]\n",
            "-\n",
            "I'd like a cup of coffee, please.\n",
            "[start] quisiera una taza de café por favor [end]\n",
            "-\n",
            "I regret having been rude to him.\n",
            "[start] me arrepiento de haber sido grosero con él [end]\n",
            "-\n",
            "Did you find out what time the meeting starts?\n",
            "[start] [UNK] la hora de que empieza la reunión [end]\n"
          ]
        }
      ],
      "source": [
        "import numpy as np\n",
        "\n",
        "spa_vocab = spanish_tokenizer.get_vocabulary()\n",
        "spa_index_lookup = dict(zip(range(len(spa_vocab)), spa_vocab))\n",
        "\n",
        "def generate_translation(input_sentence):\n",
        "    tokenized_input_sentence = english_tokenizer([input_sentence])\n",
        "    decoded_sentence = \"[start]\"\n",
        "    for i in range(sequence_length):\n",
        "        tokenized_target_sentence = spanish_tokenizer([decoded_sentence])\n",
        "        inputs = [tokenized_input_sentence, tokenized_target_sentence]\n",
        "        next_token_predictions = seq2seq_rnn.predict(inputs, verbose=0)\n",
        "        sampled_token_index = np.argmax(next_token_predictions[0, i, :])\n",
        "        sampled_token = spa_index_lookup[sampled_token_index]\n",
        "        decoded_sentence += \" \" + sampled_token\n",
        "        if sampled_token == \"[end]\":\n",
        "            break\n",
        "    return decoded_sentence\n",
        "\n",
        "test_eng_texts = [pair[0] for pair in test_pairs]\n",
        "for _ in range(5):\n",
        "    input_sentence = random.choice(test_eng_texts)\n",
        "    print(\"-\")\n",
        "    print(input_sentence)\n",
        "    print(generate_translation(input_sentence))"
      ]
    },
    {
      "cell_type": "code",
      "source": [],
      "metadata": {
        "id": "Z1eaBlvRmDKe"
      },
      "id": "Z1eaBlvRmDKe",
      "execution_count": null,
      "outputs": []
    }
  ],
  "metadata": {
    "kernelspec": {
      "display_name": "Python 3",
      "name": "python3"
    },
    "language_info": {
      "codemirror_mode": {
        "name": "ipython",
        "version": 3
      },
      "file_extension": ".py",
      "mimetype": "text/x-python",
      "name": "python",
      "nbconvert_exporter": "python",
      "pygments_lexer": "ipython3",
      "version": "3.9.15"
    },
    "colab": {
      "provenance": [],
      "machine_shape": "hm",
      "gpuType": "A100",
      "include_colab_link": true
    },
    "accelerator": "GPU"
  },
  "nbformat": 4,
  "nbformat_minor": 5
}