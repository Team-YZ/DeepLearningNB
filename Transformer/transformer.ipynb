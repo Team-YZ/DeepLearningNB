{
  "cells": [
    {
      "cell_type": "markdown",
      "id": "352a375f",
      "metadata": {
        "id": "352a375f"
      },
      "source": [
        "# Transformer"
      ]
    },
    {
      "cell_type": "code",
      "execution_count": 5,
      "id": "8d108349",
      "metadata": {},
      "outputs": [],
      "source": [
        "import os\n",
        "os.environ[\"KERAS_BACKEND\"] = \"jax\""
      ]
    },
    {
      "cell_type": "code",
      "execution_count": 6,
      "id": "5527b6bf",
      "metadata": {
        "id": "5527b6bf"
      },
      "outputs": [],
      "source": [
        "import keras\n",
        "\n",
        "filename = keras.utils.get_file(\n",
        "    origin=(\n",
        "        \"https://storage.googleapis.com/download.tensorflow.org/\"\n",
        "        \"data/shakespeare.txt\"\n",
        "    ),\n",
        ")\n",
        "shakespeare = open(filename, \"r\").read()"
      ]
    },
    {
      "cell_type": "code",
      "execution_count": 7,
      "id": "4f024135",
      "metadata": {
        "colab": {
          "base_uri": "https://localhost:8080/",
          "height": 52
        },
        "id": "4f024135",
        "outputId": "fe5e4255-1b0e-4659-d173-bf2f2de79e82"
      },
      "outputs": [
        {
          "data": {
            "text/plain": [
              "'First Citizen:\\nBefore we proceed any further, hear me speak.\\n\\nAll:\\nSpeak, speak.\\n\\nFirst Citizen:\\nYou are all resolved rather to die than to famish?\\n\\nAll:\\nResolved. resolved.\\n\\nFirst Citizen:\\nFirst, you know Caius Marcius is chief enemy to the people.\\n'"
            ]
          },
          "execution_count": 7,
          "metadata": {},
          "output_type": "execute_result"
        }
      ],
      "source": [
        "shakespeare[:250]"
      ]
    },
    {
      "cell_type": "code",
      "execution_count": 8,
      "id": "f20a4d25",
      "metadata": {
        "id": "f20a4d25"
      },
      "outputs": [],
      "source": [
        "import tensorflow as tf\n",
        "\n",
        "sequence_length = 100\n",
        "\n",
        "def split_input(input, sequence_length):\n",
        "    for i in range(0, len(input), sequence_length):\n",
        "        yield input[i : i + sequence_length]\n",
        "\n",
        "features = list(split_input(shakespeare[:-1], sequence_length))\n",
        "labels = list(split_input(shakespeare[1:], sequence_length))\n",
        "dataset = tf.data.Dataset.from_tensor_slices((features, labels))"
      ]
    },
    {
      "cell_type": "code",
      "execution_count": 9,
      "id": "d9409049",
      "metadata": {
        "id": "d9409049"
      },
      "outputs": [],
      "source": [
        "x, y = next(dataset.as_numpy_iterator())"
      ]
    },
    {
      "cell_type": "code",
      "execution_count": 10,
      "id": "ca5d8c1c",
      "metadata": {
        "colab": {
          "base_uri": "https://localhost:8080/"
        },
        "id": "ca5d8c1c",
        "outputId": "fc3dcbfe-8077-4d57-ed99-0f9deabca677"
      },
      "outputs": [
        {
          "data": {
            "text/plain": [
              "(b'First Citizen:\\nBefore we proceed any further, hear',\n",
              " b'irst Citizen:\\nBefore we proceed any further, hear ')"
            ]
          },
          "execution_count": 10,
          "metadata": {},
          "output_type": "execute_result"
        }
      ],
      "source": [
        "x[:50], y[:50]"
      ]
    },
    {
      "cell_type": "code",
      "execution_count": 11,
      "id": "b64d1d66",
      "metadata": {
        "id": "b64d1d66"
      },
      "outputs": [
        {
          "name": "stderr",
          "output_type": "stream",
          "text": [
            "2025-06-30 16:14:49.947771: W tensorflow/core/framework/local_rendezvous.cc:404] Local rendezvous is aborting with status: OUT_OF_RANGE: End of sequence\n"
          ]
        }
      ],
      "source": [
        "from keras import layers\n",
        "\n",
        "tokenizer = layers.TextVectorization(\n",
        "    standardize=None,\n",
        "    split=lambda x: tf.strings.unicode_split(x, 'UTF-8'),\n",
        "    output_sequence_length=sequence_length,\n",
        ")\n",
        "\n",
        "tokenizer.adapt(dataset.map(lambda text, labels: text))"
      ]
    },
    {
      "cell_type": "code",
      "execution_count": 12,
      "id": "66616c8c",
      "metadata": {
        "colab": {
          "base_uri": "https://localhost:8080/"
        },
        "id": "66616c8c",
        "outputId": "9574f0e9-2713-4805-d820-26a8d86490f6"
      },
      "outputs": [
        {
          "data": {
            "text/plain": [
              "67"
            ]
          },
          "execution_count": 12,
          "metadata": {},
          "output_type": "execute_result"
        }
      ],
      "source": [
        "vocabulary_size = tokenizer.vocabulary_size()\n",
        "vocabulary_size"
      ]
    },
    {
      "cell_type": "code",
      "execution_count": 13,
      "id": "f79058b2",
      "metadata": {
        "id": "f79058b2"
      },
      "outputs": [],
      "source": [
        "dataset = dataset.map(\n",
        "    lambda features, labels: (tokenizer(features), tokenizer(labels)),\n",
        "    num_parallel_calls=8,\n",
        ")\n",
        "training_data = dataset.shuffle(10_000).batch(64).cache()"
      ]
    },
    {
      "cell_type": "code",
      "execution_count": 14,
      "id": "9f746349",
      "metadata": {
        "id": "9f746349"
      },
      "outputs": [],
      "source": [
        "embedding_dim = 256\n",
        "hidden_dim = 1024\n",
        "\n",
        "inputs = layers.Input(shape=(sequence_length,), dtype=tf.int32, name=\"token_ids\")\n",
        "x = layers.Embedding(vocabulary_size, embedding_dim)(inputs)\n",
        "x = layers.GRU(hidden_dim, return_sequences=True)(x)\n",
        "x = layers.Dropout(0.1)(x)\n",
        "outputs = layers.Dense(vocabulary_size, activation=\"softmax\")(x)\n",
        "model = keras.Model(inputs, outputs, name=\"shakespeare\")"
      ]
    },
    {
      "cell_type": "code",
      "execution_count": 15,
      "id": "3b18f398",
      "metadata": {
        "colab": {
          "base_uri": "https://localhost:8080/",
          "height": 289
        },
        "id": "3b18f398",
        "outputId": "21af7205-f78a-41d3-d28d-96fc60d6d081"
      },
      "outputs": [
        {
          "data": {
            "text/html": [
              "<pre style=\"white-space:pre;overflow-x:auto;line-height:normal;font-family:Menlo,'DejaVu Sans Mono',consolas,'Courier New',monospace\"><span style=\"font-weight: bold\">Model: \"shakespeare\"</span>\n",
              "</pre>\n"
            ],
            "text/plain": [
              "\u001b[1mModel: \"shakespeare\"\u001b[0m\n"
            ]
          },
          "metadata": {},
          "output_type": "display_data"
        },
        {
          "data": {
            "text/html": [
              "<pre style=\"white-space:pre;overflow-x:auto;line-height:normal;font-family:Menlo,'DejaVu Sans Mono',consolas,'Courier New',monospace\">┏━━━━━━━━━━━━━━━━━━━━━━━━━━━━━━━━━━━┳━━━━━━━━━━━━━━━━━━━━━━━━━━┳━━━━━━━━━━━━━━━┓\n",
              "┃<span style=\"font-weight: bold\"> Layer (type)                      </span>┃<span style=\"font-weight: bold\"> Output Shape             </span>┃<span style=\"font-weight: bold\">       Param # </span>┃\n",
              "┡━━━━━━━━━━━━━━━━━━━━━━━━━━━━━━━━━━━╇━━━━━━━━━━━━━━━━━━━━━━━━━━╇━━━━━━━━━━━━━━━┩\n",
              "│ token_ids (<span style=\"color: #0087ff; text-decoration-color: #0087ff\">InputLayer</span>)            │ (<span style=\"color: #00d7ff; text-decoration-color: #00d7ff\">None</span>, <span style=\"color: #00af00; text-decoration-color: #00af00\">100</span>)              │             <span style=\"color: #00af00; text-decoration-color: #00af00\">0</span> │\n",
              "├───────────────────────────────────┼──────────────────────────┼───────────────┤\n",
              "│ embedding (<span style=\"color: #0087ff; text-decoration-color: #0087ff\">Embedding</span>)             │ (<span style=\"color: #00d7ff; text-decoration-color: #00d7ff\">None</span>, <span style=\"color: #00af00; text-decoration-color: #00af00\">100</span>, <span style=\"color: #00af00; text-decoration-color: #00af00\">256</span>)         │        <span style=\"color: #00af00; text-decoration-color: #00af00\">17,152</span> │\n",
              "├───────────────────────────────────┼──────────────────────────┼───────────────┤\n",
              "│ gru (<span style=\"color: #0087ff; text-decoration-color: #0087ff\">GRU</span>)                         │ (<span style=\"color: #00d7ff; text-decoration-color: #00d7ff\">None</span>, <span style=\"color: #00af00; text-decoration-color: #00af00\">100</span>, <span style=\"color: #00af00; text-decoration-color: #00af00\">1024</span>)        │     <span style=\"color: #00af00; text-decoration-color: #00af00\">3,938,304</span> │\n",
              "├───────────────────────────────────┼──────────────────────────┼───────────────┤\n",
              "│ dropout (<span style=\"color: #0087ff; text-decoration-color: #0087ff\">Dropout</span>)                 │ (<span style=\"color: #00d7ff; text-decoration-color: #00d7ff\">None</span>, <span style=\"color: #00af00; text-decoration-color: #00af00\">100</span>, <span style=\"color: #00af00; text-decoration-color: #00af00\">1024</span>)        │             <span style=\"color: #00af00; text-decoration-color: #00af00\">0</span> │\n",
              "├───────────────────────────────────┼──────────────────────────┼───────────────┤\n",
              "│ dense (<span style=\"color: #0087ff; text-decoration-color: #0087ff\">Dense</span>)                     │ (<span style=\"color: #00d7ff; text-decoration-color: #00d7ff\">None</span>, <span style=\"color: #00af00; text-decoration-color: #00af00\">100</span>, <span style=\"color: #00af00; text-decoration-color: #00af00\">67</span>)          │        <span style=\"color: #00af00; text-decoration-color: #00af00\">68,675</span> │\n",
              "└───────────────────────────────────┴──────────────────────────┴───────────────┘\n",
              "</pre>\n"
            ],
            "text/plain": [
              "┏━━━━━━━━━━━━━━━━━━━━━━━━━━━━━━━━━━━┳━━━━━━━━━━━━━━━━━━━━━━━━━━┳━━━━━━━━━━━━━━━┓\n",
              "┃\u001b[1m \u001b[0m\u001b[1mLayer (type)                     \u001b[0m\u001b[1m \u001b[0m┃\u001b[1m \u001b[0m\u001b[1mOutput Shape            \u001b[0m\u001b[1m \u001b[0m┃\u001b[1m \u001b[0m\u001b[1m      Param #\u001b[0m\u001b[1m \u001b[0m┃\n",
              "┡━━━━━━━━━━━━━━━━━━━━━━━━━━━━━━━━━━━╇━━━━━━━━━━━━━━━━━━━━━━━━━━╇━━━━━━━━━━━━━━━┩\n",
              "│ token_ids (\u001b[38;5;33mInputLayer\u001b[0m)            │ (\u001b[38;5;45mNone\u001b[0m, \u001b[38;5;34m100\u001b[0m)              │             \u001b[38;5;34m0\u001b[0m │\n",
              "├───────────────────────────────────┼──────────────────────────┼───────────────┤\n",
              "│ embedding (\u001b[38;5;33mEmbedding\u001b[0m)             │ (\u001b[38;5;45mNone\u001b[0m, \u001b[38;5;34m100\u001b[0m, \u001b[38;5;34m256\u001b[0m)         │        \u001b[38;5;34m17,152\u001b[0m │\n",
              "├───────────────────────────────────┼──────────────────────────┼───────────────┤\n",
              "│ gru (\u001b[38;5;33mGRU\u001b[0m)                         │ (\u001b[38;5;45mNone\u001b[0m, \u001b[38;5;34m100\u001b[0m, \u001b[38;5;34m1024\u001b[0m)        │     \u001b[38;5;34m3,938,304\u001b[0m │\n",
              "├───────────────────────────────────┼──────────────────────────┼───────────────┤\n",
              "│ dropout (\u001b[38;5;33mDropout\u001b[0m)                 │ (\u001b[38;5;45mNone\u001b[0m, \u001b[38;5;34m100\u001b[0m, \u001b[38;5;34m1024\u001b[0m)        │             \u001b[38;5;34m0\u001b[0m │\n",
              "├───────────────────────────────────┼──────────────────────────┼───────────────┤\n",
              "│ dense (\u001b[38;5;33mDense\u001b[0m)                     │ (\u001b[38;5;45mNone\u001b[0m, \u001b[38;5;34m100\u001b[0m, \u001b[38;5;34m67\u001b[0m)          │        \u001b[38;5;34m68,675\u001b[0m │\n",
              "└───────────────────────────────────┴──────────────────────────┴───────────────┘\n"
            ]
          },
          "metadata": {},
          "output_type": "display_data"
        },
        {
          "data": {
            "text/html": [
              "<pre style=\"white-space:pre;overflow-x:auto;line-height:normal;font-family:Menlo,'DejaVu Sans Mono',consolas,'Courier New',monospace\"><span style=\"font-weight: bold\"> Total params: </span><span style=\"color: #00af00; text-decoration-color: #00af00\">4,024,131</span> (15.35 MB)\n",
              "</pre>\n"
            ],
            "text/plain": [
              "\u001b[1m Total params: \u001b[0m\u001b[38;5;34m4,024,131\u001b[0m (15.35 MB)\n"
            ]
          },
          "metadata": {},
          "output_type": "display_data"
        },
        {
          "data": {
            "text/html": [
              "<pre style=\"white-space:pre;overflow-x:auto;line-height:normal;font-family:Menlo,'DejaVu Sans Mono',consolas,'Courier New',monospace\"><span style=\"font-weight: bold\"> Trainable params: </span><span style=\"color: #00af00; text-decoration-color: #00af00\">4,024,131</span> (15.35 MB)\n",
              "</pre>\n"
            ],
            "text/plain": [
              "\u001b[1m Trainable params: \u001b[0m\u001b[38;5;34m4,024,131\u001b[0m (15.35 MB)\n"
            ]
          },
          "metadata": {},
          "output_type": "display_data"
        },
        {
          "data": {
            "text/html": [
              "<pre style=\"white-space:pre;overflow-x:auto;line-height:normal;font-family:Menlo,'DejaVu Sans Mono',consolas,'Courier New',monospace\"><span style=\"font-weight: bold\"> Non-trainable params: </span><span style=\"color: #00af00; text-decoration-color: #00af00\">0</span> (0.00 B)\n",
              "</pre>\n"
            ],
            "text/plain": [
              "\u001b[1m Non-trainable params: \u001b[0m\u001b[38;5;34m0\u001b[0m (0.00 B)\n"
            ]
          },
          "metadata": {},
          "output_type": "display_data"
        }
      ],
      "source": [
        "model.summary(line_length=80)"
      ]
    },
    {
      "cell_type": "code",
      "execution_count": null,
      "id": "dcd98569",
      "metadata": {
        "colab": {
          "base_uri": "https://localhost:8080/"
        },
        "id": "dcd98569",
        "outputId": "e95bd3c3-5be0-45c3-a0e0-876d1ffa737f"
      },
      "outputs": [
        {
          "name": "stdout",
          "output_type": "stream",
          "text": [
            "Epoch 1/20\n"
          ]
        },
        {
          "name": "stderr",
          "output_type": "stream",
          "text": [
            "2025-06-30 16:14:51.632486: W tensorflow/core/kernels/data/cache_dataset_ops.cc:858] The calling iterator did not fully read the dataset being cached. In order to avoid unexpected truncation of the dataset, the partially cached contents of the dataset  will be discarded. This can happen if you have an input pipeline similar to `dataset.cache().take(k).repeat()`. You should use `dataset.take(k).cache().repeat()` instead.\n"
          ]
        },
        {
          "name": "stdout",
          "output_type": "stream",
          "text": [
            "\u001b[1m 16/175\u001b[0m \u001b[32m━\u001b[0m\u001b[37m━━━━━━━━━━━━━━━━━━━\u001b[0m \u001b[1m2:04\u001b[0m 783ms/step - loss: 4.2499 - sparse_categorical_accuracy: 0.1291"
          ]
        }
      ],
      "source": [
        "model.compile(\n",
        "    optimizer=\"adam\",\n",
        "    loss=\"sparse_categorical_crossentropy\",\n",
        "    metrics=[\"sparse_categorical_accuracy\"],\n",
        ")\n",
        "model.fit(training_data, epochs=20)"
      ]
    },
    {
      "cell_type": "code",
      "execution_count": null,
      "id": "2ccac3eb",
      "metadata": {
        "id": "2ccac3eb"
      },
      "outputs": [],
      "source": [
        "inputs = keras.Input(shape=(1,), dtype=\"int\", name=\"token_ids\")\n",
        "input_state = keras.Input(shape=(hidden_dim,), name=\"state\")\n",
        "\n",
        "x = layers.Embedding(vocabulary_size, embedding_dim)(inputs)\n",
        "x, output_state = layers.GRU(hidden_dim, return_state=True)(\n",
        "    x, initial_state=input_state\n",
        ")\n",
        "outputs = layers.Dense(vocabulary_size, activation=\"softmax\")(x)\n",
        "generation_model = keras.Model(\n",
        "    inputs=(inputs, input_state),\n",
        "    outputs=(outputs, output_state),\n",
        ")\n",
        "generation_model.set_weights(model.get_weights())"
      ]
    },
    {
      "cell_type": "code",
      "execution_count": null,
      "id": "iBQb3-gI35mM",
      "metadata": {
        "id": "iBQb3-gI35mM"
      },
      "outputs": [],
      "source": [
        "tokens = tokenizer.get_vocabulary()\n",
        "token_ids = range(vocabulary_size)\n",
        "char_to_id = dict(zip(tokens, token_ids))\n",
        "id_to_char = dict(zip(token_ids, tokens))\n",
        "\n",
        "prompt = \"\"\"\n",
        "KING RICHARD III:\n",
        "\"\"\""
      ]
    },
    {
      "cell_type": "code",
      "execution_count": null,
      "id": "YsdVcKb14TwN",
      "metadata": {
        "id": "YsdVcKb14TwN"
      },
      "outputs": [],
      "source": [
        "input_ids = [char_to_id[c] for c in prompt]\n",
        "state = keras.ops.zeros(shape=(1, hidden_dim))\n",
        "for token_id in input_ids:\n",
        "    inputs = keras.ops.expand_dims([token_id], axis=0)\n",
        "    predictions, state = generation_model.predict((inputs, state), verbose=0)"
      ]
    },
    {
      "cell_type": "code",
      "execution_count": null,
      "id": "jPLJm7tG4wqt",
      "metadata": {
        "colab": {
          "base_uri": "https://localhost:8080/",
          "height": 207
        },
        "id": "jPLJm7tG4wqt",
        "outputId": "61120ecc-53fd-4693-be2f-443bef35ee2f"
      },
      "outputs": [],
      "source": [
        "import numpy as np\n",
        "\n",
        "generated_ids = []\n",
        "max_length = 250\n",
        "for i in range(max_length):\n",
        "    next_char = int(np.argmax(predictions, axis=-1)[0])\n",
        "    generated_ids.append(next_char)\n",
        "    inputs = keras.ops.expand_dims([next_char], axis=0)\n",
        "    predictions, state = generation_model.predict((inputs, state), verbose=0)"
      ]
    },
    {
      "cell_type": "code",
      "execution_count": null,
      "id": "1qcIB5TV-YlL",
      "metadata": {
        "id": "1qcIB5TV-YlL"
      },
      "outputs": [],
      "source": []
    }
  ],
  "metadata": {
    "accelerator": "GPU",
    "colab": {
      "gpuType": "A100",
      "machine_shape": "hm",
      "provenance": []
    },
    "kernelspec": {
      "display_name": "default",
      "language": "python",
      "name": "python3"
    },
    "language_info": {
      "codemirror_mode": {
        "name": "ipython",
        "version": 3
      },
      "file_extension": ".py",
      "mimetype": "text/x-python",
      "name": "python",
      "nbconvert_exporter": "python",
      "pygments_lexer": "ipython3",
      "version": "3.9.15"
    }
  },
  "nbformat": 4,
  "nbformat_minor": 5
}
