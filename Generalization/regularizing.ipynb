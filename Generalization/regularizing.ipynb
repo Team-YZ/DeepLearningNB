{
 "cells": [
  {
   "cell_type": "code",
   "execution_count": 1,
   "metadata": {},
   "outputs": [],
   "source": [
    "from tensorflow import keras\n",
    "from tensorflow.keras import datasets, layers\n",
    "import numpy as np\n",
    "import matplotlib.pyplot as plt"
   ]
  },
  {
   "cell_type": "code",
   "execution_count": 2,
   "metadata": {},
   "outputs": [],
   "source": [
    "(train_data, train_labels), _ = datasets.imdb.load_data(num_words=10000)"
   ]
  },
  {
   "cell_type": "code",
   "execution_count": 3,
   "metadata": {},
   "outputs": [],
   "source": [
    "def vectorize_sequences(sequence, dimension=10000):\n",
    "    results = np.zeros((len(sequence), dimension))\n",
    "    for i, sequence in enumerate(sequence):\n",
    "        results[i, sequence] = 1\n",
    "    return results"
   ]
  },
  {
   "cell_type": "code",
   "execution_count": 4,
   "metadata": {},
   "outputs": [],
   "source": [
    "train_data = vectorize_sequences(train_data)"
   ]
  },
  {
   "cell_type": "markdown",
   "metadata": {},
   "source": [
    "## Original Model"
   ]
  },
  {
   "cell_type": "code",
   "execution_count": 5,
   "metadata": {},
   "outputs": [
    {
     "name": "stderr",
     "output_type": "stream",
     "text": [
      "2025-06-03 23:53:26.157265: I tensorflow/compiler/mlir/mlir_graph_optimization_pass.cc:185] None of the MLIR Optimization Passes are enabled (registered 2)\n",
      "2025-06-03 23:53:26.158474: W tensorflow/core/platform/profile_utils/cpu_utils.cc:128] Failed to get CPU frequency: 0 Hz\n"
     ]
    },
    {
     "name": "stdout",
     "output_type": "stream",
     "text": [
      "Epoch 1/20\n",
      "30/30 [==============================] - 1s 27ms/step - loss: 0.4972 - accuracy: 0.7863 - val_loss: 0.3672 - val_accuracy: 0.8753\n",
      "Epoch 2/20\n",
      "30/30 [==============================] - 0s 6ms/step - loss: 0.2915 - accuracy: 0.9043 - val_loss: 0.2990 - val_accuracy: 0.8909\n",
      "Epoch 3/20\n",
      "30/30 [==============================] - 0s 9ms/step - loss: 0.2174 - accuracy: 0.9299 - val_loss: 0.3208 - val_accuracy: 0.8697\n",
      "Epoch 4/20\n",
      "30/30 [==============================] - 0s 6ms/step - loss: 0.1703 - accuracy: 0.9453 - val_loss: 0.2976 - val_accuracy: 0.8813\n",
      "Epoch 5/20\n",
      "30/30 [==============================] - 0s 7ms/step - loss: 0.1398 - accuracy: 0.9583 - val_loss: 0.3094 - val_accuracy: 0.8776\n",
      "Epoch 6/20\n",
      "30/30 [==============================] - 0s 6ms/step - loss: 0.1152 - accuracy: 0.9665 - val_loss: 0.3030 - val_accuracy: 0.8855\n",
      "Epoch 7/20\n",
      "30/30 [==============================] - 0s 6ms/step - loss: 0.0981 - accuracy: 0.9717 - val_loss: 0.3154 - val_accuracy: 0.8846\n",
      "Epoch 8/20\n",
      "30/30 [==============================] - 0s 6ms/step - loss: 0.0824 - accuracy: 0.9771 - val_loss: 0.3426 - val_accuracy: 0.8796\n",
      "Epoch 9/20\n",
      "30/30 [==============================] - 0s 6ms/step - loss: 0.0693 - accuracy: 0.9807 - val_loss: 0.3620 - val_accuracy: 0.8795\n",
      "Epoch 10/20\n",
      "30/30 [==============================] - 0s 6ms/step - loss: 0.0580 - accuracy: 0.9842 - val_loss: 0.3828 - val_accuracy: 0.8780\n",
      "Epoch 11/20\n",
      "30/30 [==============================] - 0s 6ms/step - loss: 0.0495 - accuracy: 0.9876 - val_loss: 0.4098 - val_accuracy: 0.8768\n",
      "Epoch 12/20\n",
      "30/30 [==============================] - 0s 6ms/step - loss: 0.0380 - accuracy: 0.9918 - val_loss: 0.4528 - val_accuracy: 0.8723\n",
      "Epoch 13/20\n",
      "30/30 [==============================] - 0s 6ms/step - loss: 0.0364 - accuracy: 0.9916 - val_loss: 0.4754 - val_accuracy: 0.8725\n",
      "Epoch 14/20\n",
      "30/30 [==============================] - 0s 6ms/step - loss: 0.0282 - accuracy: 0.9935 - val_loss: 0.5050 - val_accuracy: 0.8732\n",
      "Epoch 15/20\n",
      "30/30 [==============================] - 0s 6ms/step - loss: 0.0205 - accuracy: 0.9970 - val_loss: 0.5459 - val_accuracy: 0.8697\n",
      "Epoch 16/20\n",
      "30/30 [==============================] - 0s 6ms/step - loss: 0.0188 - accuracy: 0.9966 - val_loss: 0.5649 - val_accuracy: 0.8692\n",
      "Epoch 17/20\n",
      "30/30 [==============================] - 0s 7ms/step - loss: 0.0136 - accuracy: 0.9983 - val_loss: 0.5957 - val_accuracy: 0.8679\n",
      "Epoch 18/20\n",
      "30/30 [==============================] - 0s 7ms/step - loss: 0.0112 - accuracy: 0.9986 - val_loss: 0.6323 - val_accuracy: 0.8670\n",
      "Epoch 19/20\n",
      "30/30 [==============================] - 0s 6ms/step - loss: 0.0115 - accuracy: 0.9983 - val_loss: 0.6715 - val_accuracy: 0.8664\n",
      "Epoch 20/20\n",
      "30/30 [==============================] - 0s 5ms/step - loss: 0.0058 - accuracy: 0.9995 - val_loss: 0.7017 - val_accuracy: 0.8658\n"
     ]
    }
   ],
   "source": [
    "model = keras.models.Sequential([\n",
    "    layers.Dense(16, activation='relu'),\n",
    "    layers.Dense(16, activation='relu'),\n",
    "    layers.Dense(1, activation='sigmoid')\n",
    "])\n",
    "\n",
    "model.compile(optimizer='rmsprop',\n",
    "              loss='binary_crossentropy',\n",
    "              metrics=[\"accuracy\"])\n",
    "history_original = model.fit(train_data, train_labels, epochs=20, batch_size=512, validation_split=0.4)\n"
   ]
  },
  {
   "cell_type": "markdown",
   "metadata": {},
   "source": [
    "## Lower Capacity"
   ]
  },
  {
   "cell_type": "code",
   "execution_count": 6,
   "metadata": {},
   "outputs": [
    {
     "name": "stdout",
     "output_type": "stream",
     "text": [
      "Epoch 1/20\n",
      "30/30 [==============================] - 1s 23ms/step - loss: 0.5950 - accuracy: 0.7761 - val_loss: 0.5135 - val_accuracy: 0.8570\n",
      "Epoch 2/20\n",
      "30/30 [==============================] - 0s 5ms/step - loss: 0.4515 - accuracy: 0.8795 - val_loss: 0.4206 - val_accuracy: 0.8742\n",
      "Epoch 3/20\n",
      "30/30 [==============================] - 0s 5ms/step - loss: 0.3608 - accuracy: 0.9017 - val_loss: 0.3610 - val_accuracy: 0.8786\n",
      "Epoch 4/20\n",
      "30/30 [==============================] - 0s 5ms/step - loss: 0.2972 - accuracy: 0.9141 - val_loss: 0.3196 - val_accuracy: 0.8862\n",
      "Epoch 5/20\n",
      "30/30 [==============================] - 0s 5ms/step - loss: 0.2523 - accuracy: 0.9255 - val_loss: 0.2964 - val_accuracy: 0.8900\n",
      "Epoch 6/20\n",
      "30/30 [==============================] - 0s 5ms/step - loss: 0.2182 - accuracy: 0.9347 - val_loss: 0.2889 - val_accuracy: 0.8878\n",
      "Epoch 7/20\n",
      "30/30 [==============================] - 0s 5ms/step - loss: 0.1911 - accuracy: 0.9419 - val_loss: 0.2833 - val_accuracy: 0.8863\n",
      "Epoch 8/20\n",
      "30/30 [==============================] - 0s 5ms/step - loss: 0.1695 - accuracy: 0.9499 - val_loss: 0.2716 - val_accuracy: 0.8937\n",
      "Epoch 9/20\n",
      "30/30 [==============================] - 0s 5ms/step - loss: 0.1514 - accuracy: 0.9559 - val_loss: 0.2734 - val_accuracy: 0.8924\n",
      "Epoch 10/20\n",
      "30/30 [==============================] - 0s 5ms/step - loss: 0.1352 - accuracy: 0.9611 - val_loss: 0.2775 - val_accuracy: 0.8890\n",
      "Epoch 11/20\n",
      "30/30 [==============================] - 0s 5ms/step - loss: 0.1222 - accuracy: 0.9645 - val_loss: 0.2945 - val_accuracy: 0.8827\n",
      "Epoch 12/20\n",
      "30/30 [==============================] - 0s 5ms/step - loss: 0.1103 - accuracy: 0.9691 - val_loss: 0.2966 - val_accuracy: 0.8832\n",
      "Epoch 13/20\n",
      "30/30 [==============================] - 0s 5ms/step - loss: 0.0993 - accuracy: 0.9712 - val_loss: 0.3117 - val_accuracy: 0.8820\n",
      "Epoch 14/20\n",
      "30/30 [==============================] - 0s 5ms/step - loss: 0.0896 - accuracy: 0.9759 - val_loss: 0.3159 - val_accuracy: 0.8845\n",
      "Epoch 15/20\n",
      "30/30 [==============================] - 0s 6ms/step - loss: 0.0808 - accuracy: 0.9778 - val_loss: 0.3205 - val_accuracy: 0.8847\n",
      "Epoch 16/20\n",
      "30/30 [==============================] - 0s 6ms/step - loss: 0.0731 - accuracy: 0.9811 - val_loss: 0.3324 - val_accuracy: 0.8836\n",
      "Epoch 17/20\n",
      "30/30 [==============================] - 0s 5ms/step - loss: 0.0648 - accuracy: 0.9843 - val_loss: 0.3489 - val_accuracy: 0.8802\n",
      "Epoch 18/20\n",
      "30/30 [==============================] - 0s 5ms/step - loss: 0.0590 - accuracy: 0.9861 - val_loss: 0.3605 - val_accuracy: 0.8820\n",
      "Epoch 19/20\n",
      "30/30 [==============================] - 0s 5ms/step - loss: 0.0524 - accuracy: 0.9881 - val_loss: 0.3935 - val_accuracy: 0.8747\n",
      "Epoch 20/20\n",
      "30/30 [==============================] - 0s 4ms/step - loss: 0.0474 - accuracy: 0.9890 - val_loss: 0.3946 - val_accuracy: 0.8785\n"
     ]
    }
   ],
   "source": [
    "model = keras.models.Sequential([\n",
    "    layers.Dense(4, activation='relu'),\n",
    "    layers.Dense(4, activation='relu'),\n",
    "    layers.Dense(1, activation='sigmoid')\n",
    "])\n",
    "\n",
    "model.compile(optimizer='rmsprop',\n",
    "              loss='binary_crossentropy',\n",
    "              metrics=[\"accuracy\"])\n",
    "history_original = model.fit(train_data, train_labels, epochs=20, batch_size=512, validation_split=0.4)\n"
   ]
  },
  {
   "cell_type": "code",
   "execution_count": 7,
   "metadata": {},
   "outputs": [
    {
     "name": "stdout",
     "output_type": "stream",
     "text": [
      "Epoch 1/20\n",
      "30/30 [==============================] - 2s 69ms/step - loss: 0.5649 - accuracy: 0.7575 - val_loss: 0.3012 - val_accuracy: 0.8861\n",
      "Epoch 2/20\n",
      "30/30 [==============================] - 1s 49ms/step - loss: 0.2497 - accuracy: 0.8998 - val_loss: 0.5865 - val_accuracy: 0.7546\n",
      "Epoch 3/20\n",
      "30/30 [==============================] - 1s 49ms/step - loss: 0.1604 - accuracy: 0.9399 - val_loss: 0.4235 - val_accuracy: 0.8524\n",
      "Epoch 4/20\n",
      "30/30 [==============================] - 1s 45ms/step - loss: 0.1065 - accuracy: 0.9691 - val_loss: 0.3352 - val_accuracy: 0.8908\n",
      "Epoch 5/20\n",
      "30/30 [==============================] - 1s 46ms/step - loss: 0.0136 - accuracy: 0.9964 - val_loss: 0.6787 - val_accuracy: 0.8430\n",
      "Epoch 6/20\n",
      "30/30 [==============================] - 1s 44ms/step - loss: 0.1022 - accuracy: 0.9772 - val_loss: 0.4366 - val_accuracy: 0.8877\n",
      "Epoch 7/20\n",
      "30/30 [==============================] - 1s 47ms/step - loss: 0.0012 - accuracy: 0.9999 - val_loss: 0.5570 - val_accuracy: 0.8886\n",
      "Epoch 8/20\n",
      "30/30 [==============================] - 1s 49ms/step - loss: 2.1216e-04 - accuracy: 1.0000 - val_loss: 0.6619 - val_accuracy: 0.8875\n",
      "Epoch 9/20\n",
      "30/30 [==============================] - 1s 46ms/step - loss: 3.5300e-05 - accuracy: 1.0000 - val_loss: 0.7629 - val_accuracy: 0.8865\n",
      "Epoch 10/20\n",
      "30/30 [==============================] - 1s 46ms/step - loss: 7.2343e-06 - accuracy: 1.0000 - val_loss: 0.8543 - val_accuracy: 0.8861\n",
      "Epoch 11/20\n",
      "30/30 [==============================] - 2s 51ms/step - loss: 0.0120 - accuracy: 0.9977 - val_loss: 7.5469 - val_accuracy: 0.5996\n",
      "Epoch 12/20\n",
      "30/30 [==============================] - 1s 48ms/step - loss: 0.1909 - accuracy: 0.9837 - val_loss: 0.6788 - val_accuracy: 0.8841\n",
      "Epoch 13/20\n",
      "30/30 [==============================] - 1s 46ms/step - loss: 1.2297e-05 - accuracy: 1.0000 - val_loss: 0.7048 - val_accuracy: 0.8841\n",
      "Epoch 14/20\n",
      "30/30 [==============================] - 1s 45ms/step - loss: 7.5106e-06 - accuracy: 1.0000 - val_loss: 0.7299 - val_accuracy: 0.8840\n",
      "Epoch 15/20\n",
      "30/30 [==============================] - 1s 45ms/step - loss: 4.7260e-06 - accuracy: 1.0000 - val_loss: 0.7624 - val_accuracy: 0.8850\n",
      "Epoch 16/20\n",
      "30/30 [==============================] - 1s 48ms/step - loss: 2.6712e-06 - accuracy: 1.0000 - val_loss: 0.8151 - val_accuracy: 0.8854\n",
      "Epoch 17/20\n",
      "30/30 [==============================] - 1s 49ms/step - loss: 1.2312e-06 - accuracy: 1.0000 - val_loss: 0.8942 - val_accuracy: 0.8848\n",
      "Epoch 18/20\n",
      "30/30 [==============================] - 1s 47ms/step - loss: 4.9319e-07 - accuracy: 1.0000 - val_loss: 0.9748 - val_accuracy: 0.8858\n",
      "Epoch 19/20\n",
      "30/30 [==============================] - 1s 45ms/step - loss: 2.0121e-07 - accuracy: 1.0000 - val_loss: 1.0479 - val_accuracy: 0.8850\n",
      "Epoch 20/20\n",
      "30/30 [==============================] - 1s 46ms/step - loss: 8.2728e-08 - accuracy: 1.0000 - val_loss: 1.1026 - val_accuracy: 0.8838\n"
     ]
    }
   ],
   "source": [
    "model = keras.models.Sequential([\n",
    "    layers.Dense(512, activation='relu'),\n",
    "    layers.Dense(512, activation='relu'),\n",
    "    layers.Dense(1, activation='sigmoid')\n",
    "])\n",
    "\n",
    "model.compile(optimizer='rmsprop',\n",
    "              loss='binary_crossentropy',\n",
    "              metrics=[\"accuracy\"])\n",
    "history_original = model.fit(train_data, train_labels, epochs=20, batch_size=512, validation_split=0.4)\n"
   ]
  },
  {
   "cell_type": "code",
   "execution_count": 8,
   "metadata": {},
   "outputs": [
    {
     "name": "stdout",
     "output_type": "stream",
     "text": [
      "Epoch 1/20\n",
      "30/30 [==============================] - 1s 24ms/step - loss: 0.5644 - accuracy: 0.7967 - val_loss: 0.4509 - val_accuracy: 0.8617\n",
      "Epoch 2/20\n",
      "30/30 [==============================] - 0s 7ms/step - loss: 0.3804 - accuracy: 0.8983 - val_loss: 0.4185 - val_accuracy: 0.8600\n",
      "Epoch 3/20\n",
      "30/30 [==============================] - 0s 6ms/step - loss: 0.3208 - accuracy: 0.9182 - val_loss: 0.3676 - val_accuracy: 0.8879\n",
      "Epoch 4/20\n",
      "30/30 [==============================] - 0s 6ms/step - loss: 0.2909 - accuracy: 0.9298 - val_loss: 0.3573 - val_accuracy: 0.8904\n",
      "Epoch 5/20\n",
      "30/30 [==============================] - 0s 6ms/step - loss: 0.2724 - accuracy: 0.9331 - val_loss: 0.4109 - val_accuracy: 0.8630\n",
      "Epoch 6/20\n",
      "30/30 [==============================] - 0s 6ms/step - loss: 0.2590 - accuracy: 0.9403 - val_loss: 0.3672 - val_accuracy: 0.8851\n",
      "Epoch 7/20\n",
      "30/30 [==============================] - 0s 6ms/step - loss: 0.2552 - accuracy: 0.9392 - val_loss: 0.3683 - val_accuracy: 0.8826\n",
      "Epoch 8/20\n",
      "30/30 [==============================] - 0s 6ms/step - loss: 0.2430 - accuracy: 0.9447 - val_loss: 0.3765 - val_accuracy: 0.8826\n",
      "Epoch 9/20\n",
      "30/30 [==============================] - 0s 6ms/step - loss: 0.2375 - accuracy: 0.9453 - val_loss: 0.3744 - val_accuracy: 0.8805\n",
      "Epoch 10/20\n",
      "30/30 [==============================] - 0s 6ms/step - loss: 0.2300 - accuracy: 0.9505 - val_loss: 0.4158 - val_accuracy: 0.8714\n",
      "Epoch 11/20\n",
      "30/30 [==============================] - 0s 6ms/step - loss: 0.2269 - accuracy: 0.9495 - val_loss: 0.3821 - val_accuracy: 0.8810\n",
      "Epoch 12/20\n",
      "30/30 [==============================] - 0s 6ms/step - loss: 0.2306 - accuracy: 0.9481 - val_loss: 0.3884 - val_accuracy: 0.8773\n",
      "Epoch 13/20\n",
      "30/30 [==============================] - 0s 6ms/step - loss: 0.2206 - accuracy: 0.9517 - val_loss: 0.3919 - val_accuracy: 0.8772\n",
      "Epoch 14/20\n",
      "30/30 [==============================] - 0s 6ms/step - loss: 0.2240 - accuracy: 0.9484 - val_loss: 0.3996 - val_accuracy: 0.8772\n",
      "Epoch 15/20\n",
      "30/30 [==============================] - 0s 6ms/step - loss: 0.2141 - accuracy: 0.9562 - val_loss: 0.4023 - val_accuracy: 0.8763\n",
      "Epoch 16/20\n",
      "30/30 [==============================] - 0s 6ms/step - loss: 0.2177 - accuracy: 0.9512 - val_loss: 0.4009 - val_accuracy: 0.8786\n",
      "Epoch 17/20\n",
      "30/30 [==============================] - 0s 6ms/step - loss: 0.2112 - accuracy: 0.9554 - val_loss: 0.4122 - val_accuracy: 0.8737\n",
      "Epoch 18/20\n",
      "30/30 [==============================] - 0s 6ms/step - loss: 0.2121 - accuracy: 0.9542 - val_loss: 0.4070 - val_accuracy: 0.8743\n",
      "Epoch 19/20\n",
      "30/30 [==============================] - 0s 6ms/step - loss: 0.2143 - accuracy: 0.9529 - val_loss: 0.4353 - val_accuracy: 0.8696\n",
      "Epoch 20/20\n",
      "30/30 [==============================] - 0s 6ms/step - loss: 0.2042 - accuracy: 0.9595 - val_loss: 0.4785 - val_accuracy: 0.8554\n"
     ]
    }
   ],
   "source": [
    "model = keras.models.Sequential([\n",
    "    layers.Dense(16,\n",
    "                 kernel_regularizer=keras.regularizers.l2(0.002),\n",
    "                 activation='relu'),\n",
    "    layers.Dense(16, \n",
    "                 kernel_regularizer=keras.regularizers.l2(0.002),\n",
    "                 activation='relu'),\n",
    "    layers.Dense(1, activation='sigmoid')\n",
    "])\n",
    "\n",
    "model.compile(optimizer='rmsprop',\n",
    "              loss='binary_crossentropy',\n",
    "              metrics=[\"accuracy\"])\n",
    "history_l2_reg = model.fit(train_data, train_labels, epochs=20, batch_size=512, validation_split=0.4)\n"
   ]
  },
  {
   "cell_type": "code",
   "execution_count": 9,
   "metadata": {},
   "outputs": [
    {
     "name": "stdout",
     "output_type": "stream",
     "text": [
      "Epoch 1/20\n",
      "30/30 [==============================] - 1s 37ms/step - loss: 0.6219 - accuracy: 0.6454 - val_loss: 0.4946 - val_accuracy: 0.8280\n",
      "Epoch 2/20\n",
      "30/30 [==============================] - 0s 14ms/step - loss: 0.4953 - accuracy: 0.7793 - val_loss: 0.3782 - val_accuracy: 0.8751\n",
      "Epoch 3/20\n",
      "30/30 [==============================] - 0s 6ms/step - loss: 0.4050 - accuracy: 0.8411 - val_loss: 0.3182 - val_accuracy: 0.8808\n",
      "Epoch 4/20\n",
      "30/30 [==============================] - 0s 6ms/step - loss: 0.3483 - accuracy: 0.8652 - val_loss: 0.2939 - val_accuracy: 0.8832\n",
      "Epoch 5/20\n",
      "30/30 [==============================] - 0s 7ms/step - loss: 0.2990 - accuracy: 0.8953 - val_loss: 0.2790 - val_accuracy: 0.8880\n",
      "Epoch 6/20\n",
      "30/30 [==============================] - 0s 7ms/step - loss: 0.2646 - accuracy: 0.9078 - val_loss: 0.2742 - val_accuracy: 0.8923\n",
      "Epoch 7/20\n",
      "30/30 [==============================] - 0s 6ms/step - loss: 0.2301 - accuracy: 0.9221 - val_loss: 0.2864 - val_accuracy: 0.8900\n",
      "Epoch 8/20\n",
      "30/30 [==============================] - 0s 6ms/step - loss: 0.2079 - accuracy: 0.9321 - val_loss: 0.2942 - val_accuracy: 0.8883\n",
      "Epoch 9/20\n",
      "30/30 [==============================] - 0s 6ms/step - loss: 0.1810 - accuracy: 0.9395 - val_loss: 0.3048 - val_accuracy: 0.8897\n",
      "Epoch 10/20\n",
      "30/30 [==============================] - 0s 7ms/step - loss: 0.1686 - accuracy: 0.9454 - val_loss: 0.3235 - val_accuracy: 0.8876\n",
      "Epoch 11/20\n",
      "30/30 [==============================] - 0s 6ms/step - loss: 0.1539 - accuracy: 0.9508 - val_loss: 0.3695 - val_accuracy: 0.8861\n",
      "Epoch 12/20\n",
      "30/30 [==============================] - 0s 10ms/step - loss: 0.1356 - accuracy: 0.9564 - val_loss: 0.3538 - val_accuracy: 0.8879\n",
      "Epoch 13/20\n",
      "30/30 [==============================] - 0s 15ms/step - loss: 0.1246 - accuracy: 0.9607 - val_loss: 0.4099 - val_accuracy: 0.8869\n",
      "Epoch 14/20\n",
      "30/30 [==============================] - 0s 7ms/step - loss: 0.1160 - accuracy: 0.9631 - val_loss: 0.4423 - val_accuracy: 0.8842\n",
      "Epoch 15/20\n",
      "30/30 [==============================] - 0s 6ms/step - loss: 0.1085 - accuracy: 0.9661 - val_loss: 0.4491 - val_accuracy: 0.8853\n",
      "Epoch 16/20\n",
      "30/30 [==============================] - 0s 6ms/step - loss: 0.0985 - accuracy: 0.9685 - val_loss: 0.4858 - val_accuracy: 0.8834\n",
      "Epoch 17/20\n",
      "30/30 [==============================] - 0s 15ms/step - loss: 0.0969 - accuracy: 0.9690 - val_loss: 0.5136 - val_accuracy: 0.8851\n",
      "Epoch 18/20\n",
      "30/30 [==============================] - 0s 6ms/step - loss: 0.0891 - accuracy: 0.9712 - val_loss: 0.5160 - val_accuracy: 0.8859\n",
      "Epoch 19/20\n",
      "30/30 [==============================] - 0s 7ms/step - loss: 0.0905 - accuracy: 0.9698 - val_loss: 0.5434 - val_accuracy: 0.8864\n",
      "Epoch 20/20\n",
      "30/30 [==============================] - 0s 6ms/step - loss: 0.0862 - accuracy: 0.9705 - val_loss: 0.5758 - val_accuracy: 0.8843\n"
     ]
    }
   ],
   "source": [
    "model = keras.models.Sequential([\n",
    "    layers.Dense(16, activation='relu'),\n",
    "    layers.Dropout(0.5),\n",
    "    layers.Dense(16, activation='relu'),\n",
    "    layers.Dropout(0.5),\n",
    "    layers.Dense(1, activation='sigmoid')\n",
    "])\n",
    "\n",
    "model.compile(optimizer='rmsprop',\n",
    "              loss='binary_crossentropy',\n",
    "              metrics=[\"accuracy\"])\n",
    "history_dropout = model.fit(train_data, train_labels, epochs=20, batch_size=512, validation_split=0.4)\n"
   ]
  }
 ],
 "metadata": {
  "kernelspec": {
   "display_name": "default",
   "language": "python",
   "name": "python3"
  },
  "language_info": {
   "codemirror_mode": {
    "name": "ipython",
    "version": 3
   },
   "file_extension": ".py",
   "mimetype": "text/x-python",
   "name": "python",
   "nbconvert_exporter": "python",
   "pygments_lexer": "ipython3",
   "version": "3.9.15"
  }
 },
 "nbformat": 4,
 "nbformat_minor": 2
}
