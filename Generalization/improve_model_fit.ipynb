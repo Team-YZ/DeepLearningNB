{
 "cells": [
  {
   "cell_type": "code",
   "execution_count": 1,
   "metadata": {},
   "outputs": [],
   "source": [
    "from tensorflow import keras\n",
    "from tensorflow.keras import datasets, layers\n",
    "import numpy as np\n",
    "import matplotlib.pyplot as plt"
   ]
  },
  {
   "cell_type": "code",
   "execution_count": 2,
   "metadata": {},
   "outputs": [],
   "source": [
    "(train_images, train_labels), _ = datasets.mnist.load_data()"
   ]
  },
  {
   "cell_type": "code",
   "execution_count": 3,
   "metadata": {},
   "outputs": [],
   "source": [
    "train_images = train_images.reshape((60000, 28 * 28))\n",
    "train_images = train_images.astype(\"float32\")  / 255"
   ]
  },
  {
   "cell_type": "markdown",
   "metadata": {},
   "source": [
    "## Overfit Model"
   ]
  },
  {
   "cell_type": "code",
   "execution_count": 4,
   "metadata": {},
   "outputs": [
    {
     "name": "stdout",
     "output_type": "stream",
     "text": [
      "Epoch 1/10\n",
      "  1/375 [..............................] - ETA: 1:09 - loss: 2.3155 - accuracy: 0.1172"
     ]
    },
    {
     "name": "stderr",
     "output_type": "stream",
     "text": [
      "2025-06-03 23:50:05.508186: I tensorflow/compiler/mlir/mlir_graph_optimization_pass.cc:185] None of the MLIR Optimization Passes are enabled (registered 2)\n",
      "2025-06-03 23:50:05.508728: W tensorflow/core/platform/profile_utils/cpu_utils.cc:128] Failed to get CPU frequency: 0 Hz\n"
     ]
    },
    {
     "name": "stdout",
     "output_type": "stream",
     "text": [
      "375/375 [==============================] - 1s 3ms/step - loss: 1029.1943 - accuracy: 0.4082 - val_loss: 2.4108 - val_accuracy: 0.2315\n",
      "Epoch 2/10\n",
      "375/375 [==============================] - 1s 3ms/step - loss: 3.1989 - accuracy: 0.2636 - val_loss: 2.1826 - val_accuracy: 0.2870\n",
      "Epoch 3/10\n",
      "375/375 [==============================] - 1s 3ms/step - loss: 3.0518 - accuracy: 0.2618 - val_loss: 2.9121 - val_accuracy: 0.2608\n",
      "Epoch 4/10\n",
      "375/375 [==============================] - 1s 3ms/step - loss: 3.0061 - accuracy: 0.2744 - val_loss: 2.0382 - val_accuracy: 0.2789\n",
      "Epoch 5/10\n",
      "375/375 [==============================] - 1s 3ms/step - loss: 2.7241 - accuracy: 0.2582 - val_loss: 3.6189 - val_accuracy: 0.2335\n",
      "Epoch 6/10\n",
      "375/375 [==============================] - 1s 3ms/step - loss: 2.8195 - accuracy: 0.2838 - val_loss: 2.4007 - val_accuracy: 0.2386\n",
      "Epoch 7/10\n",
      "375/375 [==============================] - 1s 3ms/step - loss: 2.7330 - accuracy: 0.2706 - val_loss: 2.3844 - val_accuracy: 0.2998\n",
      "Epoch 8/10\n",
      "375/375 [==============================] - 1s 3ms/step - loss: 2.4623 - accuracy: 0.2739 - val_loss: 2.0933 - val_accuracy: 0.3083\n",
      "Epoch 9/10\n",
      "375/375 [==============================] - 1s 3ms/step - loss: 2.3406 - accuracy: 0.2859 - val_loss: 2.3751 - val_accuracy: 0.3041\n",
      "Epoch 10/10\n",
      "375/375 [==============================] - 1s 3ms/step - loss: 2.6974 - accuracy: 0.3201 - val_loss: 2.1053 - val_accuracy: 0.3367\n"
     ]
    },
    {
     "data": {
      "text/plain": [
       "<keras.callbacks.History at 0x317585eb0>"
      ]
     },
     "execution_count": 4,
     "metadata": {},
     "output_type": "execute_result"
    }
   ],
   "source": [
    "model = keras.Sequential([\n",
    "    layers.Dense(512, activation=\"relu\"),\n",
    "    layers.Dense(10, activation=\"softmax\")\n",
    "])\n",
    "model.compile(optimizer=keras.optimizers.RMSprop(1.),\n",
    "              loss=\"sparse_categorical_crossentropy\",\n",
    "              metrics=[\"accuracy\"])\n",
    "model.fit(train_images, train_labels, epochs=10, batch_size=128, validation_split=0.2)"
   ]
  },
  {
   "cell_type": "markdown",
   "metadata": {},
   "source": [
    "## Improve Model Fit"
   ]
  },
  {
   "cell_type": "code",
   "execution_count": 5,
   "metadata": {},
   "outputs": [],
   "source": [
    "model = keras.Sequential([\n",
    "    layers.Dense(512, activation=\"relu\"),\n",
    "    layers.Dense(10, activation=\"softmax\")\n",
    "])"
   ]
  },
  {
   "cell_type": "code",
   "execution_count": 6,
   "metadata": {},
   "outputs": [
    {
     "name": "stdout",
     "output_type": "stream",
     "text": [
      "Epoch 1/10\n",
      "375/375 [==============================] - 1s 3ms/step - loss: 0.3579 - accuracy: 0.9125 - val_loss: 0.2004 - val_accuracy: 0.9430\n",
      "Epoch 2/10\n",
      "375/375 [==============================] - 1s 3ms/step - loss: 0.1416 - accuracy: 0.9638 - val_loss: 0.1325 - val_accuracy: 0.9690\n",
      "Epoch 3/10\n",
      "375/375 [==============================] - 1s 3ms/step - loss: 0.1181 - accuracy: 0.9720 - val_loss: 0.1613 - val_accuracy: 0.9698\n",
      "Epoch 4/10\n",
      "375/375 [==============================] - 1s 3ms/step - loss: 0.0999 - accuracy: 0.9782 - val_loss: 0.2458 - val_accuracy: 0.9657\n",
      "Epoch 5/10\n",
      "375/375 [==============================] - 1s 3ms/step - loss: 0.0913 - accuracy: 0.9813 - val_loss: 0.2022 - val_accuracy: 0.9702\n",
      "Epoch 6/10\n",
      "375/375 [==============================] - 1s 3ms/step - loss: 0.0764 - accuracy: 0.9845 - val_loss: 0.2085 - val_accuracy: 0.9744\n",
      "Epoch 7/10\n",
      "375/375 [==============================] - 1s 3ms/step - loss: 0.0737 - accuracy: 0.9866 - val_loss: 0.2507 - val_accuracy: 0.9727\n",
      "Epoch 8/10\n",
      "375/375 [==============================] - 1s 3ms/step - loss: 0.0643 - accuracy: 0.9881 - val_loss: 0.2337 - val_accuracy: 0.9753\n",
      "Epoch 9/10\n",
      "375/375 [==============================] - 1s 3ms/step - loss: 0.0567 - accuracy: 0.9899 - val_loss: 0.3094 - val_accuracy: 0.9726\n",
      "Epoch 10/10\n",
      "375/375 [==============================] - 1s 3ms/step - loss: 0.0601 - accuracy: 0.9902 - val_loss: 0.3045 - val_accuracy: 0.9733\n"
     ]
    },
    {
     "data": {
      "text/plain": [
       "<keras.callbacks.History at 0x3199a6d90>"
      ]
     },
     "execution_count": 6,
     "metadata": {},
     "output_type": "execute_result"
    }
   ],
   "source": [
    "model.compile(optimizer=keras.optimizers.RMSprop(1e-2),\n",
    "              loss=\"sparse_categorical_crossentropy\",\n",
    "              metrics=[\"accuracy\"])\n",
    "model.fit(train_images, train_labels, epochs=10, batch_size=128, validation_split=0.2)"
   ]
  }
 ],
 "metadata": {
  "kernelspec": {
   "display_name": "default",
   "language": "python",
   "name": "python3"
  },
  "language_info": {
   "codemirror_mode": {
    "name": "ipython",
    "version": 3
   },
   "file_extension": ".py",
   "mimetype": "text/x-python",
   "name": "python",
   "nbconvert_exporter": "python",
   "pygments_lexer": "ipython3",
   "version": "3.9.15"
  }
 },
 "nbformat": 4,
 "nbformat_minor": 2
}
