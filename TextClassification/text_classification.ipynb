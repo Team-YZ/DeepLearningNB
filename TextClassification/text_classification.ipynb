{
  "cells": [
    {
      "cell_type": "markdown",
      "id": "899c279a",
      "metadata": {
        "id": "899c279a"
      },
      "source": [
        "# Text Classification\n"
      ]
    },
    {
      "cell_type": "markdown",
      "id": "33a908ef",
      "metadata": {
        "id": "33a908ef"
      },
      "source": [
        "## Tokenization"
      ]
    },
    {
      "cell_type": "code",
      "execution_count": 1,
      "id": "2fb9a6ce",
      "metadata": {
        "id": "2fb9a6ce"
      },
      "outputs": [],
      "source": [
        "import regex as re\n",
        "\n",
        "def split_chars(text):\n",
        "    return re.findall(r\".\", text)"
      ]
    },
    {
      "cell_type": "code",
      "execution_count": 2,
      "id": "1b76fad6",
      "metadata": {
        "colab": {
          "base_uri": "https://localhost:8080/"
        },
        "id": "1b76fad6",
        "outputId": "c92dcd9b-22d3-48f5-fc68-096778fbd83b"
      },
      "outputs": [
        {
          "output_type": "execute_result",
          "data": {
            "text/plain": [
              "['T', 'h', 'e', ' ', 'q', 'u', 'i', 'c', 'k', ' ', 'b', 'r']"
            ]
          },
          "metadata": {},
          "execution_count": 2
        }
      ],
      "source": [
        "chars = split_chars(\"The quick brown fox jumped over the lazy dog.\")\n",
        "chars[:12]"
      ]
    },
    {
      "cell_type": "code",
      "execution_count": 3,
      "id": "44d9982c",
      "metadata": {
        "id": "44d9982c"
      },
      "outputs": [],
      "source": [
        "def split_words(text):\n",
        "    return re.findall(r\"[\\w]+|[.,!?;]\", text)"
      ]
    },
    {
      "cell_type": "code",
      "execution_count": 4,
      "id": "49f94a7c",
      "metadata": {
        "colab": {
          "base_uri": "https://localhost:8080/"
        },
        "id": "49f94a7c",
        "outputId": "f33d32dd-dceb-49f5-a639-d099c06d2876"
      },
      "outputs": [
        {
          "output_type": "execute_result",
          "data": {
            "text/plain": [
              "['The', 'quick', 'brown', 'fox', 'jumped', 'over', 'the', 'dog', '.']"
            ]
          },
          "metadata": {},
          "execution_count": 4
        }
      ],
      "source": [
        "split_words(\"The quick brown fox jumped over the dog.\")"
      ]
    },
    {
      "cell_type": "code",
      "execution_count": 5,
      "id": "330e0add",
      "metadata": {
        "colab": {
          "base_uri": "https://localhost:8080/"
        },
        "id": "330e0add",
        "outputId": "c8e79b16-6fb8-407c-9876-8ef6a1c38271"
      },
      "outputs": [
        {
          "output_type": "stream",
          "name": "stdout",
          "text": [
            "[0, 2, 3, 4, 5, 6, 1, 0, 7, 8]\n"
          ]
        }
      ],
      "source": [
        "vocabulary = {\n",
        "    \"[UNK]\": 0,\n",
        "    \"the\": 1,\n",
        "    \"quick\": 2,\n",
        "    \"brown\": 3,\n",
        "    \"fox\": 4,\n",
        "    \"jumped\": 5,\n",
        "    \"over\": 6,\n",
        "    \"dog\": 7,\n",
        "    \".\": 8,\n",
        "}\n",
        "words = split_words(\"The quick brown fox jumped over the lazy dog.\")\n",
        "indices = [vocabulary.get(word, 0) for word in words]\n",
        "print(indices)"
      ]
    },
    {
      "cell_type": "code",
      "execution_count": 6,
      "id": "b638b430",
      "metadata": {
        "id": "b638b430"
      },
      "outputs": [],
      "source": [
        "class CharTokenizer:\n",
        "    def __init__(self, vocabulary):\n",
        "        self.vocabulary = vocabulary\n",
        "        self.unk_id = vocabulary[\"[UNK]\"]\n",
        "\n",
        "    def standardize(self, inputs):\n",
        "        return inputs.lower()\n",
        "\n",
        "    def split(self, inputs):\n",
        "        return re.findall(r\".\", inputs)\n",
        "\n",
        "    def index(self, tokens):\n",
        "        return [self.vocabulary.get(t, self.unk_id) for t in tokens]\n",
        "\n",
        "    def __call__(self, inputs):\n",
        "        inputs = self.standardize(inputs)\n",
        "        tokens = self.split(inputs)\n",
        "        indices = self.index(tokens)\n",
        "        return indices"
      ]
    },
    {
      "cell_type": "code",
      "execution_count": 7,
      "id": "86b5a0fd",
      "metadata": {
        "id": "86b5a0fd"
      },
      "outputs": [],
      "source": [
        "import collections\n",
        "\n",
        "def compute_char_vocabulary(inputs, max_size):\n",
        "    char_counts = collections.Counter()\n",
        "    for x in inputs:\n",
        "        x = x.lower()\n",
        "        tokens = re.findall(r\".\", x)\n",
        "        char_counts.update(tokens)\n",
        "    vocabulary = [\"[UNK]\"]\n",
        "    most_common = char_counts.most_common(max_size - len(vocabulary))\n",
        "    for token, count in most_common:\n",
        "        vocabulary.append(token)\n",
        "    return dict((token, i) for i, token in enumerate(vocabulary))"
      ]
    },
    {
      "cell_type": "code",
      "execution_count": 8,
      "id": "ba99404e",
      "metadata": {
        "id": "ba99404e"
      },
      "outputs": [],
      "source": [
        "class WordTokenizer:\n",
        "    def __init__(self, vocabulary):\n",
        "        self.vocabulary = vocabulary\n",
        "        self.unk_id = vocabulary[\"[UNK]\"]\n",
        "\n",
        "    def standardize(self, inputs):\n",
        "        return inputs.lower()\n",
        "\n",
        "    def split(self, inputs):\n",
        "        return re.findall(r\"[\\w]+|[.,!?;]\", inputs)\n",
        "\n",
        "    def index(self, tokens):\n",
        "        return [self.vocabulary.get(t, self.unk_id) for t in tokens]\n",
        "\n",
        "    def __call__(self, inputs):\n",
        "        inputs = self.standardize(inputs)\n",
        "        tokens = self.split(inputs)\n",
        "        indices = self.index(tokens)\n",
        "        return indices"
      ]
    },
    {
      "cell_type": "code",
      "execution_count": 9,
      "id": "0893e2e3",
      "metadata": {
        "id": "0893e2e3"
      },
      "outputs": [],
      "source": [
        "def compute_word_vocabulary(inputs, max_size):\n",
        "    word_counts = collections.Counter()\n",
        "    for x in inputs:\n",
        "        x = x.lower()\n",
        "        tokens = re.findall(r\"[\\w]+|[.,!?;]\", x)\n",
        "        word_counts.update(tokens)\n",
        "    vocabulary = [\"[UNK]\"]\n",
        "    most_common = word_counts.most_common(max_size - len(vocabulary))\n",
        "    for token, count in most_common:\n",
        "        vocabulary.append(token)\n",
        "    return dict((token, i) for i, token in enumerate(vocabulary))"
      ]
    },
    {
      "cell_type": "code",
      "execution_count": 10,
      "id": "cdf9aebb",
      "metadata": {
        "colab": {
          "base_uri": "https://localhost:8080/"
        },
        "id": "cdf9aebb",
        "outputId": "0510912c-6840-4507-dfdc-b5bb0fc07a17"
      },
      "outputs": [
        {
          "output_type": "stream",
          "name": "stdout",
          "text": [
            "Downloading data from https://www.gutenberg.org/files/2701/old/moby10b.txt\n",
            "\u001b[1m1256167/1256167\u001b[0m \u001b[32m━━━━━━━━━━━━━━━━━━━━\u001b[0m\u001b[37m\u001b[0m \u001b[1m0s\u001b[0m 0us/step\n"
          ]
        }
      ],
      "source": [
        "from tensorflow import keras\n",
        "\n",
        "filename = keras.utils.get_file(\n",
        "    origin=\"https://www.gutenberg.org/files/2701/old/moby10b.txt\",\n",
        ")\n",
        "moby_dick = list(open(filename, \"r\"))\n",
        "\n",
        "vocabulary = compute_char_vocabulary(moby_dick, max_size=100)\n",
        "char_tokenizer = CharTokenizer(vocabulary)"
      ]
    },
    {
      "cell_type": "code",
      "execution_count": 11,
      "id": "ac383ec9",
      "metadata": {
        "colab": {
          "base_uri": "https://localhost:8080/"
        },
        "id": "ac383ec9",
        "outputId": "cb18a24b-d4d0-4ee5-dbf3-3dbb9b4360e8"
      },
      "outputs": [
        {
          "output_type": "stream",
          "name": "stdout",
          "text": [
            "Vocabulary length: 64\n",
            "Vocabulary start: ['[UNK]', ' ', 'e', 't', 'a', 'o', 'n', 'i', 's', 'h']\n",
            "Vocabulary end: ['@', '$', '%', '#', '=', '~', '&', '+', '<', '>']\n",
            "Line length: 63\n"
          ]
        }
      ],
      "source": [
        "print(\"Vocabulary length:\", len(vocabulary))\n",
        "\n",
        "print(\"Vocabulary start:\", list(vocabulary.keys())[:10])\n",
        "\n",
        "print(\"Vocabulary end:\", list(vocabulary.keys())[-10:])\n",
        "\n",
        "print(\"Line length:\", len(char_tokenizer(\n",
        "    \"Call me Ishmael. Some years ago--never mind how long precisely.\"\n",
        ")))"
      ]
    },
    {
      "cell_type": "code",
      "execution_count": 12,
      "id": "57a13655",
      "metadata": {
        "id": "57a13655"
      },
      "outputs": [],
      "source": [
        "vocabulary = compute_word_vocabulary(moby_dick, max_size=2_000)\n",
        "word_tokenizer = WordTokenizer(vocabulary)"
      ]
    },
    {
      "cell_type": "code",
      "execution_count": 13,
      "id": "1749864a",
      "metadata": {
        "colab": {
          "base_uri": "https://localhost:8080/"
        },
        "id": "1749864a",
        "outputId": "d50efe6d-8bb3-4344-ba23-fa1f3212a754"
      },
      "outputs": [
        {
          "output_type": "stream",
          "name": "stdout",
          "text": [
            "Vocabulary length: 2000\n",
            "Vocabulary start: ['[UNK]', ',', 'the', '.', 'of']\n",
            "Vocabulary end: ['tambourine', 'subtle', 'perseus', 'elevated', 'repose']\n",
            "Line length: 13\n"
          ]
        }
      ],
      "source": [
        "print(\"Vocabulary length:\", len(vocabulary))\n",
        "print(\"Vocabulary start:\", list(vocabulary.keys())[:5])\n",
        "print(\"Vocabulary end:\", list(vocabulary.keys())[-5:])\n",
        "print(\"Line length:\", len(word_tokenizer(\n",
        "    \"Call me Ishmael. Some years ago--never mind how long precisely.\"\n",
        ")))"
      ]
    },
    {
      "cell_type": "code",
      "execution_count": 14,
      "id": "a7076fa5",
      "metadata": {
        "id": "a7076fa5"
      },
      "outputs": [],
      "source": [
        "data = [\n",
        "    \"the quick brown fox\",\n",
        "    \"the slow brown fox\",\n",
        "    \"the quick brown foxhound\",\n",
        "]"
      ]
    },
    {
      "cell_type": "code",
      "execution_count": 15,
      "id": "25c592e9",
      "metadata": {
        "id": "25c592e9"
      },
      "outputs": [],
      "source": [
        "def count_and_split_words(data):\n",
        "    counts = collections.Counter()\n",
        "    for line in data:\n",
        "        line = line.lower()\n",
        "        for word in re.findall(r\"[\\w]+|[.,!?;]\", line):\n",
        "            chars = re.findall(r\".\", word)\n",
        "            split_word = \" \".join(chars)\n",
        "            counts[split_word] += 1\n",
        "    return dict(counts)\n",
        "\n",
        "counts = count_and_split_words(data)"
      ]
    },
    {
      "cell_type": "code",
      "execution_count": 16,
      "id": "47e72a1f",
      "metadata": {
        "colab": {
          "base_uri": "https://localhost:8080/"
        },
        "id": "47e72a1f",
        "outputId": "c4052597-6b34-4e20-efde-e97b834dc9f0"
      },
      "outputs": [
        {
          "output_type": "execute_result",
          "data": {
            "text/plain": [
              "{'t h e': 3,\n",
              " 'q u i c k': 2,\n",
              " 'b r o w n': 3,\n",
              " 'f o x': 2,\n",
              " 's l o w': 1,\n",
              " 'f o x h o u n d': 1}"
            ]
          },
          "metadata": {},
          "execution_count": 16
        }
      ],
      "source": [
        "counts"
      ]
    },
    {
      "cell_type": "code",
      "execution_count": 17,
      "id": "51616bec",
      "metadata": {
        "colab": {
          "base_uri": "https://localhost:8080/"
        },
        "id": "51616bec",
        "outputId": "5e8a10f6-3417-445b-b647-36228de1d77c"
      },
      "outputs": [
        {
          "output_type": "stream",
          "name": "stdout",
          "text": [
            "['t h e', 'q u i c k', 'b r ow n', 'f o x', 's l ow', 'f o x h o u n d']\n",
            "['th e', 'q u i c k', 'b r ow n', 'f o x', 's l ow', 'f o x h o u n d']\n",
            "['the', 'q u i c k', 'b r ow n', 'f o x', 's l ow', 'f o x h o u n d']\n",
            "['the', 'q u i c k', 'br ow n', 'f o x', 's l ow', 'f o x h o u n d']\n",
            "['the', 'q u i c k', 'brow n', 'f o x', 's l ow', 'f o x h o u n d']\n",
            "['the', 'q u i c k', 'brown', 'f o x', 's l ow', 'f o x h o u n d']\n",
            "['the', 'q u i c k', 'brown', 'fo x', 's l ow', 'fo x h o u n d']\n",
            "['the', 'q u i c k', 'brown', 'fox', 's l ow', 'fox h o u n d']\n",
            "['the', 'qu i c k', 'brown', 'fox', 's l ow', 'fox h o u n d']\n",
            "['the', 'qui c k', 'brown', 'fox', 's l ow', 'fox h o u n d']\n"
          ]
        }
      ],
      "source": [
        "def count_pairs(counts):\n",
        "    pairs = collections.Counter()\n",
        "    for word, freq in counts.items():\n",
        "        symbols = word.split()\n",
        "        for pair in zip(symbols[:-1], symbols[1:]):\n",
        "            pairs[pair] += freq\n",
        "    return pairs\n",
        "\n",
        "def merge_pair(counts, first, second):\n",
        "    split = re.compile(f\"(?<!\\S){first} {second}(?!\\S)\")\n",
        "    merged = f\"{first}{second}\"\n",
        "    return {split.sub(merged, word): count for word, count in counts.items()}\n",
        "\n",
        "for i in range(10):\n",
        "    pairs = count_pairs(counts)\n",
        "    first, second = max(pairs, key=pairs.get)\n",
        "    counts = merge_pair(counts, first, second)\n",
        "    print(list(counts.keys()))"
      ]
    },
    {
      "cell_type": "code",
      "execution_count": 18,
      "id": "c4241dcf",
      "metadata": {
        "id": "c4241dcf"
      },
      "outputs": [],
      "source": [
        "def compute_sub_word_vocabulary(dataset, vocab_size):\n",
        "    counts = count_and_split_words(dataset)\n",
        "\n",
        "    char_counts = collections.Counter()\n",
        "    for word in counts:\n",
        "        for char in word.split():\n",
        "            char_counts[char] += counts[word]\n",
        "    most_common = char_counts.most_common()\n",
        "    vocab = [\"[UNK]\"] + [char for char, freq in most_common]\n",
        "    merges = []\n",
        "\n",
        "    while len(vocab) < vocab_size:\n",
        "        pairs = count_pairs(counts)\n",
        "        if not pairs:\n",
        "            break\n",
        "        first, second = max(pairs, key=pairs.get)\n",
        "        counts = merge_pair(counts, first, second)\n",
        "        vocab.append(f\"{first}{second}\")\n",
        "        merges.append(f\"{first} {second}\")\n",
        "\n",
        "    vocab = dict((token, index) for index, token in enumerate(vocab))\n",
        "    merges = dict((token, rank) for rank, token in enumerate(merges))\n",
        "    return vocab, merges"
      ]
    },
    {
      "cell_type": "code",
      "execution_count": 19,
      "id": "e8437abf",
      "metadata": {
        "id": "e8437abf"
      },
      "outputs": [],
      "source": [
        "class SubWordTokenizer:\n",
        "    def __init__(self, vocabulary, merges):\n",
        "        self.vocabulary = vocabulary\n",
        "        self.merges = merges\n",
        "        self.unk_id = vocabulary[\"[UNK]\"]\n",
        "\n",
        "    def standardize(self, inputs):\n",
        "        return inputs.lower()\n",
        "\n",
        "    def bpe_merge(self, word):\n",
        "        while True:\n",
        "            pairs = re.findall(r\"(?<!\\S)\\S+ \\S+(?!\\S)\", word, overlapped=True)\n",
        "            if not pairs:\n",
        "                break\n",
        "            best = min(pairs, key=lambda pair: self.merges.get(pair, 1e9))\n",
        "            if best not in self.merges:\n",
        "                break\n",
        "            first, second = best.split()\n",
        "            split = re.compile(f\"(?<!\\S){first} {second}(?!\\S)\")\n",
        "            merged = f\"{first}{second}\"\n",
        "            word = split.sub(merged, word)\n",
        "        return word\n",
        "\n",
        "    def split(self, inputs):\n",
        "        tokens = []\n",
        "        for word in re.findall(r\"[\\w]+|[.,!?;]\", inputs):\n",
        "            word = \" \".join(re.findall(r\".\", word))\n",
        "            word = self.bpe_merge(word)\n",
        "            tokens.extend(word.split())\n",
        "        return tokens\n",
        "\n",
        "    def index(self, tokens):\n",
        "        return [self.vocabulary.get(t, self.unk_id) for t in tokens]\n",
        "\n",
        "    def __call__(self, inputs):\n",
        "        inputs = self.standardize(inputs)\n",
        "        tokens = self.split(inputs)\n",
        "        indices = self.index(tokens)\n",
        "        return indices"
      ]
    },
    {
      "cell_type": "code",
      "execution_count": 20,
      "id": "ae85c021",
      "metadata": {
        "id": "ae85c021"
      },
      "outputs": [],
      "source": [
        "vocabulary, merges = compute_sub_word_vocabulary(moby_dick, 2_000)\n",
        "sub_word_tokenizer = SubWordTokenizer(vocabulary, merges)"
      ]
    },
    {
      "cell_type": "code",
      "execution_count": 21,
      "id": "41f4271d",
      "metadata": {
        "colab": {
          "base_uri": "https://localhost:8080/"
        },
        "id": "41f4271d",
        "outputId": "08417559-3329-42b7-f0ea-a6a12fd46caf"
      },
      "outputs": [
        {
          "output_type": "stream",
          "name": "stdout",
          "text": [
            "Vocabulary length: 2000\n",
            "Vocabulary start: ['[UNK]', 'e', 't', 'a', 'o', 'n', 'i', 's', 'h', 'r']\n",
            "Vocabulary end: ['bright', 'pilot', 'sco', 'ben', 'dem', 'gale', 'ilo']\n",
            "Line length: 16\n"
          ]
        }
      ],
      "source": [
        "print(\"Vocabulary length:\", len(vocabulary))\n",
        "print(\"Vocabulary start:\", list(vocabulary.keys())[:10])\n",
        "print(\"Vocabulary end:\", list(vocabulary.keys())[-7:])\n",
        "print(\"Line length:\", len(sub_word_tokenizer(\n",
        "    \"Call me Ishmael. Some years ago--never mind how long precisely.\"\n",
        ")))"
      ]
    },
    {
      "cell_type": "markdown",
      "id": "2b379660",
      "metadata": {
        "id": "2b379660"
      },
      "source": [
        "## IMDb Classification"
      ]
    },
    {
      "cell_type": "code",
      "execution_count": 33,
      "id": "015aa970",
      "metadata": {
        "colab": {
          "base_uri": "https://localhost:8080/"
        },
        "id": "015aa970",
        "outputId": "e1e27423-9e14-4e8d-d105-76d5deb7965f"
      },
      "outputs": [
        {
          "output_type": "stream",
          "name": "stdout",
          "text": [
            "Downloading data from https://ai.stanford.edu/~amaas/data/sentiment/aclImdb_v1.tar.gz\n",
            "\u001b[1m84125825/84125825\u001b[0m \u001b[32m━━━━━━━━━━━━━━━━━━━━\u001b[0m\u001b[37m\u001b[0m \u001b[1m4s\u001b[0m 0us/step\n"
          ]
        }
      ],
      "source": [
        "import os, pathlib, shutil, random\n",
        "\n",
        "zip_path = keras.utils.get_file(\n",
        "    origin=\"https://ai.stanford.edu/~amaas/data/sentiment/aclImdb_v1.tar.gz\",\n",
        "    fname=\"imdb\",\n",
        "    extract=True,\n",
        ")\n",
        "\n",
        "imdb_extract_dir = pathlib.Path(zip_path) / \"aclImdb\""
      ]
    },
    {
      "cell_type": "code",
      "execution_count": 34,
      "id": "05af829c",
      "metadata": {
        "colab": {
          "base_uri": "https://localhost:8080/"
        },
        "id": "05af829c",
        "outputId": "131d58b3-844d-42f2-822c-84332151cefe"
      },
      "outputs": [
        {
          "output_type": "stream",
          "name": "stdout",
          "text": [
            "/root/.keras/datasets/imdb/aclImdb/train/neg\n",
            "/root/.keras/datasets/imdb/aclImdb/train/pos\n",
            "/root/.keras/datasets/imdb/aclImdb/train/unsup\n",
            "/root/.keras/datasets/imdb/aclImdb/test/neg\n",
            "/root/.keras/datasets/imdb/aclImdb/test/pos\n"
          ]
        }
      ],
      "source": [
        "for path in imdb_extract_dir.glob(\"*/*\"):\n",
        "    if path.is_dir():\n",
        "        print(path)"
      ]
    },
    {
      "cell_type": "code",
      "execution_count": 35,
      "id": "1c0ee5c6",
      "metadata": {
        "colab": {
          "base_uri": "https://localhost:8080/"
        },
        "id": "1c0ee5c6",
        "outputId": "e3188695-adb4-432c-da8c-3ae3b315e848"
      },
      "outputs": [
        {
          "output_type": "stream",
          "name": "stdout",
          "text": [
            "I first saw this back in the early 90s on UK TV, i did like it then but i missed the chance to tape it, many years passed but the film always stuck with me and i lost hope of seeing it TV again, the main thing that stuck with me was the end, the hole castle part really touched me, its easy to watch, has a great story, great music, the list goes on and on, its OK me saying how good it is but everyone will take there own best bits away with them once they have seen it, yes the animation is top notch and beautiful to watch, it does show its age in a very few parts but that has now become part of it beauty, i am so glad it has came out on DVD as it is one of my top 10 films of all time. Buy it or rent it just see it, best viewing is at night alone with drink and food in reach so you don't have to stop the film.<br /><br />Enjoy\n"
          ]
        }
      ],
      "source": [
        "print(open(imdb_extract_dir / \"train\" / \"pos\" / \"4077_10.txt\", \"r\").read())"
      ]
    },
    {
      "cell_type": "code",
      "execution_count": 36,
      "id": "76e23ca0",
      "metadata": {
        "id": "76e23ca0"
      },
      "outputs": [],
      "source": [
        "train_dir = pathlib.Path(\"imdb_train\")\n",
        "test_dir = pathlib.Path(\"imdb_test\")\n",
        "val_dir = pathlib.Path(\"imdb_val\")\n",
        "\n",
        "shutil.copytree(imdb_extract_dir / \"test\", test_dir)\n",
        "\n",
        "val_percentage = 0.2\n",
        "for category in (\"neg\", \"pos\"):\n",
        "    src_dir = imdb_extract_dir / \"train\" / category\n",
        "    src_files = os.listdir(src_dir)\n",
        "    random.Random(1337).shuffle(src_files)\n",
        "    num_val_samples = int(len(src_files) * val_percentage)\n",
        "\n",
        "    os.makedirs(val_dir / category)\n",
        "    for file in src_files[:num_val_samples]:\n",
        "        shutil.copy(src_dir / file, val_dir / category / file)\n",
        "    os.makedirs(train_dir / category)\n",
        "    for file in src_files[num_val_samples:]:\n",
        "        shutil.copy(src_dir / file, train_dir / category / file)"
      ]
    },
    {
      "cell_type": "code",
      "execution_count": 37,
      "id": "0f02d64f",
      "metadata": {
        "colab": {
          "base_uri": "https://localhost:8080/"
        },
        "id": "0f02d64f",
        "outputId": "ee0fb64b-65f8-4767-dff7-25c55bcbcd40"
      },
      "outputs": [
        {
          "output_type": "stream",
          "name": "stdout",
          "text": [
            "Found 20000 files belonging to 2 classes.\n",
            "Found 5000 files belonging to 2 classes.\n",
            "Found 25000 files belonging to 2 classes.\n"
          ]
        }
      ],
      "source": [
        "from tensorflow.keras.utils import text_dataset_from_directory\n",
        "\n",
        "batch_size = 32\n",
        "train_ds = text_dataset_from_directory(train_dir, batch_size=batch_size)\n",
        "val_ds = text_dataset_from_directory(val_dir, batch_size=batch_size)\n",
        "test_ds = text_dataset_from_directory(test_dir, batch_size=batch_size)"
      ]
    },
    {
      "cell_type": "code",
      "execution_count": 38,
      "id": "8ffa7051",
      "metadata": {
        "id": "8ffa7051"
      },
      "outputs": [],
      "source": [
        "from keras import layers\n",
        "\n",
        "max_tokens = 20_000\n",
        "text_vectorization = layers.TextVectorization(\n",
        "    max_tokens=max_tokens,\n",
        "    split=\"whitespace\",\n",
        "    output_mode=\"multi_hot\",\n",
        ")\n",
        "train_ds_no_labels = train_ds.map(lambda x, y: x)\n",
        "text_vectorization.adapt(train_ds_no_labels)\n",
        "\n",
        "bag_of_words_train_ds = train_ds.map(\n",
        "    lambda x, y: (text_vectorization(x), y), num_parallel_calls=8\n",
        ")\n",
        "bag_of_words_val_ds = val_ds.map(\n",
        "    lambda x, y: (text_vectorization(x), y), num_parallel_calls=8\n",
        ")\n",
        "bag_of_words_test_ds = test_ds.map(\n",
        "    lambda x, y: (text_vectorization(x), y), num_parallel_calls=8\n",
        ")"
      ]
    },
    {
      "cell_type": "code",
      "execution_count": 39,
      "id": "a5f1baa5",
      "metadata": {
        "colab": {
          "base_uri": "https://localhost:8080/"
        },
        "id": "a5f1baa5",
        "outputId": "08350016-cde5-4212-b5fc-977eecc96106"
      },
      "outputs": [
        {
          "output_type": "execute_result",
          "data": {
            "text/plain": [
              "(32,)"
            ]
          },
          "metadata": {},
          "execution_count": 39
        }
      ],
      "source": [
        "x, y = next(bag_of_words_train_ds.as_numpy_iterator())\n",
        "x.shape\n",
        "y.shape"
      ]
    },
    {
      "cell_type": "code",
      "execution_count": 40,
      "id": "bd761ddc",
      "metadata": {
        "id": "bd761ddc"
      },
      "outputs": [],
      "source": [
        "def build_linear_classifier(max_tokens, name):\n",
        "    inputs = keras.Input(shape=(max_tokens,))\n",
        "    outputs = layers.Dense(1, activation=\"sigmoid\")(inputs)\n",
        "    model = keras.Model(inputs, outputs, name=name)\n",
        "    model.compile(\n",
        "        optimizer=\"adam\",\n",
        "        loss=\"binary_crossentropy\",\n",
        "        metrics=[\"accuracy\"],\n",
        "    )\n",
        "    return model\n",
        "\n",
        "model = build_linear_classifier(max_tokens, \"bag_of_words_classifier\")"
      ]
    },
    {
      "cell_type": "code",
      "execution_count": 41,
      "id": "daf1bf22",
      "metadata": {
        "colab": {
          "base_uri": "https://localhost:8080/",
          "height": 193
        },
        "id": "daf1bf22",
        "outputId": "1f8462e4-2580-4a54-e95f-b7fb64875cee"
      },
      "outputs": [
        {
          "output_type": "display_data",
          "data": {
            "text/plain": [
              "\u001b[1mModel: \"bag_of_words_classifier\"\u001b[0m\n"
            ],
            "text/html": [
              "<pre style=\"white-space:pre;overflow-x:auto;line-height:normal;font-family:Menlo,'DejaVu Sans Mono',consolas,'Courier New',monospace\"><span style=\"font-weight: bold\">Model: \"bag_of_words_classifier\"</span>\n",
              "</pre>\n"
            ]
          },
          "metadata": {}
        },
        {
          "output_type": "display_data",
          "data": {
            "text/plain": [
              "┏━━━━━━━━━━━━━━━━━━━━━━━━━━━━━━━━━━━┳━━━━━━━━━━━━━━━━━━━━━━━━━━┳━━━━━━━━━━━━━━━┓\n",
              "┃\u001b[1m \u001b[0m\u001b[1mLayer (type)                     \u001b[0m\u001b[1m \u001b[0m┃\u001b[1m \u001b[0m\u001b[1mOutput Shape            \u001b[0m\u001b[1m \u001b[0m┃\u001b[1m \u001b[0m\u001b[1m      Param #\u001b[0m\u001b[1m \u001b[0m┃\n",
              "┡━━━━━━━━━━━━━━━━━━━━━━━━━━━━━━━━━━━╇━━━━━━━━━━━━━━━━━━━━━━━━━━╇━━━━━━━━━━━━━━━┩\n",
              "│ input_layer (\u001b[38;5;33mInputLayer\u001b[0m)          │ (\u001b[38;5;45mNone\u001b[0m, \u001b[38;5;34m20000\u001b[0m)            │             \u001b[38;5;34m0\u001b[0m │\n",
              "├───────────────────────────────────┼──────────────────────────┼───────────────┤\n",
              "│ dense (\u001b[38;5;33mDense\u001b[0m)                     │ (\u001b[38;5;45mNone\u001b[0m, \u001b[38;5;34m1\u001b[0m)                │        \u001b[38;5;34m20,001\u001b[0m │\n",
              "└───────────────────────────────────┴──────────────────────────┴───────────────┘\n"
            ],
            "text/html": [
              "<pre style=\"white-space:pre;overflow-x:auto;line-height:normal;font-family:Menlo,'DejaVu Sans Mono',consolas,'Courier New',monospace\">┏━━━━━━━━━━━━━━━━━━━━━━━━━━━━━━━━━━━┳━━━━━━━━━━━━━━━━━━━━━━━━━━┳━━━━━━━━━━━━━━━┓\n",
              "┃<span style=\"font-weight: bold\"> Layer (type)                      </span>┃<span style=\"font-weight: bold\"> Output Shape             </span>┃<span style=\"font-weight: bold\">       Param # </span>┃\n",
              "┡━━━━━━━━━━━━━━━━━━━━━━━━━━━━━━━━━━━╇━━━━━━━━━━━━━━━━━━━━━━━━━━╇━━━━━━━━━━━━━━━┩\n",
              "│ input_layer (<span style=\"color: #0087ff; text-decoration-color: #0087ff\">InputLayer</span>)          │ (<span style=\"color: #00d7ff; text-decoration-color: #00d7ff\">None</span>, <span style=\"color: #00af00; text-decoration-color: #00af00\">20000</span>)            │             <span style=\"color: #00af00; text-decoration-color: #00af00\">0</span> │\n",
              "├───────────────────────────────────┼──────────────────────────┼───────────────┤\n",
              "│ dense (<span style=\"color: #0087ff; text-decoration-color: #0087ff\">Dense</span>)                     │ (<span style=\"color: #00d7ff; text-decoration-color: #00d7ff\">None</span>, <span style=\"color: #00af00; text-decoration-color: #00af00\">1</span>)                │        <span style=\"color: #00af00; text-decoration-color: #00af00\">20,001</span> │\n",
              "└───────────────────────────────────┴──────────────────────────┴───────────────┘\n",
              "</pre>\n"
            ]
          },
          "metadata": {}
        },
        {
          "output_type": "display_data",
          "data": {
            "text/plain": [
              "\u001b[1m Total params: \u001b[0m\u001b[38;5;34m20,001\u001b[0m (78.13 KB)\n"
            ],
            "text/html": [
              "<pre style=\"white-space:pre;overflow-x:auto;line-height:normal;font-family:Menlo,'DejaVu Sans Mono',consolas,'Courier New',monospace\"><span style=\"font-weight: bold\"> Total params: </span><span style=\"color: #00af00; text-decoration-color: #00af00\">20,001</span> (78.13 KB)\n",
              "</pre>\n"
            ]
          },
          "metadata": {}
        },
        {
          "output_type": "display_data",
          "data": {
            "text/plain": [
              "\u001b[1m Trainable params: \u001b[0m\u001b[38;5;34m20,001\u001b[0m (78.13 KB)\n"
            ],
            "text/html": [
              "<pre style=\"white-space:pre;overflow-x:auto;line-height:normal;font-family:Menlo,'DejaVu Sans Mono',consolas,'Courier New',monospace\"><span style=\"font-weight: bold\"> Trainable params: </span><span style=\"color: #00af00; text-decoration-color: #00af00\">20,001</span> (78.13 KB)\n",
              "</pre>\n"
            ]
          },
          "metadata": {}
        },
        {
          "output_type": "display_data",
          "data": {
            "text/plain": [
              "\u001b[1m Non-trainable params: \u001b[0m\u001b[38;5;34m0\u001b[0m (0.00 B)\n"
            ],
            "text/html": [
              "<pre style=\"white-space:pre;overflow-x:auto;line-height:normal;font-family:Menlo,'DejaVu Sans Mono',consolas,'Courier New',monospace\"><span style=\"font-weight: bold\"> Non-trainable params: </span><span style=\"color: #00af00; text-decoration-color: #00af00\">0</span> (0.00 B)\n",
              "</pre>\n"
            ]
          },
          "metadata": {}
        }
      ],
      "source": [
        "model.summary(line_length=80)"
      ]
    },
    {
      "cell_type": "code",
      "execution_count": 42,
      "id": "5d6f44a0",
      "metadata": {
        "colab": {
          "base_uri": "https://localhost:8080/"
        },
        "id": "5d6f44a0",
        "outputId": "3eb523f6-c76f-466d-92f9-50a14d888bd3"
      },
      "outputs": [
        {
          "output_type": "stream",
          "name": "stdout",
          "text": [
            "Epoch 1/10\n",
            "\u001b[1m625/625\u001b[0m \u001b[32m━━━━━━━━━━━━━━━━━━━━\u001b[0m\u001b[37m\u001b[0m \u001b[1m4s\u001b[0m 5ms/step - accuracy: 0.7756 - loss: 0.5471 - val_accuracy: 0.8776 - val_loss: 0.3561\n",
            "Epoch 2/10\n",
            "\u001b[1m625/625\u001b[0m \u001b[32m━━━━━━━━━━━━━━━━━━━━\u001b[0m\u001b[37m\u001b[0m \u001b[1m3s\u001b[0m 4ms/step - accuracy: 0.9003 - loss: 0.3126 - val_accuracy: 0.8910 - val_loss: 0.3016\n",
            "Epoch 3/10\n",
            "\u001b[1m625/625\u001b[0m \u001b[32m━━━━━━━━━━━━━━━━━━━━\u001b[0m\u001b[37m\u001b[0m \u001b[1m3s\u001b[0m 4ms/step - accuracy: 0.9233 - loss: 0.2476 - val_accuracy: 0.8944 - val_loss: 0.2798\n",
            "Epoch 4/10\n",
            "\u001b[1m625/625\u001b[0m \u001b[32m━━━━━━━━━━━━━━━━━━━━\u001b[0m\u001b[37m\u001b[0m \u001b[1m3s\u001b[0m 4ms/step - accuracy: 0.9387 - loss: 0.2093 - val_accuracy: 0.8974 - val_loss: 0.2687\n",
            "Epoch 5/10\n",
            "\u001b[1m625/625\u001b[0m \u001b[32m━━━━━━━━━━━━━━━━━━━━\u001b[0m\u001b[37m\u001b[0m \u001b[1m3s\u001b[0m 4ms/step - accuracy: 0.9479 - loss: 0.1832 - val_accuracy: 0.8964 - val_loss: 0.2625\n",
            "Epoch 6/10\n",
            "\u001b[1m625/625\u001b[0m \u001b[32m━━━━━━━━━━━━━━━━━━━━\u001b[0m\u001b[37m\u001b[0m \u001b[1m3s\u001b[0m 4ms/step - accuracy: 0.9554 - loss: 0.1631 - val_accuracy: 0.8978 - val_loss: 0.2597\n",
            "Epoch 7/10\n",
            "\u001b[1m625/625\u001b[0m \u001b[32m━━━━━━━━━━━━━━━━━━━━\u001b[0m\u001b[37m\u001b[0m \u001b[1m3s\u001b[0m 4ms/step - accuracy: 0.9630 - loss: 0.1460 - val_accuracy: 0.8988 - val_loss: 0.2589\n",
            "Epoch 8/10\n",
            "\u001b[1m625/625\u001b[0m \u001b[32m━━━━━━━━━━━━━━━━━━━━\u001b[0m\u001b[37m\u001b[0m \u001b[1m3s\u001b[0m 4ms/step - accuracy: 0.9684 - loss: 0.1313 - val_accuracy: 0.8986 - val_loss: 0.2596\n",
            "Epoch 9/10\n",
            "\u001b[1m625/625\u001b[0m \u001b[32m━━━━━━━━━━━━━━━━━━━━\u001b[0m\u001b[37m\u001b[0m \u001b[1m3s\u001b[0m 4ms/step - accuracy: 0.9715 - loss: 0.1192 - val_accuracy: 0.8994 - val_loss: 0.2608\n"
          ]
        }
      ],
      "source": [
        "early_stopping = keras.callbacks.EarlyStopping(\n",
        "    monitor=\"val_loss\",\n",
        "    restore_best_weights=True,\n",
        "    patience=2,\n",
        ")\n",
        "history = model.fit(\n",
        "    bag_of_words_train_ds,\n",
        "    validation_data=bag_of_words_val_ds,\n",
        "    epochs=10,\n",
        "    callbacks=[early_stopping],\n",
        ")"
      ]
    },
    {
      "cell_type": "code",
      "execution_count": 43,
      "id": "45f57b74",
      "metadata": {
        "colab": {
          "base_uri": "https://localhost:8080/",
          "height": 452
        },
        "id": "45f57b74",
        "outputId": "2f127787-001c-453d-c1cd-dc466bf53bd7"
      },
      "outputs": [
        {
          "output_type": "display_data",
          "data": {
            "text/plain": [
              "<Figure size 640x480 with 1 Axes>"
            ],
            "image/png": "[encoded data removed]"
          },
          "metadata": {}
        }
      ],
      "source": [
        "import matplotlib.pyplot as plt\n",
        "\n",
        "accuracy = history.history[\"accuracy\"]\n",
        "val_accuracy = history.history[\"val_accuracy\"]\n",
        "epochs = range(1, len(accuracy) + 1)\n",
        "\n",
        "plt.plot(epochs, accuracy, \"r--\", label=\"Training accuracy\")\n",
        "plt.plot(epochs, val_accuracy, \"b\", label=\"Validation accuracy\")\n",
        "plt.title(\"Training and validation accuracy\")\n",
        "plt.legend()\n",
        "plt.show()"
      ]
    },
    {
      "cell_type": "code",
      "execution_count": 44,
      "id": "37226325",
      "metadata": {
        "colab": {
          "base_uri": "https://localhost:8080/"
        },
        "id": "37226325",
        "outputId": "5e980708-de26-46e0-8804-55fab4fc3da2"
      },
      "outputs": [
        {
          "output_type": "stream",
          "name": "stdout",
          "text": [
            "\u001b[1m782/782\u001b[0m \u001b[32m━━━━━━━━━━━━━━━━━━━━\u001b[0m\u001b[37m\u001b[0m \u001b[1m3s\u001b[0m 3ms/step - accuracy: 0.8864 - loss: 0.2834\n"
          ]
        }
      ],
      "source": [
        "test_loss, test_acc = model.evaluate(bag_of_words_test_ds)"
      ]
    },
    {
      "cell_type": "code",
      "execution_count": 45,
      "id": "1eccdbaf",
      "metadata": {
        "colab": {
          "base_uri": "https://localhost:8080/"
        },
        "id": "1eccdbaf",
        "outputId": "edf0ed83-b6ef-4ad8-d7da-b40b6b36a065"
      },
      "outputs": [
        {
          "output_type": "execute_result",
          "data": {
            "text/plain": [
              "0.28238463401794434"
            ]
          },
          "metadata": {},
          "execution_count": 45
        }
      ],
      "source": [
        "test_loss"
      ]
    },
    {
      "cell_type": "code",
      "execution_count": 46,
      "id": "edd770c2",
      "metadata": {
        "colab": {
          "base_uri": "https://localhost:8080/"
        },
        "id": "edd770c2",
        "outputId": "c60d549c-68e5-49c1-d8d2-c75a8e83b44c"
      },
      "outputs": [
        {
          "output_type": "execute_result",
          "data": {
            "text/plain": [
              "0.8862400054931641"
            ]
          },
          "metadata": {},
          "execution_count": 46
        }
      ],
      "source": [
        "test_acc"
      ]
    },
    {
      "cell_type": "code",
      "execution_count": 47,
      "id": "eba6d6d4",
      "metadata": {
        "id": "eba6d6d4"
      },
      "outputs": [],
      "source": [
        "max_tokens = 30_000\n",
        "text_vectorization = layers.TextVectorization(\n",
        "    max_tokens=max_tokens,\n",
        "    split=\"whitespace\",\n",
        "    output_mode=\"multi_hot\",\n",
        "    ngrams=2,\n",
        ")\n",
        "\n",
        "text_vectorization.adapt(train_ds_no_labels)\n",
        "\n",
        "bigram_train_ds = train_ds.map(\n",
        "    lambda x, y: (text_vectorization(x), y), num_parallel_calls=8\n",
        ")\n",
        "\n",
        "bigram_val_ds = val_ds.map(\n",
        "    lambda x, y: (text_vectorization(x), y), num_parallel_calls=8\n",
        ")\n",
        "\n",
        "bigram_test_ds = val_ds.map(\n",
        "    lambda x, y: (text_vectorization(x), y), num_parallel_calls=8\n",
        ")"
      ]
    },
    {
      "cell_type": "code",
      "execution_count": 48,
      "id": "ab70f639",
      "metadata": {
        "id": "ab70f639"
      },
      "outputs": [],
      "source": [
        "x, y = next(bigram_train_ds.as_numpy_iterator())"
      ]
    },
    {
      "cell_type": "code",
      "execution_count": 49,
      "id": "b405ea77",
      "metadata": {
        "colab": {
          "base_uri": "https://localhost:8080/"
        },
        "id": "b405ea77",
        "outputId": "c1e0d597-ad7a-4bf5-cce8-cd557ff4b56c"
      },
      "outputs": [
        {
          "output_type": "execute_result",
          "data": {
            "text/plain": [
              "(32, 30000)"
            ]
          },
          "metadata": {},
          "execution_count": 49
        }
      ],
      "source": [
        "x.shape"
      ]
    },
    {
      "cell_type": "code",
      "execution_count": 50,
      "id": "ffbe9d76",
      "metadata": {
        "colab": {
          "base_uri": "https://localhost:8080/"
        },
        "id": "ffbe9d76",
        "outputId": "1f054b78-606c-404b-ebef-e92205327c43"
      },
      "outputs": [
        {
          "output_type": "execute_result",
          "data": {
            "text/plain": [
              "[np.str_('in a'),\n",
              " np.str_('most'),\n",
              " np.str_('him'),\n",
              " np.str_('dont'),\n",
              " np.str_('it was'),\n",
              " np.str_('one of'),\n",
              " np.str_('made'),\n",
              " np.str_('for the')]"
            ]
          },
          "metadata": {},
          "execution_count": 50
        }
      ],
      "source": [
        "text_vectorization.get_vocabulary()[100:108]"
      ]
    },
    {
      "cell_type": "code",
      "execution_count": 51,
      "id": "47427421",
      "metadata": {
        "colab": {
          "base_uri": "https://localhost:8080/"
        },
        "id": "47427421",
        "outputId": "cb43c998-0db4-497e-af42-a727a4a85b60"
      },
      "outputs": [
        {
          "output_type": "stream",
          "name": "stdout",
          "text": [
            "Epoch 1/10\n",
            "\u001b[1m625/625\u001b[0m \u001b[32m━━━━━━━━━━━━━━━━━━━━\u001b[0m\u001b[37m\u001b[0m \u001b[1m4s\u001b[0m 6ms/step - accuracy: 0.8102 - loss: 0.4930 - val_accuracy: 0.8980 - val_loss: 0.2981\n",
            "Epoch 2/10\n",
            "\u001b[1m625/625\u001b[0m \u001b[32m━━━━━━━━━━━━━━━━━━━━\u001b[0m\u001b[37m\u001b[0m \u001b[1m3s\u001b[0m 5ms/step - accuracy: 0.9328 - loss: 0.2387 - val_accuracy: 0.9020 - val_loss: 0.2605\n",
            "Epoch 3/10\n",
            "\u001b[1m625/625\u001b[0m \u001b[32m━━━━━━━━━━━━━━━━━━━━\u001b[0m\u001b[37m\u001b[0m \u001b[1m3s\u001b[0m 5ms/step - accuracy: 0.9569 - loss: 0.1740 - val_accuracy: 0.9044 - val_loss: 0.2469\n",
            "Epoch 4/10\n",
            "\u001b[1m625/625\u001b[0m \u001b[32m━━━━━━━━━━━━━━━━━━━━\u001b[0m\u001b[37m\u001b[0m \u001b[1m3s\u001b[0m 5ms/step - accuracy: 0.9723 - loss: 0.1343 - val_accuracy: 0.9066 - val_loss: 0.2408\n",
            "Epoch 5/10\n",
            "\u001b[1m625/625\u001b[0m \u001b[32m━━━━━━━━━━━━━━━━━━━━\u001b[0m\u001b[37m\u001b[0m \u001b[1m3s\u001b[0m 5ms/step - accuracy: 0.9829 - loss: 0.1065 - val_accuracy: 0.9060 - val_loss: 0.2391\n",
            "Epoch 6/10\n",
            "\u001b[1m625/625\u001b[0m \u001b[32m━━━━━━━━━━━━━━━━━━━━\u001b[0m\u001b[37m\u001b[0m \u001b[1m3s\u001b[0m 5ms/step - accuracy: 0.9887 - loss: 0.0864 - val_accuracy: 0.9060 - val_loss: 0.2406\n",
            "Epoch 7/10\n",
            "\u001b[1m625/625\u001b[0m \u001b[32m━━━━━━━━━━━━━━━━━━━━\u001b[0m\u001b[37m\u001b[0m \u001b[1m3s\u001b[0m 5ms/step - accuracy: 0.9931 - loss: 0.0704 - val_accuracy: 0.9052 - val_loss: 0.2432\n"
          ]
        },
        {
          "output_type": "execute_result",
          "data": {
            "text/plain": [
              "<keras.src.callbacks.history.History at 0x7bc65a56bc90>"
            ]
          },
          "metadata": {},
          "execution_count": 51
        }
      ],
      "source": [
        "model = build_linear_classifier(max_tokens, \"bigram_classifier\")\n",
        "model.fit(\n",
        "    bigram_train_ds,\n",
        "    validation_data=bigram_val_ds,\n",
        "    epochs=10,\n",
        "    callbacks=[early_stopping],\n",
        ")"
      ]
    },
    {
      "cell_type": "code",
      "execution_count": 52,
      "id": "a370c3da",
      "metadata": {
        "colab": {
          "base_uri": "https://localhost:8080/"
        },
        "id": "a370c3da",
        "outputId": "de7acf06-15a0-4417-d4c1-24b6fa4ccdd9"
      },
      "outputs": [
        {
          "output_type": "stream",
          "name": "stdout",
          "text": [
            "\u001b[1m157/157\u001b[0m \u001b[32m━━━━━━━━━━━━━━━━━━━━\u001b[0m\u001b[37m\u001b[0m \u001b[1m1s\u001b[0m 4ms/step - accuracy: 0.9065 - loss: 0.2406\n"
          ]
        },
        {
          "output_type": "execute_result",
          "data": {
            "text/plain": [
              "0.906000018119812"
            ]
          },
          "metadata": {},
          "execution_count": 52
        }
      ],
      "source": [
        "test_loss, test_acc = model.evaluate(bigram_test_ds)\n",
        "test_acc"
      ]
    },
    {
      "cell_type": "code",
      "execution_count": 53,
      "id": "ed35a4e8",
      "metadata": {
        "id": "ed35a4e8"
      },
      "outputs": [],
      "source": [
        "max_length = 600\n",
        "max_tokens = 30_000\n",
        "text_vectorization = layers.TextVectorization(\n",
        "    max_tokens=max_tokens,\n",
        "    split=\"whitespace\",\n",
        "    output_mode=\"int\",\n",
        "    output_sequence_length=max_length,\n",
        ")\n",
        "text_vectorization.adapt(train_ds_no_labels)"
      ]
    },
    {
      "cell_type": "code",
      "execution_count": 54,
      "id": "6fbc16b1",
      "metadata": {
        "id": "6fbc16b1"
      },
      "outputs": [],
      "source": [
        "sequence_train_ds = train_ds.map(\n",
        "    lambda x, y: (text_vectorization(x), y), num_parallel_calls=8\n",
        ")\n",
        "\n",
        "sequence_val_ds = val_ds.map(\n",
        "    lambda x, y: (text_vectorization(x), y), num_parallel_calls=8\n",
        ")\n",
        "\n",
        "sequence_test_ds = test_ds.map(\n",
        "    lambda x, y: (text_vectorization(x), y), num_parallel_calls=8\n",
        ")"
      ]
    },
    {
      "cell_type": "code",
      "execution_count": 55,
      "id": "ab9f8cd2",
      "metadata": {
        "id": "ab9f8cd2"
      },
      "outputs": [],
      "source": [
        "x, y = next(sequence_test_ds.as_numpy_iterator())"
      ]
    },
    {
      "cell_type": "code",
      "execution_count": 56,
      "id": "b68846ce",
      "metadata": {
        "colab": {
          "base_uri": "https://localhost:8080/"
        },
        "id": "b68846ce",
        "outputId": "f4655f9c-c530-4986-8c56-418dd36de9aa"
      },
      "outputs": [
        {
          "output_type": "execute_result",
          "data": {
            "text/plain": [
              "(32, 600)"
            ]
          },
          "metadata": {},
          "execution_count": 56
        }
      ],
      "source": [
        "x.shape"
      ]
    },
    {
      "cell_type": "code",
      "execution_count": 57,
      "id": "19b4cfbb",
      "metadata": {
        "colab": {
          "base_uri": "https://localhost:8080/"
        },
        "id": "19b4cfbb",
        "outputId": "6a0ccc5b-18c8-4e28-ee12-542796c12b85"
      },
      "outputs": [
        {
          "output_type": "execute_result",
          "data": {
            "text/plain": [
              "array([[  657,  8360, 11078, ...,     0,     0,     0],\n",
              "       [   10,   320,     2, ...,     0,     0,     0],\n",
              "       [ 1210,     1,     9, ...,     0,     0,     0],\n",
              "       ...,\n",
              "       [   10,  2309,     2, ...,     0,     0,     0],\n",
              "       [   45,    10,    67, ...,     0,     0,     0],\n",
              "       [   10,  1383,    45, ...,     0,     0,     0]])"
            ]
          },
          "metadata": {},
          "execution_count": 57
        }
      ],
      "source": [
        "x"
      ]
    },
    {
      "cell_type": "code",
      "execution_count": 58,
      "id": "36416a86",
      "metadata": {
        "id": "36416a86"
      },
      "outputs": [],
      "source": [
        "import numpy as np\n",
        "from tensorflow import keras\n",
        "from keras import ops, layers\n",
        "\n",
        "class OneHotEncoding(layers.Layer):\n",
        "    def __init__(self, depth, **kwargs):\n",
        "        super().__init__(**kwargs)\n",
        "        self.depth = depth\n",
        "\n",
        "    def call(self, inputs):\n",
        "        flat_inputs = ops.reshape(ops.cast(inputs, \"int\"), [-1])\n",
        "        one_hot_vectors = ops.eye(self.depth)\n",
        "        outputs = ops.take(one_hot_vectors, flat_inputs, axis=0)\n",
        "        return ops.reshape(outputs, ops.shape(inputs) + (self.depth,))\n",
        ""
      ]
    },
    {
      "cell_type": "code",
      "execution_count": 59,
      "id": "1eb318e6",
      "metadata": {
        "id": "1eb318e6"
      },
      "outputs": [],
      "source": [
        "one_hot_encoding = OneHotEncoding(max_tokens)"
      ]
    },
    {
      "cell_type": "code",
      "execution_count": 60,
      "id": "adeff224",
      "metadata": {
        "colab": {
          "base_uri": "https://localhost:8080/"
        },
        "id": "adeff224",
        "outputId": "1c1bd23c-bc80-4aee-c3d2-7d3e7f522be6"
      },
      "outputs": [
        {
          "output_type": "execute_result",
          "data": {
            "text/plain": [
              "TensorShape([32, 600, 30000])"
            ]
          },
          "metadata": {},
          "execution_count": 60
        }
      ],
      "source": [
        "x, y = next(sequence_train_ds.as_numpy_iterator())\n",
        "one_hot_encoding(x).shape"
      ]
    },
    {
      "cell_type": "code",
      "execution_count": 61,
      "id": "48a32a34",
      "metadata": {
        "id": "48a32a34"
      },
      "outputs": [],
      "source": [
        "hidden_dim = 64\n",
        "inputs = keras.Input(shape=(max_length,), dtype=\"int32\")\n",
        "x = one_hot_encoding(inputs)\n",
        "x = layers.Bidirectional(layers.LSTM(hidden_dim))(x)\n",
        "x = layers.Dropout(0.5)(x)\n",
        "ouputs = layers.Dense(1, activation=\"sigmoid\")(x)\n",
        "model = keras.Model(inputs, ouputs, name=\"lstm_with_one_hot\")\n",
        "model.compile(\n",
        "    optimizer=\"adam\",\n",
        "    loss=\"binary_crossentropy\",\n",
        "    metrics=[\"accuracy\"],\n",
        ")"
      ]
    },
    {
      "cell_type": "code",
      "execution_count": 62,
      "id": "20a342f3",
      "metadata": {
        "colab": {
          "base_uri": "https://localhost:8080/",
          "height": 289
        },
        "id": "20a342f3",
        "outputId": "f6e154ff-59ee-4bf2-d728-031e551be66a"
      },
      "outputs": [
        {
          "output_type": "display_data",
          "data": {
            "text/plain": [
              "\u001b[1mModel: \"lstm_with_one_hot\"\u001b[0m\n"
            ],
            "text/html": [
              "<pre style=\"white-space:pre;overflow-x:auto;line-height:normal;font-family:Menlo,'DejaVu Sans Mono',consolas,'Courier New',monospace\"><span style=\"font-weight: bold\">Model: \"lstm_with_one_hot\"</span>\n",
              "</pre>\n"
            ]
          },
          "metadata": {}
        },
        {
          "output_type": "display_data",
          "data": {
            "text/plain": [
              "┏━━━━━━━━━━━━━━━━━━━━━━━━━━━━━━━━━━━┳━━━━━━━━━━━━━━━━━━━━━━━━━━┳━━━━━━━━━━━━━━━┓\n",
              "┃\u001b[1m \u001b[0m\u001b[1mLayer (type)                     \u001b[0m\u001b[1m \u001b[0m┃\u001b[1m \u001b[0m\u001b[1mOutput Shape            \u001b[0m\u001b[1m \u001b[0m┃\u001b[1m \u001b[0m\u001b[1m      Param #\u001b[0m\u001b[1m \u001b[0m┃\n",
              "┡━━━━━━━━━━━━━━━━━━━━━━━━━━━━━━━━━━━╇━━━━━━━━━━━━━━━━━━━━━━━━━━╇━━━━━━━━━━━━━━━┩\n",
              "│ input_layer_2 (\u001b[38;5;33mInputLayer\u001b[0m)        │ (\u001b[38;5;45mNone\u001b[0m, \u001b[38;5;34m600\u001b[0m)              │             \u001b[38;5;34m0\u001b[0m │\n",
              "├───────────────────────────────────┼──────────────────────────┼───────────────┤\n",
              "│ one_hot_encoding (\u001b[38;5;33mOneHotEncoding\u001b[0m) │ (\u001b[38;5;45mNone\u001b[0m, \u001b[38;5;34m600\u001b[0m, \u001b[38;5;34m30000\u001b[0m)       │             \u001b[38;5;34m0\u001b[0m │\n",
              "├───────────────────────────────────┼──────────────────────────┼───────────────┤\n",
              "│ bidirectional (\u001b[38;5;33mBidirectional\u001b[0m)     │ (\u001b[38;5;45mNone\u001b[0m, \u001b[38;5;34m128\u001b[0m)              │    \u001b[38;5;34m15,393,280\u001b[0m │\n",
              "├───────────────────────────────────┼──────────────────────────┼───────────────┤\n",
              "│ dropout (\u001b[38;5;33mDropout\u001b[0m)                 │ (\u001b[38;5;45mNone\u001b[0m, \u001b[38;5;34m128\u001b[0m)              │             \u001b[38;5;34m0\u001b[0m │\n",
              "├───────────────────────────────────┼──────────────────────────┼───────────────┤\n",
              "│ dense_2 (\u001b[38;5;33mDense\u001b[0m)                   │ (\u001b[38;5;45mNone\u001b[0m, \u001b[38;5;34m1\u001b[0m)                │           \u001b[38;5;34m129\u001b[0m │\n",
              "└───────────────────────────────────┴──────────────────────────┴───────────────┘\n"
            ],
            "text/html": [
              "<pre style=\"white-space:pre;overflow-x:auto;line-height:normal;font-family:Menlo,'DejaVu Sans Mono',consolas,'Courier New',monospace\">┏━━━━━━━━━━━━━━━━━━━━━━━━━━━━━━━━━━━┳━━━━━━━━━━━━━━━━━━━━━━━━━━┳━━━━━━━━━━━━━━━┓\n",
              "┃<span style=\"font-weight: bold\"> Layer (type)                      </span>┃<span style=\"font-weight: bold\"> Output Shape             </span>┃<span style=\"font-weight: bold\">       Param # </span>┃\n",
              "┡━━━━━━━━━━━━━━━━━━━━━━━━━━━━━━━━━━━╇━━━━━━━━━━━━━━━━━━━━━━━━━━╇━━━━━━━━━━━━━━━┩\n",
              "│ input_layer_2 (<span style=\"color: #0087ff; text-decoration-color: #0087ff\">InputLayer</span>)        │ (<span style=\"color: #00d7ff; text-decoration-color: #00d7ff\">None</span>, <span style=\"color: #00af00; text-decoration-color: #00af00\">600</span>)              │             <span style=\"color: #00af00; text-decoration-color: #00af00\">0</span> │\n",
              "├───────────────────────────────────┼──────────────────────────┼───────────────┤\n",
              "│ one_hot_encoding (<span style=\"color: #0087ff; text-decoration-color: #0087ff\">OneHotEncoding</span>) │ (<span style=\"color: #00d7ff; text-decoration-color: #00d7ff\">None</span>, <span style=\"color: #00af00; text-decoration-color: #00af00\">600</span>, <span style=\"color: #00af00; text-decoration-color: #00af00\">30000</span>)       │             <span style=\"color: #00af00; text-decoration-color: #00af00\">0</span> │\n",
              "├───────────────────────────────────┼──────────────────────────┼───────────────┤\n",
              "│ bidirectional (<span style=\"color: #0087ff; text-decoration-color: #0087ff\">Bidirectional</span>)     │ (<span style=\"color: #00d7ff; text-decoration-color: #00d7ff\">None</span>, <span style=\"color: #00af00; text-decoration-color: #00af00\">128</span>)              │    <span style=\"color: #00af00; text-decoration-color: #00af00\">15,393,280</span> │\n",
              "├───────────────────────────────────┼──────────────────────────┼───────────────┤\n",
              "│ dropout (<span style=\"color: #0087ff; text-decoration-color: #0087ff\">Dropout</span>)                 │ (<span style=\"color: #00d7ff; text-decoration-color: #00d7ff\">None</span>, <span style=\"color: #00af00; text-decoration-color: #00af00\">128</span>)              │             <span style=\"color: #00af00; text-decoration-color: #00af00\">0</span> │\n",
              "├───────────────────────────────────┼──────────────────────────┼───────────────┤\n",
              "│ dense_2 (<span style=\"color: #0087ff; text-decoration-color: #0087ff\">Dense</span>)                   │ (<span style=\"color: #00d7ff; text-decoration-color: #00d7ff\">None</span>, <span style=\"color: #00af00; text-decoration-color: #00af00\">1</span>)                │           <span style=\"color: #00af00; text-decoration-color: #00af00\">129</span> │\n",
              "└───────────────────────────────────┴──────────────────────────┴───────────────┘\n",
              "</pre>\n"
            ]
          },
          "metadata": {}
        },
        {
          "output_type": "display_data",
          "data": {
            "text/plain": [
              "\u001b[1m Total params: \u001b[0m\u001b[38;5;34m15,393,409\u001b[0m (58.72 MB)\n"
            ],
            "text/html": [
              "<pre style=\"white-space:pre;overflow-x:auto;line-height:normal;font-family:Menlo,'DejaVu Sans Mono',consolas,'Courier New',monospace\"><span style=\"font-weight: bold\"> Total params: </span><span style=\"color: #00af00; text-decoration-color: #00af00\">15,393,409</span> (58.72 MB)\n",
              "</pre>\n"
            ]
          },
          "metadata": {}
        },
        {
          "output_type": "display_data",
          "data": {
            "text/plain": [
              "\u001b[1m Trainable params: \u001b[0m\u001b[38;5;34m15,393,409\u001b[0m (58.72 MB)\n"
            ],
            "text/html": [
              "<pre style=\"white-space:pre;overflow-x:auto;line-height:normal;font-family:Menlo,'DejaVu Sans Mono',consolas,'Courier New',monospace\"><span style=\"font-weight: bold\"> Trainable params: </span><span style=\"color: #00af00; text-decoration-color: #00af00\">15,393,409</span> (58.72 MB)\n",
              "</pre>\n"
            ]
          },
          "metadata": {}
        },
        {
          "output_type": "display_data",
          "data": {
            "text/plain": [
              "\u001b[1m Non-trainable params: \u001b[0m\u001b[38;5;34m0\u001b[0m (0.00 B)\n"
            ],
            "text/html": [
              "<pre style=\"white-space:pre;overflow-x:auto;line-height:normal;font-family:Menlo,'DejaVu Sans Mono',consolas,'Courier New',monospace\"><span style=\"font-weight: bold\"> Non-trainable params: </span><span style=\"color: #00af00; text-decoration-color: #00af00\">0</span> (0.00 B)\n",
              "</pre>\n"
            ]
          },
          "metadata": {}
        }
      ],
      "source": [
        "model.summary(line_length=80)"
      ]
    },
    {
      "cell_type": "code",
      "execution_count": 63,
      "id": "5536b0a3",
      "metadata": {
        "colab": {
          "base_uri": "https://localhost:8080/"
        },
        "id": "5536b0a3",
        "outputId": "54512e59-f3a3-49a8-fe16-474cb3e1e226"
      },
      "outputs": [
        {
          "output_type": "stream",
          "name": "stdout",
          "text": [
            "Epoch 1/10\n",
            "\u001b[1m782/782\u001b[0m \u001b[32m━━━━━━━━━━━━━━━━━━━━\u001b[0m\u001b[37m\u001b[0m \u001b[1m120s\u001b[0m 147ms/step - accuracy: 0.6540 - loss: 0.6225 - val_accuracy: 0.8107 - val_loss: 0.4893\n",
            "Epoch 2/10\n",
            "\u001b[1m782/782\u001b[0m \u001b[32m━━━━━━━━━━━━━━━━━━━━\u001b[0m\u001b[37m\u001b[0m \u001b[1m115s\u001b[0m 147ms/step - accuracy: 0.8069 - loss: 0.4584 - val_accuracy: 0.5522 - val_loss: 0.6887\n",
            "Epoch 3/10\n",
            "\u001b[1m782/782\u001b[0m \u001b[32m━━━━━━━━━━━━━━━━━━━━\u001b[0m\u001b[37m\u001b[0m \u001b[1m115s\u001b[0m 147ms/step - accuracy: 0.5505 - loss: 0.6998 - val_accuracy: 0.6180 - val_loss: 0.6694\n"
          ]
        },
        {
          "output_type": "execute_result",
          "data": {
            "text/plain": [
              "<keras.src.callbacks.history.History at 0x7bc652ceaa90>"
            ]
          },
          "metadata": {},
          "execution_count": 63
        }
      ],
      "source": [
        "model.fit(\n",
        "    sequence_test_ds,\n",
        "    validation_data=sequence_train_ds,\n",
        "    epochs=10,\n",
        "    callbacks=[early_stopping],\n",
        ")"
      ]
    },
    {
      "cell_type": "code",
      "execution_count": 63,
      "id": "83c3ac0a",
      "metadata": {
        "id": "83c3ac0a"
      },
      "outputs": [],
      "source": [
        "test_loss, test_acc = model.evaluate(sequence_test_ds)"
      ]
    },
    {
      "cell_type": "code",
      "source": [
        "test_acc"
      ],
      "metadata": {
        "id": "w2wXR1QS8yZt",
        "outputId": "43f0739d-e329-4eaf-db38-2bb62875a7b6",
        "colab": {
          "base_uri": "https://localhost:8080/"
        }
      },
      "id": "w2wXR1QS8yZt",
      "execution_count": 64,
      "outputs": [
        {
          "output_type": "execute_result",
          "data": {
            "text/plain": [
              "0.906000018119812"
            ]
          },
          "metadata": {},
          "execution_count": 64
        }
      ]
    },
    {
      "cell_type": "code",
      "source": [
        "hidden_dim = 64\n",
        "inputs = keras.Input(shape=(max_length,), dtype=\"int32\")\n",
        "x = keras.layers.Embedding(\n",
        "    input_dim=max_tokens,\n",
        "    output_dim=hidden_dim,\n",
        "    mask_zero=True,\n",
        ")(inputs)\n",
        "x = one_hot_encoding(inputs)\n",
        "x = layers.Bidirectional(layers.LSTM(hidden_dim))(x)\n",
        "x = layers.Dropout(0.5)(x)\n",
        "ouputs = layers.Dense(1, activation=\"sigmoid\")(x)\n",
        "model = keras.Model(inputs, ouputs, name=\"lstm_with_one_hot\")\n",
        "model.compile(\n",
        "    optimizer=\"adam\",\n",
        "    loss=\"binary_crossentropy\",\n",
        "    metrics=[\"accuracy\"],\n",
        ")"
      ],
      "metadata": {
        "id": "wvBHUTRo914b"
      },
      "id": "wvBHUTRo914b",
      "execution_count": 65,
      "outputs": []
    },
    {
      "cell_type": "code",
      "source": [
        "model.summary(line_length=80)"
      ],
      "metadata": {
        "id": "Ni5mRwWT92fE",
        "outputId": "fd060f18-0ff7-4769-ef47-803d0f2c4fad",
        "colab": {
          "base_uri": "https://localhost:8080/",
          "height": 289
        }
      },
      "id": "Ni5mRwWT92fE",
      "execution_count": 66,
      "outputs": [
        {
          "output_type": "display_data",
          "data": {
            "text/plain": [
              "\u001b[1mModel: \"lstm_with_one_hot\"\u001b[0m\n"
            ],
            "text/html": [
              "<pre style=\"white-space:pre;overflow-x:auto;line-height:normal;font-family:Menlo,'DejaVu Sans Mono',consolas,'Courier New',monospace\"><span style=\"font-weight: bold\">Model: \"lstm_with_one_hot\"</span>\n",
              "</pre>\n"
            ]
          },
          "metadata": {}
        },
        {
          "output_type": "display_data",
          "data": {
            "text/plain": [
              "┏━━━━━━━━━━━━━━━━━━━━━━━━━━━━━━━━━━━┳━━━━━━━━━━━━━━━━━━━━━━━━━━┳━━━━━━━━━━━━━━━┓\n",
              "┃\u001b[1m \u001b[0m\u001b[1mLayer (type)                     \u001b[0m\u001b[1m \u001b[0m┃\u001b[1m \u001b[0m\u001b[1mOutput Shape            \u001b[0m\u001b[1m \u001b[0m┃\u001b[1m \u001b[0m\u001b[1m      Param #\u001b[0m\u001b[1m \u001b[0m┃\n",
              "┡━━━━━━━━━━━━━━━━━━━━━━━━━━━━━━━━━━━╇━━━━━━━━━━━━━━━━━━━━━━━━━━╇━━━━━━━━━━━━━━━┩\n",
              "│ input_layer_3 (\u001b[38;5;33mInputLayer\u001b[0m)        │ (\u001b[38;5;45mNone\u001b[0m, \u001b[38;5;34m600\u001b[0m)              │             \u001b[38;5;34m0\u001b[0m │\n",
              "├───────────────────────────────────┼──────────────────────────┼───────────────┤\n",
              "│ one_hot_encoding (\u001b[38;5;33mOneHotEncoding\u001b[0m) │ (\u001b[38;5;45mNone\u001b[0m, \u001b[38;5;34m600\u001b[0m, \u001b[38;5;34m30000\u001b[0m)       │             \u001b[38;5;34m0\u001b[0m │\n",
              "├───────────────────────────────────┼──────────────────────────┼───────────────┤\n",
              "│ bidirectional_1 (\u001b[38;5;33mBidirectional\u001b[0m)   │ (\u001b[38;5;45mNone\u001b[0m, \u001b[38;5;34m128\u001b[0m)              │    \u001b[38;5;34m15,393,280\u001b[0m │\n",
              "├───────────────────────────────────┼──────────────────────────┼───────────────┤\n",
              "│ dropout_1 (\u001b[38;5;33mDropout\u001b[0m)               │ (\u001b[38;5;45mNone\u001b[0m, \u001b[38;5;34m128\u001b[0m)              │             \u001b[38;5;34m0\u001b[0m │\n",
              "├───────────────────────────────────┼──────────────────────────┼───────────────┤\n",
              "│ dense_3 (\u001b[38;5;33mDense\u001b[0m)                   │ (\u001b[38;5;45mNone\u001b[0m, \u001b[38;5;34m1\u001b[0m)                │           \u001b[38;5;34m129\u001b[0m │\n",
              "└───────────────────────────────────┴──────────────────────────┴───────────────┘\n"
            ],
            "text/html": [
              "<pre style=\"white-space:pre;overflow-x:auto;line-height:normal;font-family:Menlo,'DejaVu Sans Mono',consolas,'Courier New',monospace\">┏━━━━━━━━━━━━━━━━━━━━━━━━━━━━━━━━━━━┳━━━━━━━━━━━━━━━━━━━━━━━━━━┳━━━━━━━━━━━━━━━┓\n",
              "┃<span style=\"font-weight: bold\"> Layer (type)                      </span>┃<span style=\"font-weight: bold\"> Output Shape             </span>┃<span style=\"font-weight: bold\">       Param # </span>┃\n",
              "┡━━━━━━━━━━━━━━━━━━━━━━━━━━━━━━━━━━━╇━━━━━━━━━━━━━━━━━━━━━━━━━━╇━━━━━━━━━━━━━━━┩\n",
              "│ input_layer_3 (<span style=\"color: #0087ff; text-decoration-color: #0087ff\">InputLayer</span>)        │ (<span style=\"color: #00d7ff; text-decoration-color: #00d7ff\">None</span>, <span style=\"color: #00af00; text-decoration-color: #00af00\">600</span>)              │             <span style=\"color: #00af00; text-decoration-color: #00af00\">0</span> │\n",
              "├───────────────────────────────────┼──────────────────────────┼───────────────┤\n",
              "│ one_hot_encoding (<span style=\"color: #0087ff; text-decoration-color: #0087ff\">OneHotEncoding</span>) │ (<span style=\"color: #00d7ff; text-decoration-color: #00d7ff\">None</span>, <span style=\"color: #00af00; text-decoration-color: #00af00\">600</span>, <span style=\"color: #00af00; text-decoration-color: #00af00\">30000</span>)       │             <span style=\"color: #00af00; text-decoration-color: #00af00\">0</span> │\n",
              "├───────────────────────────────────┼──────────────────────────┼───────────────┤\n",
              "│ bidirectional_1 (<span style=\"color: #0087ff; text-decoration-color: #0087ff\">Bidirectional</span>)   │ (<span style=\"color: #00d7ff; text-decoration-color: #00d7ff\">None</span>, <span style=\"color: #00af00; text-decoration-color: #00af00\">128</span>)              │    <span style=\"color: #00af00; text-decoration-color: #00af00\">15,393,280</span> │\n",
              "├───────────────────────────────────┼──────────────────────────┼───────────────┤\n",
              "│ dropout_1 (<span style=\"color: #0087ff; text-decoration-color: #0087ff\">Dropout</span>)               │ (<span style=\"color: #00d7ff; text-decoration-color: #00d7ff\">None</span>, <span style=\"color: #00af00; text-decoration-color: #00af00\">128</span>)              │             <span style=\"color: #00af00; text-decoration-color: #00af00\">0</span> │\n",
              "├───────────────────────────────────┼──────────────────────────┼───────────────┤\n",
              "│ dense_3 (<span style=\"color: #0087ff; text-decoration-color: #0087ff\">Dense</span>)                   │ (<span style=\"color: #00d7ff; text-decoration-color: #00d7ff\">None</span>, <span style=\"color: #00af00; text-decoration-color: #00af00\">1</span>)                │           <span style=\"color: #00af00; text-decoration-color: #00af00\">129</span> │\n",
              "└───────────────────────────────────┴──────────────────────────┴───────────────┘\n",
              "</pre>\n"
            ]
          },
          "metadata": {}
        },
        {
          "output_type": "display_data",
          "data": {
            "text/plain": [
              "\u001b[1m Total params: \u001b[0m\u001b[38;5;34m15,393,409\u001b[0m (58.72 MB)\n"
            ],
            "text/html": [
              "<pre style=\"white-space:pre;overflow-x:auto;line-height:normal;font-family:Menlo,'DejaVu Sans Mono',consolas,'Courier New',monospace\"><span style=\"font-weight: bold\"> Total params: </span><span style=\"color: #00af00; text-decoration-color: #00af00\">15,393,409</span> (58.72 MB)\n",
              "</pre>\n"
            ]
          },
          "metadata": {}
        },
        {
          "output_type": "display_data",
          "data": {
            "text/plain": [
              "\u001b[1m Trainable params: \u001b[0m\u001b[38;5;34m15,393,409\u001b[0m (58.72 MB)\n"
            ],
            "text/html": [
              "<pre style=\"white-space:pre;overflow-x:auto;line-height:normal;font-family:Menlo,'DejaVu Sans Mono',consolas,'Courier New',monospace\"><span style=\"font-weight: bold\"> Trainable params: </span><span style=\"color: #00af00; text-decoration-color: #00af00\">15,393,409</span> (58.72 MB)\n",
              "</pre>\n"
            ]
          },
          "metadata": {}
        },
        {
          "output_type": "display_data",
          "data": {
            "text/plain": [
              "\u001b[1m Non-trainable params: \u001b[0m\u001b[38;5;34m0\u001b[0m (0.00 B)\n"
            ],
            "text/html": [
              "<pre style=\"white-space:pre;overflow-x:auto;line-height:normal;font-family:Menlo,'DejaVu Sans Mono',consolas,'Courier New',monospace\"><span style=\"font-weight: bold\"> Non-trainable params: </span><span style=\"color: #00af00; text-decoration-color: #00af00\">0</span> (0.00 B)\n",
              "</pre>\n"
            ]
          },
          "metadata": {}
        }
      ]
    },
    {
      "cell_type": "code",
      "source": [
        "model.fit(\n",
        "    sequence_test_ds,\n",
        "    validation_data=sequence_val_ds,\n",
        "    epochs=10,\n",
        "    callbacks=[early_stopping],\n",
        ")"
      ],
      "metadata": {
        "id": "YHfcd12X-EBF",
        "outputId": "d53c6f6b-1c73-4788-85b8-17cf33bfa99f",
        "colab": {
          "base_uri": "https://localhost:8080/"
        }
      },
      "id": "YHfcd12X-EBF",
      "execution_count": 67,
      "outputs": [
        {
          "output_type": "stream",
          "name": "stdout",
          "text": [
            "Epoch 1/10\n",
            "\u001b[1m782/782\u001b[0m \u001b[32m━━━━━━━━━━━━━━━━━━━━\u001b[0m\u001b[37m\u001b[0m \u001b[1m91s\u001b[0m 114ms/step - accuracy: 0.6671 - loss: 0.5999 - val_accuracy: 0.7048 - val_loss: 0.5936\n",
            "Epoch 2/10\n",
            "\u001b[1m782/782\u001b[0m \u001b[32m━━━━━━━━━━━━━━━━━━━━\u001b[0m\u001b[37m\u001b[0m \u001b[1m88s\u001b[0m 113ms/step - accuracy: 0.8096 - loss: 0.4524 - val_accuracy: 0.8246 - val_loss: 0.4284\n",
            "Epoch 3/10\n",
            "\u001b[1m782/782\u001b[0m \u001b[32m━━━━━━━━━━━━━━━━━━━━\u001b[0m\u001b[37m\u001b[0m \u001b[1m88s\u001b[0m 113ms/step - accuracy: 0.8953 - loss: 0.2851 - val_accuracy: 0.8632 - val_loss: 0.3468\n",
            "Epoch 4/10\n",
            "\u001b[1m782/782\u001b[0m \u001b[32m━━━━━━━━━━━━━━━━━━━━\u001b[0m\u001b[37m\u001b[0m \u001b[1m89s\u001b[0m 113ms/step - accuracy: 0.9398 - loss: 0.1727 - val_accuracy: 0.8420 - val_loss: 0.3927\n",
            "Epoch 5/10\n",
            "\u001b[1m782/782\u001b[0m \u001b[32m━━━━━━━━━━━━━━━━━━━━\u001b[0m\u001b[37m\u001b[0m \u001b[1m89s\u001b[0m 113ms/step - accuracy: 0.9591 - loss: 0.1251 - val_accuracy: 0.8466 - val_loss: 0.6226\n"
          ]
        },
        {
          "output_type": "execute_result",
          "data": {
            "text/plain": [
              "<keras.src.callbacks.history.History at 0x7bc74e3b3050>"
            ]
          },
          "metadata": {},
          "execution_count": 67
        }
      ]
    },
    {
      "cell_type": "code",
      "source": [
        "test_loss, test_acc = model.evaluate(sequence_test_ds)"
      ],
      "metadata": {
        "id": "tcBwgCPL-fFo",
        "outputId": "d77b7e30-d226-423b-fa64-0dee28dddc18",
        "colab": {
          "base_uri": "https://localhost:8080/"
        }
      },
      "id": "tcBwgCPL-fFo",
      "execution_count": 68,
      "outputs": [
        {
          "output_type": "stream",
          "name": "stdout",
          "text": [
            "\u001b[1m782/782\u001b[0m \u001b[32m━━━━━━━━━━━━━━━━━━━━\u001b[0m\u001b[37m\u001b[0m \u001b[1m43s\u001b[0m 55ms/step - accuracy: 0.9450 - loss: 0.1517\n"
          ]
        }
      ]
    },
    {
      "cell_type": "code",
      "source": [
        "test_acc"
      ],
      "metadata": {
        "id": "4xGIheuI-h_3",
        "outputId": "efb0df28-6388-4239-fcea-edc8a2fcf174",
        "colab": {
          "base_uri": "https://localhost:8080/"
        }
      },
      "id": "4xGIheuI-h_3",
      "execution_count": 69,
      "outputs": [
        {
          "output_type": "execute_result",
          "data": {
            "text/plain": [
              "0.9542800188064575"
            ]
          },
          "metadata": {},
          "execution_count": 69
        }
      ]
    },
    {
      "cell_type": "code",
      "source": [
        "imdb_vocabulary = text_vectorization.get_vocabulary()\n",
        "tokenize_no_padding = keras.layers.TextVectorization(\n",
        "    vocabulary=imdb_vocabulary,\n",
        "    split=\"whitespace\",\n",
        "    output_mode=\"int\",\n",
        ")"
      ],
      "metadata": {
        "id": "QnF5BA2x-kj2"
      },
      "id": "QnF5BA2x-kj2",
      "execution_count": 70,
      "outputs": []
    },
    {
      "cell_type": "code",
      "source": [
        "import tensorflow as tf\n",
        "\n",
        "context_size = 4\n",
        "window_size = 9\n",
        "\n",
        "def window_data(token_ids):\n",
        "    num_windows = tf.maximum(tf.size(token_ids) - context_size * 2, 0)\n",
        "    windows = tf.range(window_size)[None, :]\n",
        "    windows = windows + tf.range(num_windows)[:, None]\n",
        "    windowed_tokens = tf.gather(token_ids, windows)\n",
        "    return tf.data.Dataset.from_tensor_slices(windowed_tokens)\n",
        "\n",
        "def split_label(window):\n",
        "    left = window[:context_size]\n",
        "    right = window[context_size + 1 :]\n",
        "    bag = tf.concat((left, right), axis=0)\n",
        "    label = window[4]\n",
        "    return bag, label\n",
        "\n",
        "dataset = keras.utils.text_dataset_from_directory(\n",
        "    imdb_extract_dir / \"train\", batch_size=None\n",
        ")\n",
        "dataset = dataset.map(lambda x, y: x, num_parallel_calls=8)\n",
        "dataset = dataset.map(tokenize_no_padding, num_parallel_calls=8)\n",
        "dataset = dataset.interleave(window_data, cycle_length=8, num_parallel_calls=8)\n",
        "dataset = dataset.map(split_label, num_parallel_calls=8)"
      ],
      "metadata": {
        "id": "s_C5Z7F__77q",
        "outputId": "1154e17d-aa23-452e-cc96-bbfc7e3a04eb",
        "colab": {
          "base_uri": "https://localhost:8080/"
        }
      },
      "id": "s_C5Z7F__77q",
      "execution_count": 77,
      "outputs": [
        {
          "output_type": "stream",
          "name": "stdout",
          "text": [
            "Found 75000 files belonging to 3 classes.\n"
          ]
        }
      ]
    },
    {
      "cell_type": "code",
      "source": [
        "hidden_dim = 64\n",
        "inputs = keras.Input(shape=(context_size * 2,))\n",
        "cbow_embedding = layers.Embedding(\n",
        "    max_tokens,\n",
        "    hidden_dim,\n",
        ")\n",
        "x = cbow_embedding(inputs)\n",
        "x = layers.GlobalAveragePooling1D()(x)\n",
        "outputs = layers.Dense(max_tokens, activation=\"sigmoid\")(x)\n",
        "chow_model = keras.Model(inputs, outputs, name=\"cbow\")\n",
        "chow_model.compile(\n",
        "    optimizer=\"adam\",\n",
        "    loss=\"sparse_categorical_crossentropy\",\n",
        "    metrics=[\"sparse_categorical_accuracy\"],\n",
        ")"
      ],
      "metadata": {
        "id": "zBNEOpAdAZlc"
      },
      "id": "zBNEOpAdAZlc",
      "execution_count": 78,
      "outputs": []
    },
    {
      "cell_type": "code",
      "source": [
        "chow_model.summary(line_length=80)"
      ],
      "metadata": {
        "id": "_ruL4kxKBHiG",
        "outputId": "588e5ff7-fd95-45ae-dded-2b71e46d6342",
        "colab": {
          "base_uri": "https://localhost:8080/",
          "height": 273
        }
      },
      "id": "_ruL4kxKBHiG",
      "execution_count": 79,
      "outputs": [
        {
          "output_type": "display_data",
          "data": {
            "text/plain": [
              "\u001b[1mModel: \"cbow\"\u001b[0m\n"
            ],
            "text/html": [
              "<pre style=\"white-space:pre;overflow-x:auto;line-height:normal;font-family:Menlo,'DejaVu Sans Mono',consolas,'Courier New',monospace\"><span style=\"font-weight: bold\">Model: \"cbow\"</span>\n",
              "</pre>\n"
            ]
          },
          "metadata": {}
        },
        {
          "output_type": "display_data",
          "data": {
            "text/plain": [
              "┏━━━━━━━━━━━━━━━━━━━━━━━━━━━━━━━━━━━┳━━━━━━━━━━━━━━━━━━━━━━━━━━┳━━━━━━━━━━━━━━━┓\n",
              "┃\u001b[1m \u001b[0m\u001b[1mLayer (type)                     \u001b[0m\u001b[1m \u001b[0m┃\u001b[1m \u001b[0m\u001b[1mOutput Shape            \u001b[0m\u001b[1m \u001b[0m┃\u001b[1m \u001b[0m\u001b[1m      Param #\u001b[0m\u001b[1m \u001b[0m┃\n",
              "┡━━━━━━━━━━━━━━━━━━━━━━━━━━━━━━━━━━━╇━━━━━━━━━━━━━━━━━━━━━━━━━━╇━━━━━━━━━━━━━━━┩\n",
              "│ input_layer_5 (\u001b[38;5;33mInputLayer\u001b[0m)        │ (\u001b[38;5;45mNone\u001b[0m, \u001b[38;5;34m8\u001b[0m)                │             \u001b[38;5;34m0\u001b[0m │\n",
              "├───────────────────────────────────┼──────────────────────────┼───────────────┤\n",
              "│ embedding_2 (\u001b[38;5;33mEmbedding\u001b[0m)           │ (\u001b[38;5;45mNone\u001b[0m, \u001b[38;5;34m8\u001b[0m, \u001b[38;5;34m64\u001b[0m)            │     \u001b[38;5;34m1,920,000\u001b[0m │\n",
              "├───────────────────────────────────┼──────────────────────────┼───────────────┤\n",
              "│ global_average_pooling1d_1        │ (\u001b[38;5;45mNone\u001b[0m, \u001b[38;5;34m64\u001b[0m)               │             \u001b[38;5;34m0\u001b[0m │\n",
              "│ (\u001b[38;5;33mGlobalAveragePooling1D\u001b[0m)          │                          │               │\n",
              "├───────────────────────────────────┼──────────────────────────┼───────────────┤\n",
              "│ dense_5 (\u001b[38;5;33mDense\u001b[0m)                   │ (\u001b[38;5;45mNone\u001b[0m, \u001b[38;5;34m30000\u001b[0m)            │     \u001b[38;5;34m1,950,000\u001b[0m │\n",
              "└───────────────────────────────────┴──────────────────────────┴───────────────┘\n"
            ],
            "text/html": [
              "<pre style=\"white-space:pre;overflow-x:auto;line-height:normal;font-family:Menlo,'DejaVu Sans Mono',consolas,'Courier New',monospace\">┏━━━━━━━━━━━━━━━━━━━━━━━━━━━━━━━━━━━┳━━━━━━━━━━━━━━━━━━━━━━━━━━┳━━━━━━━━━━━━━━━┓\n",
              "┃<span style=\"font-weight: bold\"> Layer (type)                      </span>┃<span style=\"font-weight: bold\"> Output Shape             </span>┃<span style=\"font-weight: bold\">       Param # </span>┃\n",
              "┡━━━━━━━━━━━━━━━━━━━━━━━━━━━━━━━━━━━╇━━━━━━━━━━━━━━━━━━━━━━━━━━╇━━━━━━━━━━━━━━━┩\n",
              "│ input_layer_5 (<span style=\"color: #0087ff; text-decoration-color: #0087ff\">InputLayer</span>)        │ (<span style=\"color: #00d7ff; text-decoration-color: #00d7ff\">None</span>, <span style=\"color: #00af00; text-decoration-color: #00af00\">8</span>)                │             <span style=\"color: #00af00; text-decoration-color: #00af00\">0</span> │\n",
              "├───────────────────────────────────┼──────────────────────────┼───────────────┤\n",
              "│ embedding_2 (<span style=\"color: #0087ff; text-decoration-color: #0087ff\">Embedding</span>)           │ (<span style=\"color: #00d7ff; text-decoration-color: #00d7ff\">None</span>, <span style=\"color: #00af00; text-decoration-color: #00af00\">8</span>, <span style=\"color: #00af00; text-decoration-color: #00af00\">64</span>)            │     <span style=\"color: #00af00; text-decoration-color: #00af00\">1,920,000</span> │\n",
              "├───────────────────────────────────┼──────────────────────────┼───────────────┤\n",
              "│ global_average_pooling1d_1        │ (<span style=\"color: #00d7ff; text-decoration-color: #00d7ff\">None</span>, <span style=\"color: #00af00; text-decoration-color: #00af00\">64</span>)               │             <span style=\"color: #00af00; text-decoration-color: #00af00\">0</span> │\n",
              "│ (<span style=\"color: #0087ff; text-decoration-color: #0087ff\">GlobalAveragePooling1D</span>)          │                          │               │\n",
              "├───────────────────────────────────┼──────────────────────────┼───────────────┤\n",
              "│ dense_5 (<span style=\"color: #0087ff; text-decoration-color: #0087ff\">Dense</span>)                   │ (<span style=\"color: #00d7ff; text-decoration-color: #00d7ff\">None</span>, <span style=\"color: #00af00; text-decoration-color: #00af00\">30000</span>)            │     <span style=\"color: #00af00; text-decoration-color: #00af00\">1,950,000</span> │\n",
              "└───────────────────────────────────┴──────────────────────────┴───────────────┘\n",
              "</pre>\n"
            ]
          },
          "metadata": {}
        },
        {
          "output_type": "display_data",
          "data": {
            "text/plain": [
              "\u001b[1m Total params: \u001b[0m\u001b[38;5;34m3,870,000\u001b[0m (14.76 MB)\n"
            ],
            "text/html": [
              "<pre style=\"white-space:pre;overflow-x:auto;line-height:normal;font-family:Menlo,'DejaVu Sans Mono',consolas,'Courier New',monospace\"><span style=\"font-weight: bold\"> Total params: </span><span style=\"color: #00af00; text-decoration-color: #00af00\">3,870,000</span> (14.76 MB)\n",
              "</pre>\n"
            ]
          },
          "metadata": {}
        },
        {
          "output_type": "display_data",
          "data": {
            "text/plain": [
              "\u001b[1m Trainable params: \u001b[0m\u001b[38;5;34m3,870,000\u001b[0m (14.76 MB)\n"
            ],
            "text/html": [
              "<pre style=\"white-space:pre;overflow-x:auto;line-height:normal;font-family:Menlo,'DejaVu Sans Mono',consolas,'Courier New',monospace\"><span style=\"font-weight: bold\"> Trainable params: </span><span style=\"color: #00af00; text-decoration-color: #00af00\">3,870,000</span> (14.76 MB)\n",
              "</pre>\n"
            ]
          },
          "metadata": {}
        },
        {
          "output_type": "display_data",
          "data": {
            "text/plain": [
              "\u001b[1m Non-trainable params: \u001b[0m\u001b[38;5;34m0\u001b[0m (0.00 B)\n"
            ],
            "text/html": [
              "<pre style=\"white-space:pre;overflow-x:auto;line-height:normal;font-family:Menlo,'DejaVu Sans Mono',consolas,'Courier New',monospace\"><span style=\"font-weight: bold\"> Non-trainable params: </span><span style=\"color: #00af00; text-decoration-color: #00af00\">0</span> (0.00 B)\n",
              "</pre>\n"
            ]
          },
          "metadata": {}
        }
      ]
    },
    {
      "cell_type": "code",
      "source": [
        "dataset = dataset.batch(1024).cache()\n",
        "chow_model.fit(dataset, epochs=4)"
      ],
      "metadata": {
        "id": "VQ1TXOIRBKOm",
        "outputId": "1b0eb677-65a2-4efc-b346-438a5c463724",
        "colab": {
          "base_uri": "https://localhost:8080/"
        }
      },
      "id": "VQ1TXOIRBKOm",
      "execution_count": 80,
      "outputs": [
        {
          "output_type": "stream",
          "name": "stdout",
          "text": [
            "Epoch 1/4\n",
            "\u001b[1m16503/16503\u001b[0m \u001b[32m━━━━━━━━━━━━━━━━━━━━\u001b[0m\u001b[37m\u001b[0m \u001b[1m280s\u001b[0m 17ms/step - loss: 6.6729 - sparse_categorical_accuracy: 0.0831\n",
            "Epoch 2/4\n",
            "\u001b[1m   57/16503\u001b[0m \u001b[37m━━━━━━━━━━━━━━━━━━━━\u001b[0m \u001b[1m44s\u001b[0m 3ms/step - loss: 5.9889 - sparse_categorical_accuracy: 0.1259"
          ]
        },
        {
          "output_type": "stream",
          "name": "stderr",
          "text": [
            "/usr/local/lib/python3.11/dist-packages/keras/src/trainers/epoch_iterator.py:151: UserWarning: Your input ran out of data; interrupting training. Make sure that your dataset or generator can generate at least `steps_per_epoch * epochs` batches. You may need to use the `.repeat()` function when building your dataset.\n",
            "  self._interrupted_warning()\n"
          ]
        },
        {
          "output_type": "stream",
          "name": "stdout",
          "text": [
            "\u001b[1m16503/16503\u001b[0m \u001b[32m━━━━━━━━━━━━━━━━━━━━\u001b[0m\u001b[37m\u001b[0m \u001b[1m43s\u001b[0m 3ms/step - loss: 5.9373 - sparse_categorical_accuracy: 0.1259\n",
            "Epoch 3/4\n",
            "\u001b[1m   58/16503\u001b[0m \u001b[37m━━━━━━━━━━━━━━━━━━━━\u001b[0m \u001b[1m44s\u001b[0m 3ms/step - loss: 5.7905 - sparse_categorical_accuracy: 0.1343"
          ]
        },
        {
          "output_type": "stream",
          "name": "stderr",
          "text": [
            "/usr/local/lib/python3.11/dist-packages/keras/src/trainers/epoch_iterator.py:151: UserWarning: Your input ran out of data; interrupting training. Make sure that your dataset or generator can generate at least `steps_per_epoch * epochs` batches. You may need to use the `.repeat()` function when building your dataset.\n",
            "  self._interrupted_warning()\n"
          ]
        },
        {
          "output_type": "stream",
          "name": "stdout",
          "text": [
            "\u001b[1m16503/16503\u001b[0m \u001b[32m━━━━━━━━━━━━━━━━━━━━\u001b[0m\u001b[37m\u001b[0m \u001b[1m43s\u001b[0m 3ms/step - loss: 5.7649 - sparse_categorical_accuracy: 0.1343\n",
            "Epoch 4/4\n",
            "\u001b[1m   57/16503\u001b[0m \u001b[37m━━━━━━━━━━━━━━━━━━━━\u001b[0m \u001b[1m45s\u001b[0m 3ms/step - loss: 5.7050 - sparse_categorical_accuracy: 0.1377"
          ]
        },
        {
          "output_type": "stream",
          "name": "stderr",
          "text": [
            "/usr/local/lib/python3.11/dist-packages/keras/src/trainers/epoch_iterator.py:151: UserWarning: Your input ran out of data; interrupting training. Make sure that your dataset or generator can generate at least `steps_per_epoch * epochs` batches. You may need to use the `.repeat()` function when building your dataset.\n",
            "  self._interrupted_warning()\n"
          ]
        },
        {
          "output_type": "stream",
          "name": "stdout",
          "text": [
            "\u001b[1m16503/16503\u001b[0m \u001b[32m━━━━━━━━━━━━━━━━━━━━\u001b[0m\u001b[37m\u001b[0m \u001b[1m44s\u001b[0m 3ms/step - loss: 5.6850 - sparse_categorical_accuracy: 0.1371\n"
          ]
        },
        {
          "output_type": "stream",
          "name": "stderr",
          "text": [
            "/usr/local/lib/python3.11/dist-packages/keras/src/trainers/epoch_iterator.py:151: UserWarning: Your input ran out of data; interrupting training. Make sure that your dataset or generator can generate at least `steps_per_epoch * epochs` batches. You may need to use the `.repeat()` function when building your dataset.\n",
            "  self._interrupted_warning()\n"
          ]
        },
        {
          "output_type": "execute_result",
          "data": {
            "text/plain": [
              "<keras.src.callbacks.history.History at 0x7bc651914910>"
            ]
          },
          "metadata": {},
          "execution_count": 80
        }
      ]
    },
    {
      "cell_type": "code",
      "source": [
        "inputs = keras.Input(shape=(max_length,))\n",
        "lstm_embedding = layers.Embedding(\n",
        "    input_dim=max_tokens,\n",
        "    output_dim=hidden_dim,\n",
        "    mask_zero=True,\n",
        ")\n",
        "x = lstm_embedding(inputs)\n",
        "x = layers.Bidirectional(layers.LSTM(hidden_dim))(x)\n",
        "x = layers.Dropout(0.5)(x)\n",
        "outputs = layers.Dense(1, activation=\"sigmoid\")(x)\n",
        "model = keras.Model(inputs, outputs, name=\"lstm_with_cbow\")"
      ],
      "metadata": {
        "id": "H_X4iMA7BR20"
      },
      "id": "H_X4iMA7BR20",
      "execution_count": 81,
      "outputs": []
    },
    {
      "cell_type": "code",
      "source": [
        "lstm_embedding.embeddings.assign(cbow_embedding.embeddings)"
      ],
      "metadata": {
        "id": "PD7BSBIXCpIq",
        "outputId": "0dedc658-ffa9-459f-f646-7525772f32be",
        "colab": {
          "base_uri": "https://localhost:8080/"
        }
      },
      "id": "PD7BSBIXCpIq",
      "execution_count": 82,
      "outputs": [
        {
          "output_type": "execute_result",
          "data": {
            "text/plain": [
              "<Variable path=embedding_2/embeddings, shape=(30000, 64), dtype=float32, value=[[-0.00407781 -0.03429322 -0.0354957  ...  0.04965753  0.03685502\n",
              "   0.04322615]\n",
              " [-0.04465905 -0.39187458 -0.21119696 ... -0.1947596   0.0580229\n",
              "  -0.13641337]\n",
              " [ 0.18355815 -0.33266878  0.08350961 ... -0.5901875   0.44663066\n",
              "   0.22241126]\n",
              " ...\n",
              " [ 0.05529613 -0.11337483 -0.2659838  ...  0.01814229  0.1793608\n",
              "  -0.10779848]\n",
              " [ 0.05823801  0.2701728   0.17243694 ...  0.02227223  0.12707739\n",
              "  -0.76850325]\n",
              " [-0.04277628 -0.31164765 -0.0542133  ... -0.03772752  0.01586862\n",
              "   0.09262299]]>"
            ]
          },
          "metadata": {},
          "execution_count": 82
        }
      ]
    },
    {
      "cell_type": "code",
      "source": [
        "model.compile(\n",
        "    optimizer=\"adam\",\n",
        "    loss=\"binary_crossentropy\",\n",
        "    metrics=[\"accuracy\"],\n",
        ")"
      ],
      "metadata": {
        "id": "5aBaI3DzC9d1"
      },
      "id": "5aBaI3DzC9d1",
      "execution_count": 83,
      "outputs": []
    },
    {
      "cell_type": "code",
      "source": [
        "model.fit(\n",
        "    sequence_train_ds,\n",
        "    validation_data=sequence_val_ds,\n",
        "    epochs=10,\n",
        "    callbacks=[early_stopping],\n",
        ")"
      ],
      "metadata": {
        "id": "Gdp3PzAcDE7-",
        "outputId": "0f1f1501-65ff-4c20-b5f9-4438c515506a",
        "colab": {
          "base_uri": "https://localhost:8080/"
        }
      },
      "id": "Gdp3PzAcDE7-",
      "execution_count": 84,
      "outputs": [
        {
          "output_type": "stream",
          "name": "stdout",
          "text": [
            "Epoch 1/10\n",
            "\u001b[1m625/625\u001b[0m \u001b[32m━━━━━━━━━━━━━━━━━━━━\u001b[0m\u001b[37m\u001b[0m \u001b[1m30s\u001b[0m 43ms/step - accuracy: 0.7215 - loss: 0.5285 - val_accuracy: 0.8286 - val_loss: 0.3830\n",
            "Epoch 2/10\n",
            "\u001b[1m625/625\u001b[0m \u001b[32m━━━━━━━━━━━━━━━━━━━━\u001b[0m\u001b[37m\u001b[0m \u001b[1m26s\u001b[0m 42ms/step - accuracy: 0.8633 - loss: 0.3326 - val_accuracy: 0.8742 - val_loss: 0.3114\n",
            "Epoch 3/10\n",
            "\u001b[1m625/625\u001b[0m \u001b[32m━━━━━━━━━━━━━━━━━━━━\u001b[0m\u001b[37m\u001b[0m \u001b[1m27s\u001b[0m 42ms/step - accuracy: 0.8752 - loss: 0.3021 - val_accuracy: 0.8596 - val_loss: 0.3381\n",
            "Epoch 4/10\n",
            "\u001b[1m625/625\u001b[0m \u001b[32m━━━━━━━━━━━━━━━━━━━━\u001b[0m\u001b[37m\u001b[0m \u001b[1m26s\u001b[0m 41ms/step - accuracy: 0.9044 - loss: 0.2350 - val_accuracy: 0.8826 - val_loss: 0.3147\n"
          ]
        },
        {
          "output_type": "execute_result",
          "data": {
            "text/plain": [
              "<keras.src.callbacks.history.History at 0x7bc6513bd290>"
            ]
          },
          "metadata": {},
          "execution_count": 84
        }
      ]
    },
    {
      "cell_type": "code",
      "source": [
        "test_loss, test_acc = model.evaluate(sequence_test_ds)"
      ],
      "metadata": {
        "id": "fTAwXa9PDJ4Q",
        "outputId": "7026b6c9-4f10-47d2-8d99-a208ecf0d708",
        "colab": {
          "base_uri": "https://localhost:8080/"
        }
      },
      "id": "fTAwXa9PDJ4Q",
      "execution_count": 85,
      "outputs": [
        {
          "output_type": "stream",
          "name": "stdout",
          "text": [
            "\u001b[1m782/782\u001b[0m \u001b[32m━━━━━━━━━━━━━━━━━━━━\u001b[0m\u001b[37m\u001b[0m \u001b[1m13s\u001b[0m 17ms/step - accuracy: 0.8688 - loss: 0.3138\n"
          ]
        }
      ]
    },
    {
      "cell_type": "code",
      "source": [
        "test_acc"
      ],
      "metadata": {
        "id": "jOTxS1NNDPTq",
        "outputId": "055fc899-e09e-4942-9458-fec5dadc9a2b",
        "colab": {
          "base_uri": "https://localhost:8080/"
        }
      },
      "id": "jOTxS1NNDPTq",
      "execution_count": 86,
      "outputs": [
        {
          "output_type": "execute_result",
          "data": {
            "text/plain": [
              "0.8698800206184387"
            ]
          },
          "metadata": {},
          "execution_count": 86
        }
      ]
    }
  ],
  "metadata": {
    "kernelspec": {
      "display_name": "Python 3",
      "name": "python3"
    },
    "language_info": {
      "codemirror_mode": {
        "name": "ipython",
        "version": 3
      },
      "file_extension": ".py",
      "mimetype": "text/x-python",
      "name": "python",
      "nbconvert_exporter": "python",
      "pygments_lexer": "ipython3",
      "version": "3.9.15"
    },
    "colab": {
      "provenance": [],
      "machine_shape": "hm",
      "gpuType": "A100"
    },
    "accelerator": "GPU"
  },
  "nbformat": 4,
  "nbformat_minor": 5
}