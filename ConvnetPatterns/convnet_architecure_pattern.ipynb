{
 "cells": [
  {
   "cell_type": "markdown",
   "id": "f9f26245",
   "metadata": {},
   "source": [
    "# Convnet Architecure Patterns\n",
    "\n",
    "\n",
    "## Residual Connections\n",
    "\n",
    "### Case where the tagret block changes the number of output filters"
   ]
  },
  {
   "cell_type": "code",
   "execution_count": 1,
   "id": "ae9706c4",
   "metadata": {},
   "outputs": [
    {
     "data": {
      "text/plain": [
       "<KerasTensor: shape=(None, 30, 30, 64) dtype=float32 (created by layer 'add')>"
      ]
     },
     "execution_count": 1,
     "metadata": {},
     "output_type": "execute_result"
    }
   ],
   "source": [
    "from tensorflow import keras\n",
    "from keras import layers\n",
    "\n",
    "inputs = keras.Input(shape=(32, 32, 3))\n",
    "x = layers.Conv2D(32, 3, activation=\"relu\")(inputs)\n",
    "residual = x\n",
    "x = layers.Conv2D(64, 3, activation=\"relu\", padding=\"same\")(x)\n",
    "residual = layers.Conv2D(64, 1)(residual)\n",
    "x = layers.add([x, residual])\n",
    "x\n"
   ]
  },
  {
   "cell_type": "markdown",
   "id": "ee727b7c",
   "metadata": {},
   "source": [
    "### Case where the target block includes a max pooling layer"
   ]
  },
  {
   "cell_type": "code",
   "execution_count": 2,
   "id": "b1dd3a73",
   "metadata": {},
   "outputs": [
    {
     "data": {
      "text/plain": [
       "<KerasTensor: shape=(None, 15, 15, 64) dtype=float32 (created by layer 'add_1')>"
      ]
     },
     "execution_count": 2,
     "metadata": {},
     "output_type": "execute_result"
    }
   ],
   "source": [
    "inputs = keras.Input(shape=(32, 32, 3))\n",
    "x = layers.Conv2D(32, 3, activation=\"relu\")(inputs)\n",
    "residual = x\n",
    "x = layers.Conv2D(64, 3, activation=\"relu\", padding=\"same\")(x)\n",
    "x = layers.MaxPool2D(2, padding=\"same\")(x)\n",
    "residual = layers.Conv2D(64, 1, strides=2)(residual)\n",
    "x = layers.add([x, residual])\n",
    "x"
   ]
  },
  {
   "cell_type": "code",
   "execution_count": 3,
   "id": "26d82949",
   "metadata": {},
   "outputs": [],
   "source": [
    "inputs = keras.Input(shape=(32, 32, 3))\n",
    "x = layers.Rescaling(1.0/255)(inputs)\n",
    "\n",
    "def residual_blocks(x, filters, pooling=False):\n",
    "    residual = x\n",
    "    x = layers.Conv2D(filters, 3, activation=\"relu\", padding=\"same\")(x)\n",
    "    x = layers.Conv2D(filters, 3, activation=\"relu\", padding=\"same\")(x)\n",
    "    if pooling:\n",
    "        x = layers.MaxPool2D(2, padding=\"same\")(x)\n",
    "        residual = layers.Conv2D(filters, 1, strides=2)(residual)\n",
    "    elif filters != residual.shape[-1]:\n",
    "        residual = layers.Conv2D(filters, 1)(residual)\n",
    "    x = layers.add([x, residual])\n",
    "    return x\n",
    "\n",
    "x = residual_blocks(x, 32, True)\n",
    "x = residual_blocks(x, 64, True)\n",
    "x = residual_blocks(x, 128, False)\n",
    "\n",
    "x = layers.GlobalAveragePooling2D()(x)\n",
    "outputs = layers.Dense(10, activation=\"sigmoid\")(x)\n",
    "model = keras.Model(inputs, outputs)"
   ]
  },
  {
   "cell_type": "code",
   "execution_count": 4,
   "id": "f49fa546",
   "metadata": {},
   "outputs": [
    {
     "name": "stdout",
     "output_type": "stream",
     "text": [
      "Model: \"model\"\n",
      "__________________________________________________________________________________________________\n",
      "Layer (type)                    Output Shape         Param #     Connected to                     \n",
      "==================================================================================================\n",
      "input_3 (InputLayer)            [(None, 32, 32, 3)]  0                                            \n",
      "__________________________________________________________________________________________________\n",
      "rescaling (Rescaling)           (None, 32, 32, 3)    0           input_3[0][0]                    \n",
      "__________________________________________________________________________________________________\n",
      "conv2d_6 (Conv2D)               (None, 32, 32, 32)   896         rescaling[0][0]                  \n",
      "__________________________________________________________________________________________________\n",
      "conv2d_7 (Conv2D)               (None, 32, 32, 32)   9248        conv2d_6[0][0]                   \n",
      "__________________________________________________________________________________________________\n",
      "max_pooling2d_1 (MaxPooling2D)  (None, 16, 16, 32)   0           conv2d_7[0][0]                   \n",
      "__________________________________________________________________________________________________\n",
      "conv2d_8 (Conv2D)               (None, 16, 16, 32)   128         rescaling[0][0]                  \n",
      "__________________________________________________________________________________________________\n",
      "add_2 (Add)                     (None, 16, 16, 32)   0           max_pooling2d_1[0][0]            \n",
      "                                                                 conv2d_8[0][0]                   \n",
      "__________________________________________________________________________________________________\n",
      "conv2d_9 (Conv2D)               (None, 16, 16, 64)   18496       add_2[0][0]                      \n",
      "__________________________________________________________________________________________________\n",
      "conv2d_10 (Conv2D)              (None, 16, 16, 64)   36928       conv2d_9[0][0]                   \n",
      "__________________________________________________________________________________________________\n",
      "max_pooling2d_2 (MaxPooling2D)  (None, 8, 8, 64)     0           conv2d_10[0][0]                  \n",
      "__________________________________________________________________________________________________\n",
      "conv2d_11 (Conv2D)              (None, 8, 8, 64)     2112        add_2[0][0]                      \n",
      "__________________________________________________________________________________________________\n",
      "add_3 (Add)                     (None, 8, 8, 64)     0           max_pooling2d_2[0][0]            \n",
      "                                                                 conv2d_11[0][0]                  \n",
      "__________________________________________________________________________________________________\n",
      "conv2d_12 (Conv2D)              (None, 8, 8, 128)    73856       add_3[0][0]                      \n",
      "__________________________________________________________________________________________________\n",
      "conv2d_13 (Conv2D)              (None, 8, 8, 128)    147584      conv2d_12[0][0]                  \n",
      "__________________________________________________________________________________________________\n",
      "conv2d_14 (Conv2D)              (None, 8, 8, 128)    8320        add_3[0][0]                      \n",
      "__________________________________________________________________________________________________\n",
      "add_4 (Add)                     (None, 8, 8, 128)    0           conv2d_13[0][0]                  \n",
      "                                                                 conv2d_14[0][0]                  \n",
      "__________________________________________________________________________________________________\n",
      "global_average_pooling2d (Globa (None, 128)          0           add_4[0][0]                      \n",
      "__________________________________________________________________________________________________\n",
      "dense (Dense)                   (None, 10)           1290        global_average_pooling2d[0][0]   \n",
      "==================================================================================================\n",
      "Total params: 298,858\n",
      "Trainable params: 298,858\n",
      "Non-trainable params: 0\n",
      "__________________________________________________________________________________________________\n"
     ]
    }
   ],
   "source": [
    "model.summary()"
   ]
  },
  {
   "cell_type": "markdown",
   "id": "0b681def",
   "metadata": {},
   "source": [
    "## Batch Normalization \n",
    "\n",
    "### How NOT to use batch normalization"
   ]
  },
  {
   "cell_type": "code",
   "execution_count": 5,
   "id": "556f57fb",
   "metadata": {},
   "outputs": [
    {
     "data": {
      "text/plain": [
       "<KerasTensor: shape=(None, 30, 30, 32) dtype=float32 (created by layer 'batch_normalization')>"
      ]
     },
     "execution_count": 5,
     "metadata": {},
     "output_type": "execute_result"
    }
   ],
   "source": [
    "inputs = keras.Input(shape=(32, 32, 3))\n",
    "x = layers.Conv2D(32, 3, activation=\"relu\")(inputs) # Here we acivate before the normalization, this is NOT the recommended way\n",
    "x = layers.BatchNormalization()(x)\n",
    "x"
   ]
  },
  {
   "cell_type": "markdown",
   "id": "d92f4de8",
   "metadata": {},
   "source": [
    "### How to use batch normalization: the activation comes last"
   ]
  },
  {
   "cell_type": "code",
   "execution_count": 6,
   "id": "1dcd9504",
   "metadata": {},
   "outputs": [
    {
     "data": {
      "text/plain": [
       "<KerasTensor: shape=(None, 30, 30, 32) dtype=float32 (created by layer 'activation')>"
      ]
     },
     "execution_count": 6,
     "metadata": {},
     "output_type": "execute_result"
    }
   ],
   "source": [
    "x = layers.Conv2D(32, 3, use_bias=False)(inputs)\n",
    "x = layers.BatchNormalization()(x)\n",
    "x = layers.Activation(\"relu\")(x)\n",
    "x"
   ]
  },
  {
   "cell_type": "markdown",
   "id": "eece2fba",
   "metadata": {},
   "source": [
    "## Depthwise separable convolutions"
   ]
  },
  {
   "cell_type": "code",
   "execution_count": 7,
   "id": "8dcf6546",
   "metadata": {},
   "outputs": [
    {
     "data": {
      "application/vnd.jupyter.widget-view+json": {
       "model_id": "6c8fe029f2b74320a64be528d5e5cef7",
       "version_major": 2,
       "version_minor": 0
      },
      "text/plain": [
       "VBox(children=(HTML(value='<center> <img\\nsrc=https://www.kaggle.com/static/images/site-logo.png\\nalt=\\'Kaggle…"
      ]
     },
     "metadata": {},
     "output_type": "display_data"
    }
   ],
   "source": [
    "import kagglehub\n",
    "\n",
    "kagglehub.login()\n"
   ]
  },
  {
   "cell_type": "code",
   "execution_count": 8,
   "id": "0e7e93d5",
   "metadata": {},
   "outputs": [],
   "source": [
    "import zipfile\n",
    "\n",
    "download_path = kagglehub.competition_download(\"dogs-vs-cats\")\n",
    "\n",
    "with zipfile.ZipFile(download_path + \"/train.zip\", \"r\") as zip_ref:\n",
    "    zip_ref.extractall(\".\")"
   ]
  },
  {
   "cell_type": "code",
   "execution_count": 9,
   "id": "eb293c11",
   "metadata": {},
   "outputs": [
    {
     "name": "stdout",
     "output_type": "stream",
     "text": [
      "Found 2000 files belonging to 2 classes.\n",
      "Found 1000 files belonging to 2 classes.\n",
      "Found 2000 files belonging to 2 classes.\n"
     ]
    }
   ],
   "source": [
    "import os, shutil, pathlib\n",
    "from tensorflow.keras.utils import image_dataset_from_directory\n",
    "\n",
    "original_dir = pathlib.Path(\"train\")\n",
    "new_base_dir = pathlib.Path(\"dogs_vs_cats_small\")\n",
    "\n",
    "def make_subset(subset_name, start_index, end_index):\n",
    "    # First check if original directory exists\n",
    "    if not original_dir.exists():\n",
    "        raise FileNotFoundError(f\"Original directory {original_dir} not found\")\n",
    "    \n",
    "    for category in (\"cat\", \"dog\"):\n",
    "        dir = new_base_dir / subset_name / category\n",
    "        \n",
    "        # Remove directory if it already exists to avoid conflicts\n",
    "        if dir.exists():\n",
    "            shutil.rmtree(dir)\n",
    "            \n",
    "        # Create directory and its parents\n",
    "        os.makedirs(dir, exist_ok=True)\n",
    "        \n",
    "        fnames = [f\"{category}.{i}.jpg\" for i in range(start_index, end_index)]\n",
    "        for fname in fnames:\n",
    "            src = original_dir / fname\n",
    "            dst = dir / fname\n",
    "            if not src.exists():\n",
    "                print(f\"Warning: Source file {src} not found\")\n",
    "                continue\n",
    "            shutil.copyfile(src=src, dst=dst)\n",
    "\n",
    "# Create base directory if it doesn't exist\n",
    "if new_base_dir.exists():\n",
    "    shutil.rmtree(new_base_dir)\n",
    "os.makedirs(new_base_dir)\n",
    "\n",
    "try:\n",
    "    make_subset(\"train\", start_index=0, end_index=1000)\n",
    "    make_subset(\"validation\", start_index=1000, end_index=1500)\n",
    "    make_subset(\"test\", start_index=1500, end_index=2500)\n",
    "\n",
    "    batch_size = 64\n",
    "    image_size = (180, 180)\n",
    "    \n",
    "    train_dataset = image_dataset_from_directory(\n",
    "        new_base_dir / \"train\",\n",
    "        image_size=image_size,\n",
    "        batch_size=batch_size,\n",
    "        seed=42  # Add seed for reproducibility\n",
    "    )\n",
    "    validation_dataset = image_dataset_from_directory(\n",
    "        new_base_dir / \"validation\",\n",
    "        image_size=image_size,\n",
    "        batch_size=batch_size,\n",
    "        seed=42\n",
    "    )\n",
    "    test_dataset = image_dataset_from_directory(\n",
    "        new_base_dir / \"test\",\n",
    "        image_size=image_size,\n",
    "        batch_size=batch_size,\n",
    "        seed=42\n",
    "    )\n",
    "except Exception as e:\n",
    "    print(f\"An error occurred: {str(e)}\")"
   ]
  },
  {
   "cell_type": "code",
   "execution_count": 10,
   "id": "2cc278e4",
   "metadata": {},
   "outputs": [],
   "source": [
    "import tensorflow as tf\n",
    "data_augmentation_layers = [\n",
    "    layers.RandomFlip(\"horizontal\"),\n",
    "    layers.RandomRotation(0.1),\n",
    "    layers.RandomZoom(0.2),\n",
    "]\n",
    "\n",
    "def data_augmentation(images, targets):\n",
    "    for layer in data_augmentation_layers:\n",
    "        images = layer(images)\n",
    "    return images, targets\n",
    "\n",
    "\n",
    "augmented_train_dataset = train_dataset.map(\n",
    "    data_augmentation, num_parallel_calls=tf.data.AUTOTUNE\n",
    ")"
   ]
  },
  {
   "cell_type": "code",
   "execution_count": 11,
   "id": "d98b10fc",
   "metadata": {},
   "outputs": [],
   "source": [
    "from tensorflow import keras\n",
    "\n",
    "inputs  = keras.Input(shape=(180, 180, 3))\n",
    "x = layers.Rescaling(1.0 / 255)(inputs)\n",
    "x = layers.Conv2D(filters=32, kernel_size=5, use_bias=False)(x)\n",
    "\n",
    "for size in [32, 64, 128, 256, 512]:\n",
    "    residual = x\n",
    "    \n",
    "    x = layers.BatchNormalization()(x)\n",
    "    x = layers.Activation(\"relu\")(x)\n",
    "    x = layers.SeparableConv2D(size, 3, padding=\"same\", use_bias=False)(x)\n",
    "    \n",
    "    x = layers.BatchNormalization()(x)\n",
    "    x = layers.Activation(\"relu\")(x)\n",
    "    x = layers.SeparableConv2D(size, 3, padding=\"same\", use_bias=False)(x)\n",
    "    \n",
    "    x = layers.MaxPooling2D(3, strides=2, padding=\"same\")(x)\n",
    "    \n",
    "    residual = layers.Conv2D(\n",
    "        size, 1, strides=2, padding=\"same\", use_bias=False)(residual)\n",
    "    x = layers.add([x, residual])\n",
    "    \n",
    "x = layers.GlobalAveragePooling2D()(x)\n",
    "x = layers.Dropout(0.5)(x)\n",
    "\n",
    "outputs = layers.Dense(1, activation=\"sigmoid\")(x)\n",
    "model = keras.Model(inputs=inputs, outputs=outputs)"
   ]
  },
  {
   "cell_type": "code",
   "execution_count": 12,
   "id": "cb1094c8",
   "metadata": {},
   "outputs": [],
   "source": [
    "model.compile(\n",
    "    loss=\"binary_crossentropy\",\n",
    "    optimizer=keras.optimizers.Adam(),\n",
    "    metrics=[\"accuracy\"],\n",
    ")"
   ]
  },
  {
   "cell_type": "code",
   "execution_count": 13,
   "id": "af67e779",
   "metadata": {},
   "outputs": [
    {
     "name": "stderr",
     "output_type": "stream",
     "text": [
      "2025-06-05 01:56:31.238512: I tensorflow/compiler/mlir/mlir_graph_optimization_pass.cc:185] None of the MLIR Optimization Passes are enabled (registered 2)\n",
      "2025-06-05 01:56:31.239685: W tensorflow/core/platform/profile_utils/cpu_utils.cc:128] Failed to get CPU frequency: 0 Hz\n"
     ]
    },
    {
     "name": "stdout",
     "output_type": "stream",
     "text": [
      "Epoch 1/100\n",
      "32/32 [==============================] - 58s 2s/step - loss: 0.6822 - accuracy: 0.5715 - val_loss: 0.7041 - val_accuracy: 0.5000\n",
      "Epoch 2/100\n",
      "32/32 [==============================] - 60s 2s/step - loss: 0.6624 - accuracy: 0.5980 - val_loss: 0.6979 - val_accuracy: 0.5000\n",
      "Epoch 3/100\n",
      "32/32 [==============================] - 65s 2s/step - loss: 0.6380 - accuracy: 0.6200 - val_loss: 0.6935 - val_accuracy: 0.5000\n",
      "Epoch 4/100\n",
      "32/32 [==============================] - 67s 2s/step - loss: 0.6162 - accuracy: 0.6540 - val_loss: 0.6998 - val_accuracy: 0.5000\n",
      "Epoch 5/100\n",
      "32/32 [==============================] - 67s 2s/step - loss: 0.6133 - accuracy: 0.6550 - val_loss: 0.6926 - val_accuracy: 0.5000\n",
      "Epoch 6/100\n",
      "32/32 [==============================] - 63s 2s/step - loss: 0.5825 - accuracy: 0.6955 - val_loss: 0.7035 - val_accuracy: 0.5000\n",
      "Epoch 7/100\n",
      "32/32 [==============================] - 65s 2s/step - loss: 0.5640 - accuracy: 0.7090 - val_loss: 0.6972 - val_accuracy: 0.5000\n",
      "Epoch 8/100\n",
      "32/32 [==============================] - 62s 2s/step - loss: 0.5427 - accuracy: 0.7260 - val_loss: 0.7428 - val_accuracy: 0.5000\n",
      "Epoch 9/100\n",
      "32/32 [==============================] - 61s 2s/step - loss: 0.5372 - accuracy: 0.7415 - val_loss: 0.7461 - val_accuracy: 0.5000\n",
      "Epoch 10/100\n",
      "32/32 [==============================] - 57s 2s/step - loss: 0.5172 - accuracy: 0.7500 - val_loss: 0.7456 - val_accuracy: 0.5000\n",
      "Epoch 11/100\n",
      "32/32 [==============================] - 55s 2s/step - loss: 0.4986 - accuracy: 0.7565 - val_loss: 0.7362 - val_accuracy: 0.5010\n",
      "Epoch 12/100\n",
      "32/32 [==============================] - 58s 2s/step - loss: 0.5152 - accuracy: 0.7475 - val_loss: 0.7745 - val_accuracy: 0.5110\n",
      "Epoch 13/100\n",
      "32/32 [==============================] - 58s 2s/step - loss: 0.4694 - accuracy: 0.7795 - val_loss: 0.9123 - val_accuracy: 0.5010\n",
      "Epoch 14/100\n",
      "32/32 [==============================] - 55s 2s/step - loss: 0.4526 - accuracy: 0.7885 - val_loss: 0.9390 - val_accuracy: 0.5550\n",
      "Epoch 15/100\n",
      "32/32 [==============================] - 56s 2s/step - loss: 0.4577 - accuracy: 0.7850 - val_loss: 0.8168 - val_accuracy: 0.5550\n",
      "Epoch 16/100\n",
      "32/32 [==============================] - 56s 2s/step - loss: 0.4188 - accuracy: 0.8120 - val_loss: 0.6523 - val_accuracy: 0.6630\n",
      "Epoch 17/100\n",
      "32/32 [==============================] - 56s 2s/step - loss: 0.4226 - accuracy: 0.8030 - val_loss: 0.6169 - val_accuracy: 0.6600\n",
      "Epoch 18/100\n",
      "32/32 [==============================] - 55s 2s/step - loss: 0.4387 - accuracy: 0.8025 - val_loss: 0.7268 - val_accuracy: 0.6090\n",
      "Epoch 19/100\n",
      "32/32 [==============================] - 56s 2s/step - loss: 0.3909 - accuracy: 0.8225 - val_loss: 0.5904 - val_accuracy: 0.7000\n",
      "Epoch 20/100\n",
      "32/32 [==============================] - 57s 2s/step - loss: 0.4038 - accuracy: 0.8125 - val_loss: 0.4589 - val_accuracy: 0.7890\n",
      "Epoch 21/100\n",
      "32/32 [==============================] - 53s 2s/step - loss: 0.4118 - accuracy: 0.8140 - val_loss: 0.9114 - val_accuracy: 0.5760\n",
      "Epoch 22/100\n",
      "32/32 [==============================] - 57s 2s/step - loss: 0.3817 - accuracy: 0.8350 - val_loss: 0.4409 - val_accuracy: 0.8050\n",
      "Epoch 23/100\n",
      "32/32 [==============================] - 58s 2s/step - loss: 0.3589 - accuracy: 0.8445 - val_loss: 0.4478 - val_accuracy: 0.7990\n",
      "Epoch 24/100\n",
      "32/32 [==============================] - 55s 2s/step - loss: 0.3773 - accuracy: 0.8345 - val_loss: 0.5522 - val_accuracy: 0.7580\n",
      "Epoch 25/100\n",
      "32/32 [==============================] - 57s 2s/step - loss: 0.3495 - accuracy: 0.8430 - val_loss: 0.8586 - val_accuracy: 0.7060\n",
      "Epoch 26/100\n",
      "32/32 [==============================] - 54s 2s/step - loss: 0.3959 - accuracy: 0.8280 - val_loss: 0.5615 - val_accuracy: 0.7280\n",
      "Epoch 27/100\n",
      "32/32 [==============================] - 54s 2s/step - loss: 0.3285 - accuracy: 0.8530 - val_loss: 0.5969 - val_accuracy: 0.7420\n",
      "Epoch 28/100\n",
      "32/32 [==============================] - 58s 2s/step - loss: 0.3322 - accuracy: 0.8490 - val_loss: 0.6242 - val_accuracy: 0.7190\n",
      "Epoch 29/100\n",
      "32/32 [==============================] - 55s 2s/step - loss: 0.3246 - accuracy: 0.8610 - val_loss: 0.8157 - val_accuracy: 0.7480\n",
      "Epoch 30/100\n",
      "32/32 [==============================] - 55s 2s/step - loss: 0.3090 - accuracy: 0.8695 - val_loss: 0.4856 - val_accuracy: 0.7910\n",
      "Epoch 31/100\n",
      "32/32 [==============================] - 56s 2s/step - loss: 0.3225 - accuracy: 0.8635 - val_loss: 0.5357 - val_accuracy: 0.7760\n",
      "Epoch 32/100\n",
      "32/32 [==============================] - 54s 2s/step - loss: 0.3187 - accuracy: 0.8625 - val_loss: 0.4774 - val_accuracy: 0.8060\n",
      "Epoch 33/100\n",
      "32/32 [==============================] - 53s 2s/step - loss: 0.2926 - accuracy: 0.8710 - val_loss: 0.4858 - val_accuracy: 0.7830\n",
      "Epoch 34/100\n",
      "32/32 [==============================] - 55s 2s/step - loss: 0.2745 - accuracy: 0.8825 - val_loss: 0.4877 - val_accuracy: 0.8010\n",
      "Epoch 35/100\n",
      "32/32 [==============================] - 55s 2s/step - loss: 0.2965 - accuracy: 0.8665 - val_loss: 0.3907 - val_accuracy: 0.8390\n",
      "Epoch 36/100\n",
      "32/32 [==============================] - 56s 2s/step - loss: 0.2740 - accuracy: 0.8830 - val_loss: 0.7970 - val_accuracy: 0.7350\n",
      "Epoch 37/100\n",
      "32/32 [==============================] - 61s 2s/step - loss: 0.2792 - accuracy: 0.8810 - val_loss: 0.4086 - val_accuracy: 0.8250\n",
      "Epoch 38/100\n",
      "32/32 [==============================] - 56s 2s/step - loss: 0.2497 - accuracy: 0.8895 - val_loss: 0.4262 - val_accuracy: 0.8330\n",
      "Epoch 39/100\n",
      "32/32 [==============================] - 55s 2s/step - loss: 0.2497 - accuracy: 0.8980 - val_loss: 0.4096 - val_accuracy: 0.8210\n",
      "Epoch 40/100\n",
      "32/32 [==============================] - 56s 2s/step - loss: 0.2640 - accuracy: 0.8865 - val_loss: 0.4482 - val_accuracy: 0.8130\n",
      "Epoch 41/100\n",
      "32/32 [==============================] - 59s 2s/step - loss: 0.2611 - accuracy: 0.8895 - val_loss: 0.5606 - val_accuracy: 0.8070\n",
      "Epoch 42/100\n",
      "32/32 [==============================] - 63s 2s/step - loss: 0.2726 - accuracy: 0.8870 - val_loss: 0.8870 - val_accuracy: 0.7400\n",
      "Epoch 43/100\n",
      "32/32 [==============================] - 61s 2s/step - loss: 0.2708 - accuracy: 0.8790 - val_loss: 0.4018 - val_accuracy: 0.8430\n",
      "Epoch 44/100\n",
      "32/32 [==============================] - 53s 2s/step - loss: 0.2192 - accuracy: 0.9035 - val_loss: 0.3628 - val_accuracy: 0.8460\n",
      "Epoch 45/100\n",
      "32/32 [==============================] - 53s 2s/step - loss: 0.2121 - accuracy: 0.9105 - val_loss: 0.3605 - val_accuracy: 0.8620\n",
      "Epoch 46/100\n",
      "32/32 [==============================] - 58s 2s/step - loss: 0.2059 - accuracy: 0.9235 - val_loss: 0.4125 - val_accuracy: 0.8360\n",
      "Epoch 47/100\n",
      "32/32 [==============================] - 53s 2s/step - loss: 0.2025 - accuracy: 0.9165 - val_loss: 0.6188 - val_accuracy: 0.7700\n",
      "Epoch 48/100\n",
      "32/32 [==============================] - 53s 2s/step - loss: 0.2127 - accuracy: 0.9115 - val_loss: 0.4367 - val_accuracy: 0.8240\n",
      "Epoch 49/100\n",
      "32/32 [==============================] - 54s 2s/step - loss: 0.2327 - accuracy: 0.9035 - val_loss: 0.8811 - val_accuracy: 0.7160\n",
      "Epoch 50/100\n",
      "32/32 [==============================] - 56s 2s/step - loss: 0.2051 - accuracy: 0.9170 - val_loss: 0.7142 - val_accuracy: 0.7230\n",
      "Epoch 51/100\n",
      "32/32 [==============================] - 52s 2s/step - loss: 0.1877 - accuracy: 0.9170 - val_loss: 0.3696 - val_accuracy: 0.8610\n",
      "Epoch 52/100\n",
      "32/32 [==============================] - 54s 2s/step - loss: 0.1988 - accuracy: 0.9175 - val_loss: 1.6125 - val_accuracy: 0.6590\n",
      "Epoch 53/100\n",
      "32/32 [==============================] - 52s 2s/step - loss: 0.1906 - accuracy: 0.9210 - val_loss: 0.3754 - val_accuracy: 0.8470\n",
      "Epoch 54/100\n",
      "32/32 [==============================] - 51s 2s/step - loss: 0.1716 - accuracy: 0.9280 - val_loss: 0.4932 - val_accuracy: 0.8170\n",
      "Epoch 55/100\n",
      "32/32 [==============================] - 51s 2s/step - loss: 0.1791 - accuracy: 0.9295 - val_loss: 0.4669 - val_accuracy: 0.8440\n",
      "Epoch 56/100\n",
      "32/32 [==============================] - 50s 2s/step - loss: 0.1708 - accuracy: 0.9280 - val_loss: 0.8797 - val_accuracy: 0.7360\n",
      "Epoch 57/100\n",
      "32/32 [==============================] - 52s 2s/step - loss: 0.1977 - accuracy: 0.9180 - val_loss: 0.3861 - val_accuracy: 0.8500\n",
      "Epoch 58/100\n",
      "32/32 [==============================] - 51s 2s/step - loss: 0.2033 - accuracy: 0.9150 - val_loss: 0.4541 - val_accuracy: 0.8150\n",
      "Epoch 59/100\n",
      "32/32 [==============================] - 51s 2s/step - loss: 0.1935 - accuracy: 0.9255 - val_loss: 0.4441 - val_accuracy: 0.8490\n",
      "Epoch 60/100\n",
      "32/32 [==============================] - 51s 2s/step - loss: 0.1938 - accuracy: 0.9145 - val_loss: 1.4791 - val_accuracy: 0.5850\n",
      "Epoch 61/100\n",
      "32/32 [==============================] - 51s 2s/step - loss: 0.1792 - accuracy: 0.9290 - val_loss: 0.5175 - val_accuracy: 0.8250\n",
      "Epoch 62/100\n",
      "32/32 [==============================] - 52s 2s/step - loss: 0.1651 - accuracy: 0.9345 - val_loss: 0.6388 - val_accuracy: 0.8090\n",
      "Epoch 63/100\n",
      "32/32 [==============================] - 51s 2s/step - loss: 0.1533 - accuracy: 0.9405 - val_loss: 0.4067 - val_accuracy: 0.8590\n",
      "Epoch 64/100\n",
      "32/32 [==============================] - 51s 2s/step - loss: 0.1517 - accuracy: 0.9420 - val_loss: 0.9540 - val_accuracy: 0.7480\n",
      "Epoch 65/100\n",
      "32/32 [==============================] - 51s 2s/step - loss: 0.1618 - accuracy: 0.9345 - val_loss: 0.3913 - val_accuracy: 0.8580\n",
      "Epoch 66/100\n",
      "32/32 [==============================] - 51s 2s/step - loss: 0.1528 - accuracy: 0.9390 - val_loss: 0.3803 - val_accuracy: 0.8540\n",
      "Epoch 67/100\n",
      "32/32 [==============================] - 50s 2s/step - loss: 0.1481 - accuracy: 0.9425 - val_loss: 0.4107 - val_accuracy: 0.8530\n",
      "Epoch 68/100\n",
      "32/32 [==============================] - 50s 2s/step - loss: 0.1491 - accuracy: 0.9400 - val_loss: 0.4479 - val_accuracy: 0.8670\n",
      "Epoch 69/100\n",
      "32/32 [==============================] - 50s 2s/step - loss: 0.1430 - accuracy: 0.9475 - val_loss: 0.7731 - val_accuracy: 0.7820\n",
      "Epoch 70/100\n",
      "32/32 [==============================] - 50s 2s/step - loss: 0.1469 - accuracy: 0.9390 - val_loss: 0.4224 - val_accuracy: 0.8600\n",
      "Epoch 71/100\n",
      "32/32 [==============================] - 50s 2s/step - loss: 0.1452 - accuracy: 0.9395 - val_loss: 0.4454 - val_accuracy: 0.8360\n",
      "Epoch 72/100\n",
      "32/32 [==============================] - 50s 2s/step - loss: 0.1339 - accuracy: 0.9455 - val_loss: 0.3915 - val_accuracy: 0.8610\n",
      "Epoch 73/100\n",
      "32/32 [==============================] - 50s 2s/step - loss: 0.1234 - accuracy: 0.9510 - val_loss: 0.3997 - val_accuracy: 0.8580\n",
      "Epoch 74/100\n",
      "32/32 [==============================] - 50s 2s/step - loss: 0.1102 - accuracy: 0.9585 - val_loss: 0.4257 - val_accuracy: 0.8720\n",
      "Epoch 75/100\n",
      "32/32 [==============================] - 51s 2s/step - loss: 0.1203 - accuracy: 0.9525 - val_loss: 0.8960 - val_accuracy: 0.7550\n",
      "Epoch 76/100\n",
      "32/32 [==============================] - 51s 2s/step - loss: 0.1321 - accuracy: 0.9510 - val_loss: 0.3362 - val_accuracy: 0.8700\n",
      "Epoch 77/100\n",
      "32/32 [==============================] - 50s 2s/step - loss: 0.1730 - accuracy: 0.9275 - val_loss: 0.3810 - val_accuracy: 0.8650\n",
      "Epoch 78/100\n",
      "32/32 [==============================] - 51s 2s/step - loss: 0.1419 - accuracy: 0.9340 - val_loss: 0.4609 - val_accuracy: 0.8300\n",
      "Epoch 79/100\n",
      "32/32 [==============================] - 51s 2s/step - loss: 0.1215 - accuracy: 0.9515 - val_loss: 0.3480 - val_accuracy: 0.8780\n",
      "Epoch 80/100\n",
      "32/32 [==============================] - 51s 2s/step - loss: 0.1068 - accuracy: 0.9530 - val_loss: 0.5038 - val_accuracy: 0.8500\n",
      "Epoch 81/100\n",
      "32/32 [==============================] - 50s 2s/step - loss: 0.0898 - accuracy: 0.9680 - val_loss: 0.6021 - val_accuracy: 0.8340\n",
      "Epoch 82/100\n",
      "32/32 [==============================] - 50s 2s/step - loss: 0.0996 - accuracy: 0.9600 - val_loss: 0.3590 - val_accuracy: 0.8860\n",
      "Epoch 83/100\n",
      "32/32 [==============================] - 51s 2s/step - loss: 0.1171 - accuracy: 0.9495 - val_loss: 0.5328 - val_accuracy: 0.8480\n",
      "Epoch 84/100\n",
      "32/32 [==============================] - 51s 2s/step - loss: 0.1130 - accuracy: 0.9580 - val_loss: 0.3678 - val_accuracy: 0.8730\n",
      "Epoch 85/100\n",
      "32/32 [==============================] - 51s 2s/step - loss: 0.1075 - accuracy: 0.9605 - val_loss: 0.4957 - val_accuracy: 0.8580\n",
      "Epoch 86/100\n",
      "32/32 [==============================] - 52s 2s/step - loss: 0.1149 - accuracy: 0.9545 - val_loss: 0.5209 - val_accuracy: 0.8600\n",
      "Epoch 87/100\n",
      "32/32 [==============================] - 52s 2s/step - loss: 0.1180 - accuracy: 0.9550 - val_loss: 0.7517 - val_accuracy: 0.7950\n",
      "Epoch 88/100\n",
      "32/32 [==============================] - 52s 2s/step - loss: 0.0980 - accuracy: 0.9635 - val_loss: 0.5340 - val_accuracy: 0.8310\n",
      "Epoch 89/100\n",
      "32/32 [==============================] - 50s 2s/step - loss: 0.1073 - accuracy: 0.9620 - val_loss: 0.8175 - val_accuracy: 0.7790\n",
      "Epoch 90/100\n",
      "32/32 [==============================] - 51s 2s/step - loss: 0.0847 - accuracy: 0.9640 - val_loss: 0.5395 - val_accuracy: 0.8300\n",
      "Epoch 91/100\n",
      "32/32 [==============================] - 50s 2s/step - loss: 0.1077 - accuracy: 0.9560 - val_loss: 0.5981 - val_accuracy: 0.8220\n",
      "Epoch 92/100\n",
      "32/32 [==============================] - 50s 2s/step - loss: 0.0939 - accuracy: 0.9625 - val_loss: 0.4566 - val_accuracy: 0.8750\n",
      "Epoch 93/100\n",
      "32/32 [==============================] - 51s 2s/step - loss: 0.0852 - accuracy: 0.9665 - val_loss: 0.4775 - val_accuracy: 0.8510\n",
      "Epoch 94/100\n",
      "32/32 [==============================] - 50s 2s/step - loss: 0.0802 - accuracy: 0.9700 - val_loss: 0.3636 - val_accuracy: 0.8840\n",
      "Epoch 95/100\n",
      "32/32 [==============================] - 50s 2s/step - loss: 0.0784 - accuracy: 0.9720 - val_loss: 0.3924 - val_accuracy: 0.8830\n",
      "Epoch 96/100\n",
      "32/32 [==============================] - 50s 2s/step - loss: 0.0776 - accuracy: 0.9695 - val_loss: 0.9974 - val_accuracy: 0.7700\n",
      "Epoch 97/100\n",
      "32/32 [==============================] - 50s 2s/step - loss: 0.0725 - accuracy: 0.9715 - val_loss: 0.4502 - val_accuracy: 0.8480\n",
      "Epoch 98/100\n",
      "32/32 [==============================] - 50s 2s/step - loss: 0.0953 - accuracy: 0.9645 - val_loss: 0.4779 - val_accuracy: 0.8750\n",
      "Epoch 99/100\n",
      "32/32 [==============================] - 50s 2s/step - loss: 0.0899 - accuracy: 0.9645 - val_loss: 0.3790 - val_accuracy: 0.8980\n",
      "Epoch 100/100\n",
      "32/32 [==============================] - 51s 2s/step - loss: 0.0898 - accuracy: 0.9665 - val_loss: 0.5474 - val_accuracy: 0.8530\n"
     ]
    }
   ],
   "source": [
    "history = model.fit(\n",
    "    augmented_train_dataset,\n",
    "    epochs=100,\n",
    "    validation_data=validation_dataset,\n",
    ")"
   ]
  },
  {
   "cell_type": "code",
   "execution_count": 14,
   "id": "f3d780e3",
   "metadata": {},
   "outputs": [
    {
     "data": {
      "image/png": "[encoded data removed]",
      "text/plain": [
       "<Figure size 640x480 with 1 Axes>"
      ]
     },
     "metadata": {},
     "output_type": "display_data"
    },
    {
     "data": {
      "image/png": "[encoded data removed]",
      "text/plain": [
       "<Figure size 640x480 with 1 Axes>"
      ]
     },
     "metadata": {},
     "output_type": "display_data"
    }
   ],
   "source": [
    "import matplotlib.pyplot as plt\n",
    "accuracy = history.history['accuracy']\n",
    "val_accuracy = history.history['val_accuracy']\n",
    "loss = history.history['loss']\n",
    "val_loss = history.history['val_loss']\n",
    "epochs = range(1, len(accuracy) + 1)\n",
    "plt.plot(epochs, accuracy, 'ro', label='Training accuracy')\n",
    "plt.plot(epochs, val_accuracy, 'b', label='Validation accuracy')\n",
    "plt.title('Training and validation accuracy')\n",
    "plt.legend()\n",
    "plt.figure()\n",
    "plt.plot(epochs, loss, 'ro', label='Training loss')\n",
    "plt.plot(epochs, val_loss, 'b', label='Validation loss')\n",
    "plt.title('Training and validation loss')\n",
    "plt.legend()\n",
    "plt.show()"
   ]
  }
 ],
 "metadata": {
  "kernelspec": {
   "display_name": "default",
   "language": "python",
   "name": "python3"
  },
  "language_info": {
   "codemirror_mode": {
    "name": "ipython",
    "version": 3
   },
   "file_extension": ".py",
   "mimetype": "text/x-python",
   "name": "python",
   "nbconvert_exporter": "python",
   "pygments_lexer": "ipython3",
   "version": "3.9.15"
  }
 },
 "nbformat": 4,
 "nbformat_minor": 5
}
