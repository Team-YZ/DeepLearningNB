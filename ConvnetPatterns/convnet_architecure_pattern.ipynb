{
 "cells": [
  {
   "cell_type": "markdown",
   "id": "f9f26245",
   "metadata": {},
   "source": [
    "# Convnet Architecure Patterns\n",
    "\n",
    "\n",
    "## Residual Connections\n",
    "\n",
    "### Case where the tagret block changes the number of output filters"
   ]
  },
  {
   "cell_type": "code",
   "execution_count": null,
   "id": "ae9706c4",
   "metadata": {},
   "outputs": [],
   "source": [
    "from tensorflow import keras\n",
    "from keras import layers\n",
    "\n",
    "inputs = keras.Input(shape=(32, 32, 3))\n",
    "x = layers.Conv2D(32, 3, activation=\"relu\")(inputs)\n",
    "residual = x\n",
    "x = layers.Conv2D(64, 3, activation=\"relu\", padding=\"same\")(x)\n",
    "residual = layers.Conv2D(64, 1)(residual)\n",
    "x = layers.add([x, residual])\n",
    "x\n"
   ]
  },
  {
   "cell_type": "markdown",
   "id": "ee727b7c",
   "metadata": {},
   "source": [
    "### Case where the target block includes a max pooling layer"
   ]
  },
  {
   "cell_type": "code",
   "execution_count": null,
   "id": "b1dd3a73",
   "metadata": {},
   "outputs": [],
   "source": [
    "inputs = keras.Input(shape=(32, 32, 3))\n",
    "x = layers.Conv2D(32, 3, activation=\"relu\")(inputs)\n",
    "residual = x\n",
    "x = layers.Conv2D(64, 3, activation=\"relu\", padding=\"same\")(x)\n",
    "x = layers.MaxPool2D(2, padding=\"same\")(x)\n",
    "residual = layers.Conv2D(64, 1, strides=2)(residual)\n",
    "x = layers.add([x, residual])\n",
    "x"
   ]
  },
  {
   "cell_type": "code",
   "execution_count": null,
   "id": "26d82949",
   "metadata": {},
   "outputs": [],
   "source": [
    "inputs = keras.Input(shape=(32, 32, 3))\n",
    "x = layers.Rescaling(1.0/255)(inputs)\n",
    "\n",
    "def residual_blocks(x, filters, pooling=False):\n",
    "    residual = x\n",
    "    x = layers.Conv2D(filters, 3, activation=\"relu\", padding=\"same\")(x)\n",
    "    x = layers.Conv2D(filters, 3, activation=\"relu\", padding=\"same\")(x)\n",
    "    if pooling:\n",
    "        x = layers.MaxPool2D(2, padding=\"same\")(x)\n",
    "        residual = layers.Conv2D(filters, 1, strides=2)(residual)\n",
    "    elif filters != residual.shape[-1]:\n",
    "        residual = layers.Conv2D(filters, 1)(residual)\n",
    "    x = layers.add([x, residual])\n",
    "    return x\n",
    "\n",
    "x = residual_blocks(x, 32, True)\n",
    "x = residual_blocks(x, 64, True)\n",
    "x = residual_blocks(x, 128, False)\n",
    "\n",
    "x = layers.GlobalAveragePooling2D()(x)\n",
    "outputs = layers.Dense(10, activation=\"sigmoid\")(x)\n",
    "model = keras.Model(inputs, outputs)"
   ]
  },
  {
   "cell_type": "code",
   "execution_count": null,
   "id": "f49fa546",
   "metadata": {},
   "outputs": [],
   "source": [
    "model.summary()"
   ]
  },
  {
   "cell_type": "markdown",
   "id": "0b681def",
   "metadata": {},
   "source": [
    "## Batch Normalization \n",
    "\n",
    "### How NOT to use batch normalization"
   ]
  },
  {
   "cell_type": "code",
   "execution_count": null,
   "id": "556f57fb",
   "metadata": {},
   "outputs": [],
   "source": [
    "inputs = keras.Input(shape=(32, 32, 3))\n",
    "x = layers.Conv2D(32, 3, activation=\"relu\")(inputs) # Here we acivate before the normalization, this is NOT the recommended way\n",
    "x = layers.BatchNormalization()(x)\n",
    "x"
   ]
  },
  {
   "cell_type": "markdown",
   "id": "d92f4de8",
   "metadata": {},
   "source": [
    "### How to use batch normalization: the activation comes last"
   ]
  },
  {
   "cell_type": "code",
   "execution_count": null,
   "id": "1dcd9504",
   "metadata": {},
   "outputs": [],
   "source": [
    "x = layers.Conv2D(32, 3, use_bias=False)(inputs)\n",
    "x = layers.BatchNormalization()(x)\n",
    "x = layers.Activation(\"relu\")(x)\n",
    "x"
   ]
  },
  {
   "cell_type": "markdown",
   "id": "eece2fba",
   "metadata": {},
   "source": [
    "## Depthwise separable convolutions"
   ]
  },
  {
   "cell_type": "code",
   "execution_count": null,
   "id": "8dcf6546",
   "metadata": {},
   "outputs": [],
   "source": [
    "import kagglehub\n",
    "\n",
    "kagglehub.login()\n"
   ]
  },
  {
   "cell_type": "code",
   "execution_count": null,
   "id": "0e7e93d5",
   "metadata": {},
   "outputs": [],
   "source": [
    "import zipfile\n",
    "\n",
    "download_path = kagglehub.competition_download(\"dogs-vs-cats\")\n",
    "\n",
    "with zipfile.ZipFile(download_path + \"/train.zip\", \"r\") as zip_ref:\n",
    "    zip_ref.extractall(\".\")"
   ]
  },
  {
   "cell_type": "code",
   "execution_count": null,
   "id": "eb293c11",
   "metadata": {},
   "outputs": [],
   "source": [
    "import os, shutil, pathlib\n",
    "from tensorflow.keras.utils import image_dataset_from_directory\n",
    "\n",
    "original_dir = pathlib.Path(\"train\")\n",
    "new_base_dir = pathlib.Path(\"dogs_vs_cats_small\")\n",
    "\n",
    "def make_subset(subset_name, start_index, end_index):\n",
    "    # First check if original directory exists\n",
    "    if not original_dir.exists():\n",
    "        raise FileNotFoundError(f\"Original directory {original_dir} not found\")\n",
    "    \n",
    "    for category in (\"cat\", \"dog\"):\n",
    "        dir = new_base_dir / subset_name / category\n",
    "        \n",
    "        # Remove directory if it already exists to avoid conflicts\n",
    "        if dir.exists():\n",
    "            shutil.rmtree(dir)\n",
    "            \n",
    "        # Create directory and its parents\n",
    "        os.makedirs(dir, exist_ok=True)\n",
    "        \n",
    "        fnames = [f\"{category}.{i}.jpg\" for i in range(start_index, end_index)]\n",
    "        for fname in fnames:\n",
    "            src = original_dir / fname\n",
    "            dst = dir / fname\n",
    "            if not src.exists():\n",
    "                print(f\"Warning: Source file {src} not found\")\n",
    "                continue\n",
    "            shutil.copyfile(src=src, dst=dst)\n",
    "\n",
    "# Create base directory if it doesn't exist\n",
    "if new_base_dir.exists():\n",
    "    shutil.rmtree(new_base_dir)\n",
    "os.makedirs(new_base_dir)\n",
    "\n",
    "try:\n",
    "    make_subset(\"train\", start_index=0, end_index=1000)\n",
    "    make_subset(\"validation\", start_index=1000, end_index=1500)\n",
    "    make_subset(\"test\", start_index=1500, end_index=2500)\n",
    "\n",
    "    batch_size = 64\n",
    "    image_size = (180, 180)\n",
    "    \n",
    "    train_dataset = image_dataset_from_directory(\n",
    "        new_base_dir / \"train\",\n",
    "        image_size=image_size,\n",
    "        batch_size=batch_size,\n",
    "        seed=42  # Add seed for reproducibility\n",
    "    )\n",
    "    validation_dataset = image_dataset_from_directory(\n",
    "        new_base_dir / \"validation\",\n",
    "        image_size=image_size,\n",
    "        batch_size=batch_size,\n",
    "        seed=42\n",
    "    )\n",
    "    test_dataset = image_dataset_from_directory(\n",
    "        new_base_dir / \"test\",\n",
    "        image_size=image_size,\n",
    "        batch_size=batch_size,\n",
    "        seed=42\n",
    "    )\n",
    "except Exception as e:\n",
    "    print(f\"An error occurred: {str(e)}\")"
   ]
  },
  {
   "cell_type": "code",
   "execution_count": null,
   "id": "2cc278e4",
   "metadata": {},
   "outputs": [],
   "source": [
    "import tensorflow as tf\n",
    "data_augmentation_layers = [\n",
    "    layers.RandomFlip(\"horizontal\"),\n",
    "    layers.RandomRotation(0.1),\n",
    "    layers.RandomZoom(0.2),\n",
    "]\n",
    "\n",
    "def data_augmentation(images, targets):\n",
    "    for layer in data_augmentation_layers:\n",
    "        images = layer(images)\n",
    "    return images, targets\n",
    "\n",
    "\n",
    "augmented_train_dataset = train_dataset.map(\n",
    "    data_augmentation, num_parallel_calls=tf.data.AUTOTUNE\n",
    ")"
   ]
  },
  {
   "cell_type": "code",
   "execution_count": null,
   "id": "d98b10fc",
   "metadata": {},
   "outputs": [],
   "source": [
    "from tensorflow import keras\n",
    "\n",
    "inputs  = keras.Input(shape=(180, 180, 3))\n",
    "x = layers.Rescaling(1.0 / 255)(inputs)\n",
    "x = layers.Conv2D(filters=32, kernel_size=5, use_bias=False)(x)\n",
    "\n",
    "for size in [32, 64, 128, 256, 512]:\n",
    "    residual = x\n",
    "    \n",
    "    x = layers.BatchNormalization()(x)\n",
    "    x = layers.Activation(\"relu\")(x)\n",
    "    x = layers.SeparableConv2D(size, 3, padding=\"same\", use_bias=False)(x)\n",
    "    \n",
    "    x = layers.BatchNormalization()(x)\n",
    "    x = layers.Activation(\"relu\")(x)\n",
    "    x = layers.SeparableConv2D(size, 3, padding=\"same\", use_bias=False)(x)\n",
    "    \n",
    "    x = layers.MaxPooling2D(3, strides=2, padding=\"same\")(x)\n",
    "    \n",
    "    residual = layers.Conv2D(\n",
    "        size, 1, strides=2, padding=\"same\", use_bias=False)(residual)\n",
    "    x = layers.add([x, residual])\n",
    "    \n",
    "x = layers.GlobalAveragePooling2D()(x)\n",
    "x = layers.Dropout(0.5)(x)\n",
    "\n",
    "outputs = layers.Dense(1, activation=\"sigmoid\")(x)\n",
    "model = keras.Model(inputs=inputs, outputs=outputs)"
   ]
  },
  {
   "cell_type": "code",
   "execution_count": null,
   "id": "cb1094c8",
   "metadata": {},
   "outputs": [],
   "source": [
    "model.compile(\n",
    "    loss=\"binary_crossentropy\",\n",
    "    optimizer=keras.optimizers.Adam(),\n",
    "    metrics=[\"accuracy\"],\n",
    ")"
   ]
  },
  {
   "cell_type": "code",
   "execution_count": null,
   "id": "af67e779",
   "metadata": {},
   "outputs": [],
   "source": [
    "history = model.fit(\n",
    "    augmented_train_dataset,\n",
    "    epochs=100,\n",
    "    validation_data=validation_dataset,\n",
    ")"
   ]
  },
  {
   "cell_type": "code",
   "execution_count": null,
   "id": "f3d780e3",
   "metadata": {},
   "outputs": [],
   "source": [
    "import matplotlib.pyplot as plt\n",
    "accuracy = history.history['accuracy']\n",
    "val_accuracy = history.history['val_accuracy']\n",
    "loss = history.history['loss']\n",
    "val_loss = history.history['val_loss']\n",
    "epochs = range(1, len(accuracy) + 1)\n",
    "plt.plot(epochs, accuracy, 'ro', label='Training accuracy')\n",
    "plt.plot(epochs, val_accuracy, 'b', label='Validation accuracy')\n",
    "plt.title('Training and validation accuracy')\n",
    "plt.legend()\n",
    "plt.figure()\n",
    "plt.plot(epochs, loss, 'ro', label='Training loss')\n",
    "plt.plot(epochs, val_loss, 'b', label='Validation loss')\n",
    "plt.title('Training and validation loss')\n",
    "plt.legend()\n",
    "plt.show()"
   ]
  }
 ],
 "metadata": {
  "kernelspec": {
   "display_name": "default",
   "language": "python",
   "name": "python3"
  },
  "language_info": {
   "codemirror_mode": {
    "name": "ipython",
    "version": 3
   },
   "file_extension": ".py",
   "mimetype": "text/x-python",
   "name": "python",
   "nbconvert_exporter": "python",
   "pygments_lexer": "ipython3",
   "version": "3.9.15"
  }
 },
 "nbformat": 4,
 "nbformat_minor": 5
}
